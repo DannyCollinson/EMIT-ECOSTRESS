{
  "nbformat": 4,
  "nbformat_minor": 0,
  "metadata": {
    "colab": {
      "provenance": [],
      "mount_file_id": "1yB8OLFruJTJQNKR05g4W_DLXA6JM2nqT",
      "authorship_tag": "ABX9TyOVI5eTxais2Izk4MaidEOD",
      "include_colab_link": true
    },
    "kernelspec": {
      "name": "python3",
      "display_name": "Python 3"
    },
    "language_info": {
      "name": "python"
    }
  },
  "cells": [
    {
      "cell_type": "markdown",
      "metadata": {
        "id": "view-in-github",
        "colab_type": "text"
      },
      "source": [
        "<a href=\"https://colab.research.google.com/github/DannyCollinson/EMIT-ECOSTRESS/blob/Data/Data_Cleaning.ipynb\" target=\"_parent\"><img src=\"https://colab.research.google.com/assets/colab-badge.svg\" alt=\"Open In Colab\"/></a>"
      ]
    },
    {
      "cell_type": "code",
      "execution_count": null,
      "metadata": {
        "id": "W9m0VUagsDHG"
      },
      "outputs": [],
      "source": [
        "import pickle\n",
        "\n",
        "import numpy as np\n",
        "import matplotlib.pyplot as plt"
      ]
    },
    {
      "cell_type": "code",
      "source": [
        "emit_num = '003'\n",
        "ecostress_tag = 'SLT'\n",
        "emit_path = f'/content/drive/Shareddrives/emit-ecostress/Data/02_Resampling_ECOSTRESS_EMIT_Matchup/emit_{emit_num}x{ecostress_tag}_unclean.pkl'\n",
        "ecostress_path = f'/content/drive/Shareddrives/emit-ecostress/Data/02_Resampling_ECOSTRESS_EMIT_Matchup/ecostress_{emit_num}x{ecostress_tag}_unclean.pkl'\n",
        "emit_out_path = f'/content/drive/Shareddrives/emit-ecostress/Data/02_Resampling_ECOSTRESS_EMIT_Matchup/emit_{emit_num}x{ecostress_tag}_clean.pkl'\n",
        "ecostress_out_path = f'/content/drive/Shareddrives/emit-ecostress/Data/02_Resampling_ECOSTRESS_EMIT_Matchup/ecostress_{emit_num}x{ecostress_tag}_clean.pkl'"
      ],
      "metadata": {
        "id": "BmQxSFqRsQKd"
      },
      "execution_count": null,
      "outputs": []
    },
    {
      "cell_type": "code",
      "source": [
        "emit = pickle.load(open(emit_path, 'rb'))\n",
        "eco = pickle.load(open(ecostress_path, 'rb'))"
      ],
      "metadata": {
        "id": "Y1tIqtwltYyB"
      },
      "execution_count": null,
      "outputs": []
    },
    {
      "cell_type": "code",
      "source": [
        "nan_mask = np.isnan(emit)[:,:,0] + np.isnan(eco)\n",
        "nan_mask.shape"
      ],
      "metadata": {
        "colab": {
          "base_uri": "https://localhost:8080/"
        },
        "id": "gH6JQnWXuSSi",
        "outputId": "a0111ee7-338b-46e7-bb58-37ca5022e5b9"
      },
      "execution_count": null,
      "outputs": [
        {
          "output_type": "execute_result",
          "data": {
            "text/plain": [
              "(1894, 2349)"
            ]
          },
          "metadata": {},
          "execution_count": 55
        }
      ]
    },
    {
      "cell_type": "code",
      "source": [
        "plt.imshow(~nan_mask)"
      ],
      "metadata": {
        "colab": {
          "base_uri": "https://localhost:8080/",
          "height": 453
        },
        "id": "Z2AmCIX2246d",
        "outputId": "dea1518f-db61-429c-eeb5-3e96bbab227d"
      },
      "execution_count": null,
      "outputs": [
        {
          "output_type": "execute_result",
          "data": {
            "text/plain": [
              "<matplotlib.image.AxesImage at 0x7f5f9cde43a0>"
            ]
          },
          "metadata": {},
          "execution_count": 56
        },
        {
          "output_type": "display_data",
          "data": {
            "text/plain": [
              "<Figure size 640x480 with 1 Axes>"
            ],
            "image/png": "[encoded data removed]"
          },
          "metadata": {}
        }
      ]
    },
    {
      "cell_type": "code",
      "source": [
        "emit = np.clip(emit[~nan_mask, :], 0, 1)\n",
        "eco = np.clip(eco[~nan_mask], 0, 1)\n",
        "\n",
        "emit = emit[:, np.sum(emit, axis=(0)) > 0]\n",
        "\n",
        "emit.shape, eco.shape"
      ],
      "metadata": {
        "colab": {
          "base_uri": "https://localhost:8080/"
        },
        "id": "jMtbQguevDrR",
        "outputId": "c2628dcd-fb11-44fe-e521-b125bac20ea4"
      },
      "execution_count": null,
      "outputs": [
        {
          "output_type": "execute_result",
          "data": {
            "text/plain": [
              "((144735, 244), (144735,))"
            ]
          },
          "metadata": {},
          "execution_count": 57
        }
      ]
    },
    {
      "cell_type": "code",
      "source": [
        "pickle.dump(emit, open(emit_out_path, 'wb'))\n",
        "pickle.dump(eco, open(ecostress_out_path, 'wb'))"
      ],
      "metadata": {
        "id": "Gb77mgy3vS6i"
      },
      "execution_count": null,
      "outputs": []
    },
    {
      "cell_type": "code",
      "source": [],
      "metadata": {
        "id": "jCfZVUBe4kye"
      },
      "execution_count": null,
      "outputs": []
    },
    {
      "cell_type": "code",
      "source": [
        "emit = pickle.load(open('/content/drive/Shareddrives/emit-ecostress/Data/02_Resampling_ECOSTRESS_EMIT_Matchup/emit_002xSLT_clean.pkl', 'rb'))\n",
        "emit = np.concatenate([emit, pickle.load(open('/content/drive/Shareddrives/emit-ecostress/Data/02_Resampling_ECOSTRESS_EMIT_Matchup/emit_002xSMT_clean.pkl', 'rb'))])\n",
        "emit = np.concatenate([emit, pickle.load(open('/content/drive/Shareddrives/emit-ecostress/Data/02_Resampling_ECOSTRESS_EMIT_Matchup/emit_003xSLT_clean.pkl', 'rb'))])\n",
        "emit = np.concatenate([emit, pickle.load(open('/content/drive/Shareddrives/emit-ecostress/Data/02_Resampling_ECOSTRESS_EMIT_Matchup/emit_003xSLU_clean.pkl', 'rb'))])\n",
        "emit = np.concatenate([emit, pickle.load(open('/content/drive/Shareddrives/emit-ecostress/Data/02_Resampling_ECOSTRESS_EMIT_Matchup/emit_003xSMT_clean.pkl', 'rb'))])\n",
        "emit.shape"
      ],
      "metadata": {
        "colab": {
          "base_uri": "https://localhost:8080/"
        },
        "id": "Eom8-xoQMlGF",
        "outputId": "770f6aac-17a7-4597-a788-5b9fb6eb2fef"
      },
      "execution_count": null,
      "outputs": [
        {
          "output_type": "execute_result",
          "data": {
            "text/plain": [
              "(3891824, 244)"
            ]
          },
          "metadata": {},
          "execution_count": 23
        }
      ]
    },
    {
      "cell_type": "code",
      "source": [
        "pickle.dump(emit, open('/content/drive/Shareddrives/emit-ecostress/Data/Train_Val_Test/emit_clean.pkl', 'wb'))"
      ],
      "metadata": {
        "id": "fwkYcuk3MJFp"
      },
      "execution_count": null,
      "outputs": []
    },
    {
      "cell_type": "code",
      "source": [
        "eco = pickle.load(open('/content/drive/Shareddrives/emit-ecostress/Data/02_Resampling_ECOSTRESS_EMIT_Matchup/ecostress_002xSLT_clean.pkl', 'rb'))\n",
        "eco = np.concatenate([eco, pickle.load(open('/content/drive/Shareddrives/emit-ecostress/Data/02_Resampling_ECOSTRESS_EMIT_Matchup/ecostress_002xSMT_clean.pkl', 'rb'))])\n",
        "eco = np.concatenate([eco, pickle.load(open('/content/drive/Shareddrives/emit-ecostress/Data/02_Resampling_ECOSTRESS_EMIT_Matchup/ecostress_003xSLT_clean.pkl', 'rb'))])\n",
        "eco = np.concatenate([eco, pickle.load(open('/content/drive/Shareddrives/emit-ecostress/Data/02_Resampling_ECOSTRESS_EMIT_Matchup/ecostress_003xSLU_clean.pkl', 'rb'))])\n",
        "eco = np.concatenate([eco, pickle.load(open('/content/drive/Shareddrives/emit-ecostress/Data/02_Resampling_ECOSTRESS_EMIT_Matchup/ecostress_003xSMT_clean.pkl', 'rb'))])\n",
        "eco.shape"
      ],
      "metadata": {
        "colab": {
          "base_uri": "https://localhost:8080/"
        },
        "id": "i-Di70KmQhOg",
        "outputId": "22de7866-195a-4145-ceeb-856034e660e9"
      },
      "execution_count": null,
      "outputs": [
        {
          "output_type": "execute_result",
          "data": {
            "text/plain": [
              "(3891824,)"
            ]
          },
          "metadata": {},
          "execution_count": 25
        }
      ]
    },
    {
      "cell_type": "code",
      "source": [
        "pickle.dump(eco, open('/content/drive/Shareddrives/emit-ecostress/Data/Train_Val_Test/ecostress_clean.pkl', 'wb'))"
      ],
      "metadata": {
        "id": "NqZBnh1PQlRP"
      },
      "execution_count": null,
      "outputs": []
    },
    {
      "cell_type": "code",
      "source": [],
      "metadata": {
        "id": "S-ZIy7upREO9"
      },
      "execution_count": null,
      "outputs": []
    },
    {
      "cell_type": "code",
      "source": [
        "emit = pickle.load(open('/content/drive/Shareddrives/emit-ecostress/Data/Train_Val_Test/emit_clean.pkl', 'rb'))"
      ],
      "metadata": {
        "id": "nw81YJNpYh8W"
      },
      "execution_count": null,
      "outputs": []
    },
    {
      "cell_type": "code",
      "source": [
        "pickle.dump(emit[:int(emit.shape[0] * 0.6), :], open('/content/drive/Shareddrives/emit-ecostress/Data/Train_Val_Test/emit_train.pkl', 'wb'))\n",
        "pickle.dump(emit[int(emit.shape[0] * 0.6):int(emit.shape[0] * 0.8), :], open('/content/drive/Shareddrives/emit-ecostress/Data/Train_Val_Test/emit_val.pkl', 'wb'))\n",
        "pickle.dump(emit[int(emit.shape[0] * 0.8):, :], open('/content/drive/Shareddrives/emit-ecostress/Data/Train_Val_Test/emit_test.pkl', 'wb'))"
      ],
      "metadata": {
        "id": "VWygbUGHYkuV"
      },
      "execution_count": null,
      "outputs": []
    },
    {
      "cell_type": "code",
      "source": [
        "eco = pickle.load(open('/content/drive/Shareddrives/emit-ecostress/Data/Train_Val_Test/ecostress_clean.pkl', 'rb'))"
      ],
      "metadata": {
        "id": "vhJwPOxBYlNy"
      },
      "execution_count": null,
      "outputs": []
    },
    {
      "cell_type": "code",
      "source": [
        "pickle.dump(eco[:int(eco.shape[0] * 0.6)], open('/content/drive/Shareddrives/emit-ecostress/Data/Train_Val_Test/ecostress_train.pkl', 'wb'))\n",
        "pickle.dump(eco[int(eco.shape[0] * 0.6):int(eco.shape[0] * 0.8)], open('/content/drive/Shareddrives/emit-ecostress/Data/Train_Val_Test/ecostress_val.pkl', 'wb'))\n",
        "pickle.dump(eco[int(eco.shape[0] * 0.8):], open('/content/drive/Shareddrives/emit-ecostress/Data/Train_Val_Test/ecostress_test.pkl', 'wb'))"
      ],
      "metadata": {
        "id": "QJVVmZC6Ylao"
      },
      "execution_count": null,
      "outputs": []
    }
  ]
}