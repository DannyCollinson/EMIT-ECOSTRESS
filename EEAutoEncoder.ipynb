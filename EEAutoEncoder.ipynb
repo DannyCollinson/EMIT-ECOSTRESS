{
  "cells": [
    {
      "cell_type": "markdown",
      "metadata": {
        "id": "view-in-github",
        "colab_type": "text"
      },
      "source": [
        "<a href=\"https://colab.research.google.com/github/DannyCollinson/EMIT-ECOSTRESS/blob/autoencoder/EEAutoEncoder.ipynb\" target=\"_parent\"><img src=\"https://colab.research.google.com/assets/colab-badge.svg\" alt=\"Open In Colab\"/></a>"
      ]
    },
    {
      "cell_type": "markdown",
      "metadata": {
        "id": "VUoBkw--_D76"
      },
      "source": [
        "# Autoencoder notebook"
      ]
    },
    {
      "cell_type": "code",
      "execution_count": 97,
      "metadata": {
        "colab": {
          "base_uri": "https://localhost:8080/"
        },
        "id": "-Ob1D-rw2iHp",
        "outputId": "fd8ae9fc-f0d6-4067-88d3-8edd1bfdc4d0"
      },
      "outputs": [
        {
          "output_type": "stream",
          "name": "stdout",
          "text": [
            "Requirement already satisfied: netCDF4 in /usr/local/lib/python3.10/dist-packages (1.6.5)\n",
            "Requirement already satisfied: cftime in /usr/local/lib/python3.10/dist-packages (from netCDF4) (1.6.3)\n",
            "Requirement already satisfied: certifi in /usr/local/lib/python3.10/dist-packages (from netCDF4) (2023.7.22)\n",
            "Requirement already satisfied: numpy in /usr/local/lib/python3.10/dist-packages (from netCDF4) (1.23.5)\n",
            "Requirement already satisfied: imagecodecs in /usr/local/lib/python3.10/dist-packages (2023.9.18)\n",
            "Requirement already satisfied: numpy in /usr/local/lib/python3.10/dist-packages (from imagecodecs) (1.23.5)\n"
          ]
        }
      ],
      "source": [
        "!pip install netCDF4\n",
        "!pip install imagecodecs"
      ]
    },
    {
      "cell_type": "code",
      "execution_count": 98,
      "metadata": {
        "id": "DcZKpXlcis2Q"
      },
      "outputs": [],
      "source": [
        "import os\n",
        "\n",
        "from tifffile import tifffile\n",
        "import numpy as np\n",
        "import matplotlib.pyplot as plt\n",
        "from matplotlib.colors import Normalize\n",
        "from matplotlib.cm import ScalarMappable\n",
        "from netCDF4 import Dataset as ncDataset\n",
        "from sklearn.decomposition import PCA, KernelPCA\n",
        "from sklearn.model_selection import KFold\n",
        "import torch\n",
        "import torch.nn as nn\n",
        "import torch.nn.functional as F\n",
        "from torch.utils.data import Dataset, DataLoader\n",
        "import torch.optim as optim"
      ]
    },
    {
      "cell_type": "code",
      "execution_count": 99,
      "metadata": {
        "colab": {
          "base_uri": "https://localhost:8080/"
        },
        "id": "0Cvk1kPFjNkM",
        "outputId": "8aa54748-17eb-4a9d-94b0-5b19c9e56e29"
      },
      "outputs": [
        {
          "output_type": "execute_result",
          "data": {
            "text/plain": [
              "True"
            ]
          },
          "metadata": {},
          "execution_count": 99
        }
      ],
      "source": [
        "# Initialize RNG\n",
        "rng = np.random.default_rng()\n",
        "\n",
        "# Check if running with GPU runtime\n",
        "torch.cuda.is_available()"
      ]
    },
    {
      "cell_type": "markdown",
      "metadata": {
        "id": "zABr-hB6_MiH"
      },
      "source": [
        "## Pull latest from git repos"
      ]
    },
    {
      "cell_type": "code",
      "source": [
        "from google.colab import drive\n",
        "drive.mount('/content/drive')"
      ],
      "metadata": {
        "colab": {
          "base_uri": "https://localhost:8080/"
        },
        "id": "m2ibT0Tm6cqT",
        "outputId": "b0d11040-9451-4951-b293-5d2bd77423ea"
      },
      "execution_count": 100,
      "outputs": [
        {
          "output_type": "stream",
          "name": "stdout",
          "text": [
            "Drive already mounted at /content/drive; to attempt to forcibly remount, call drive.mount(\"/content/drive\", force_remount=True).\n"
          ]
        }
      ]
    },
    {
      "cell_type": "code",
      "execution_count": 101,
      "metadata": {
        "colab": {
          "base_uri": "https://localhost:8080/"
        },
        "id": "QsDbFttnqQF4",
        "outputId": "6510fca4-d961-4828-bf84-e2a54301343b"
      },
      "outputs": [
        {
          "output_type": "stream",
          "name": "stdout",
          "text": [
            "From https://github.com/DannyCollinson/EMIT-ECOSTRESS\n",
            " * branch            HEAD       -> FETCH_HEAD\n",
            "Already up to date.\n"
          ]
        }
      ],
      "source": [
        "os.chdir('/content/drive/Shareddrives/emit-ecostress/EMIT-ECOSTRESS')\n",
        "!git pull https://github.com/DannyCollinson/EMIT-ECOSTRESS.git"
      ]
    },
    {
      "cell_type": "code",
      "execution_count": 102,
      "metadata": {
        "colab": {
          "base_uri": "https://localhost:8080/"
        },
        "id": "FNHEnwDKq4ug",
        "outputId": "c20c429f-42b3-449c-ebcc-77ef1339a753"
      },
      "outputs": [
        {
          "output_type": "stream",
          "name": "stdout",
          "text": [
            "From https://github.com/DannyCollinson/VITALS\n",
            " * branch            HEAD       -> FETCH_HEAD\n",
            "Already up to date.\n"
          ]
        }
      ],
      "source": [
        "os.chdir('/content/drive/Shareddrives/emit-ecostress/VITALS')\n",
        "!git pull https://github.com/DannyCollinson/VITALS.git"
      ]
    },
    {
      "cell_type": "markdown",
      "metadata": {
        "id": "BZLAekYN_hCs"
      },
      "source": [
        "## Load and explore ECOSTRESS average LST data LA day/night summer 2018-2021"
      ]
    },
    {
      "cell_type": "code",
      "execution_count": 103,
      "metadata": {
        "id": "0w4Ei3Q8tD3X"
      },
      "outputs": [],
      "source": [
        "im_day = tifffile.imread('/content/drive/Shareddrives/emit-ecostress/Data/ECOSTRESS/ECOSTRESS_LA_daytime_summer_LST_2018_2021.tif')\n",
        "im_night = tifffile.imread('/content/drive/Shareddrives/emit-ecostress/Data/ECOSTRESS/ECOSTRESS_LA_nighttime_summer_LST_2018_2021.tif')"
      ]
    },
    {
      "cell_type": "code",
      "execution_count": 104,
      "metadata": {
        "id": "fEJK8oaWwyIz"
      },
      "outputs": [],
      "source": [
        "day_vals = im_day[~np.isnan(im_day)]\n",
        "night_vals = im_night[~np.isnan(im_night)]"
      ]
    },
    {
      "cell_type": "markdown",
      "metadata": {
        "id": "sHVFy0CI_yrG"
      },
      "source": [
        "## Load and explore EMIT data 2023-07-28"
      ]
    },
    {
      "cell_type": "code",
      "execution_count": 105,
      "metadata": {
        "id": "Y7pfd78ZyKyr"
      },
      "outputs": [],
      "source": [
        "# emit_002 = ncDataset('/content/drive/Shareddrives/emit-ecostress/Data/01_Finding_Concurrent_Data_UrbanHeat/EMIT_L2A_RFL_001_20230728T214106_2320914_002.nc')\n",
        "emit_003 = ncDataset('/content/drive/Shareddrives/emit-ecostress/Data/01_Finding_Concurrent_Data_UrbanHeat/EMIT_L2A_RFL_001_20230728T214118_2320914_003.nc')\n",
        "for key in vars(emit_003).keys():\n",
        "    continue\n",
        "    print(key)\n",
        "    # print(vars(emit_002)[key])\n",
        "    print(vars(emit_003)[key], end='\\n\\n')"
      ]
    },
    {
      "cell_type": "code",
      "execution_count": 106,
      "metadata": {
        "colab": {
          "base_uri": "https://localhost:8080/"
        },
        "id": "QYF7EZrt7ObY",
        "outputId": "f1e354e6-fa98-488a-e856-44b519f34862"
      },
      "outputs": [
        {
          "output_type": "execute_result",
          "data": {
            "text/plain": [
              "0"
            ]
          },
          "metadata": {},
          "execution_count": 106
        }
      ],
      "source": [
        "# emit_002_data = emit_002.variables['reflectance'][:,:,:]\n",
        "emit_003_data = emit_003.variables['reflectance'][:,:,:]\n",
        "np.sum(emit_003_data.mask)# , np.sum(emit_002_data.mask)"
      ]
    },
    {
      "cell_type": "markdown",
      "metadata": {
        "id": "C-LNL0cQusmx"
      },
      "source": [
        "## Clean EMIT data and revisualize\n",
        "We want to clip values to the range [0,1] and remove the channels that are always 0."
      ]
    },
    {
      "cell_type": "code",
      "execution_count": 107,
      "metadata": {
        "id": "a9DBvmsBuzCV"
      },
      "outputs": [],
      "source": [
        "emit_003_data = np.clip(emit_003_data, 0, 1)\n",
        "emit_003_data = emit_003_data[:, :, np.sum(emit_003_data, axis=(0,1)) > 0]"
      ]
    },
    {
      "cell_type": "markdown",
      "source": [
        "#Autoencoder on 003 Spectra"
      ],
      "metadata": {
        "id": "fYnqdmlo0xvs"
      }
    },
    {
      "cell_type": "markdown",
      "source": [
        "Splitting the training and validation data randomly. Using 20 percent of the data for testing."
      ],
      "metadata": {
        "id": "4qK9KpxhKH8C"
      }
    },
    {
      "cell_type": "code",
      "source": [
        "val_percent = 0.2\n",
        "\n",
        "splitting = int(len(emit_003_data) * (1 - val_percent))\n",
        "\n",
        "training = emit_003_data[:splitting]\n",
        "testing = emit_003_data[splitting:]"
      ],
      "metadata": {
        "id": "ex1VfPAk4rHs"
      },
      "execution_count": 108,
      "outputs": []
    },
    {
      "cell_type": "markdown",
      "source": [
        "Loading the training and testing data. Shuffling the training data to help generalize and prevent overfitting."
      ],
      "metadata": {
        "id": "b7kswlbtKXNS"
      }
    },
    {
      "cell_type": "code",
      "source": [
        "training_data_loader = DataLoader(training, batch_size=16, shuffle=True)\n",
        "validation_data_loader = DataLoader(testing, batch_size=16, shuffle=False)"
      ],
      "metadata": {
        "id": "bDdAicH-7BIr"
      },
      "execution_count": 109,
      "outputs": []
    },
    {
      "cell_type": "markdown",
      "source": [
        "Building the actual autoencoder. Has 3 fully-connected layers using linear, ReLU, and sigmoid to reduce dimensionality."
      ],
      "metadata": {
        "id": "0tW7quegKouq"
      }
    },
    {
      "cell_type": "code",
      "source": [
        "class Autoencoder(nn.Module):\n",
        "    def __init__(self, input_dim, encoding_dim):\n",
        "        super(Autoencoder, self).__init__()\n",
        "        self.encoder = nn.Sequential(\n",
        "            nn.Linear(input_dim, 128),\n",
        "            nn.ReLU(),\n",
        "            nn.Linear(128, 64),\n",
        "            nn.ReLU(),\n",
        "            nn.Linear(64, encoding_dim),\n",
        "            nn.ReLU()\n",
        "        )\n",
        "        self.decoder = nn.Sequential(\n",
        "            nn.Linear(encoding_dim, 64),\n",
        "            nn.ReLU(),\n",
        "            nn.Linear(64, 128),\n",
        "            nn.ReLU(),\n",
        "            nn.Linear(128, input_dim),\n",
        "            nn.Sigmoid()\n",
        "        )\n",
        "\n",
        "    def forward(self, x):\n",
        "        x = self.encoder(x)\n",
        "        x = self.decoder(x)\n",
        "        return x"
      ],
      "metadata": {
        "id": "qojL5xXx8er6"
      },
      "execution_count": 110,
      "outputs": []
    },
    {
      "cell_type": "markdown",
      "source": [
        "Inputting dimension values and calling the autoencoder. Using cuda for the hosted runtime. Using mean-squared loss. Running on 20 epochs."
      ],
      "metadata": {
        "id": "WAwvDoOKL73w"
      }
    },
    {
      "cell_type": "code",
      "source": [
        "input_dim = 244\n",
        "encoding_dim = 31\n",
        "model = Autoencoder(input_dim, encoding_dim)\n",
        "\n",
        "device = torch.device(\"cuda:0\")\n",
        "model.to(device)\n",
        "\n",
        "criterion = nn.MSELoss()\n",
        "optimizer = optim.Adam(model.parameters(), lr=0.001)\n",
        "\n",
        "num_epochs = 20\n",
        "\n",
        "training_losses = []\n",
        "validation_losses = []\n",
        "\n",
        "for epoch in range(num_epochs):\n",
        "    # train\n",
        "    model.train()\n",
        "    epoch_training_losses = []\n",
        "    for batch in training_data_loader:\n",
        "        optimizer.zero_grad()\n",
        "        batch = batch.to(device)\n",
        "        output = model(batch)\n",
        "        loss = criterion(output, batch)\n",
        "        loss.backward()\n",
        "        optimizer.step()\n",
        "        epoch_training_losses.append(loss.item())\n",
        "\n",
        "    average_training_loss = sum(epoch_training_losses) / len(epoch_training_losses)\n",
        "    training_losses.append(average_training_loss)\n",
        "\n",
        "    # test\n",
        "    model.eval()\n",
        "    epoch_validation_losses = []\n",
        "    with torch.no_grad():\n",
        "        for batch in validation_data_loader:\n",
        "            batch = batch.to(device)\n",
        "            output = model(batch)\n",
        "            loss = criterion(output, batch)\n",
        "            epoch_validation_losses.append(loss.item())\n",
        "\n",
        "    average_validation_loss = sum(epoch_validation_losses) / len(epoch_validation_losses)\n",
        "    validation_losses.append(average_validation_loss)\n",
        "\n",
        "    print(f'Epoch [{epoch+1}/{num_epochs}], Training Loss: {average_training_loss}, Validation Loss: {average_validation_loss}')\n",
        "\n",
        "torch.save(model.state_dict(), 'autoencoder.pth')\n",
        "model.load_state_dict(torch.load('autoencoder.pth'))\n",
        "model.to(device)\n",
        "\n",
        "with torch.no_grad():\n",
        "  emit_003_data = torch.tensor(emit_003_data, device=device)\n",
        "  emit_003_data = emit_003_data.to(device)\n",
        "  reconstructed_data = model(emit_003_data)\n",
        "\n",
        "with torch.no_grad():\n",
        "  latent_representation = model.encoder(emit_003_data)\n"
      ],
      "metadata": {
        "colab": {
          "base_uri": "https://localhost:8080/"
        },
        "id": "P93iQ4nh68Kn",
        "outputId": "8c138999-7188-45d4-bf03-da71f87ca252"
      },
      "execution_count": 111,
      "outputs": [
        {
          "output_type": "stream",
          "name": "stdout",
          "text": [
            "Epoch [1/20], Training Loss: 0.03969038726063445, Validation Loss: 0.015211440797429532\n",
            "Epoch [2/20], Training Loss: 0.005223773330726544, Validation Loss: 0.0024433367725578137\n",
            "Epoch [3/20], Training Loss: 0.0009287832895097381, Validation Loss: 0.0007081767980707809\n",
            "Epoch [4/20], Training Loss: 0.00036456061525314, Validation Loss: 0.00047210372213157825\n",
            "Epoch [5/20], Training Loss: 0.00030442401475738734, Validation Loss: 0.00032341738278773846\n",
            "Epoch [6/20], Training Loss: 0.00027101560067421815, Validation Loss: 0.00033582831201783847\n",
            "Epoch [7/20], Training Loss: 0.00024443891197734047, Validation Loss: 0.00031192094866128173\n",
            "Epoch [8/20], Training Loss: 0.00021378746055233933, Validation Loss: 0.00020160574968031142\n",
            "Epoch [9/20], Training Loss: 0.00017763962239314424, Validation Loss: 0.00012896581483801128\n",
            "Epoch [10/20], Training Loss: 0.00010016095723131002, Validation Loss: 0.00011024438254025881\n",
            "Epoch [11/20], Training Loss: 8.4147711049809e-05, Validation Loss: 9.677321986600873e-05\n",
            "Epoch [12/20], Training Loss: 8.143829518303392e-05, Validation Loss: 0.00012840382350987056\n",
            "Epoch [13/20], Training Loss: 7.79591754849207e-05, Validation Loss: 9.330435023002792e-05\n",
            "Epoch [14/20], Training Loss: 7.226969825069318e-05, Validation Loss: 8.939536655816482e-05\n",
            "Epoch [15/20], Training Loss: 8.033115841499239e-05, Validation Loss: 0.00010370610789323109\n",
            "Epoch [16/20], Training Loss: 6.63721572209397e-05, Validation Loss: 8.962938909462537e-05\n",
            "Epoch [17/20], Training Loss: 6.23306544866864e-05, Validation Loss: 8.479938469463377e-05\n",
            "Epoch [18/20], Training Loss: 8.428473978483453e-05, Validation Loss: 8.813038266453077e-05\n",
            "Epoch [19/20], Training Loss: 6.028558181014887e-05, Validation Loss: 8.835145717966952e-05\n",
            "Epoch [20/20], Training Loss: 5.8921236131936894e-05, Validation Loss: 8.792449216343812e-05\n"
          ]
        }
      ]
    },
    {
      "cell_type": "markdown",
      "source": [
        "Printing the latent representation which is the middle part of the encode and decode."
      ],
      "metadata": {
        "id": "AkkLqRg8MdWk"
      }
    },
    {
      "cell_type": "code",
      "source": [
        "print(reconstructed_data)\n",
        "\n",
        "print(latent_representation)\n",
        "\n",
        "latent_representation.shape\n"
      ],
      "metadata": {
        "id": "nEooznt2hmbb",
        "colab": {
          "base_uri": "https://localhost:8080/"
        },
        "outputId": "5ac20872-a02e-4121-dbb7-8de6d69b89ff"
      },
      "execution_count": 112,
      "outputs": [
        {
          "output_type": "stream",
          "name": "stdout",
          "text": [
            "tensor([[[0.0191, 0.0211, 0.0225,  ..., 0.0532, 0.0518, 0.0501],\n",
            "         [0.0217, 0.0241, 0.0260,  ..., 0.0697, 0.0683, 0.0664],\n",
            "         [0.0239, 0.0268, 0.0291,  ..., 0.0840, 0.0826, 0.0807],\n",
            "         ...,\n",
            "         [0.0296, 0.0321, 0.0349,  ..., 0.0656, 0.0637, 0.0634],\n",
            "         [0.0245, 0.0269, 0.0288,  ..., 0.0585, 0.0570, 0.0558],\n",
            "         [0.0240, 0.0264, 0.0282,  ..., 0.0583, 0.0568, 0.0555]],\n",
            "\n",
            "        [[0.0179, 0.0196, 0.0207,  ..., 0.0435, 0.0422, 0.0406],\n",
            "         [0.0209, 0.0233, 0.0248,  ..., 0.0603, 0.0593, 0.0573],\n",
            "         [0.0233, 0.0264, 0.0290,  ..., 0.0942, 0.0929, 0.0913],\n",
            "         ...,\n",
            "         [0.0247, 0.0267, 0.0287,  ..., 0.0511, 0.0494, 0.0487],\n",
            "         [0.0219, 0.0237, 0.0253,  ..., 0.0479, 0.0461, 0.0452],\n",
            "         [0.0201, 0.0212, 0.0226,  ..., 0.0374, 0.0356, 0.0348]],\n",
            "\n",
            "        [[0.0186, 0.0202, 0.0216,  ..., 0.0489, 0.0474, 0.0459],\n",
            "         [0.0177, 0.0190, 0.0203,  ..., 0.0423, 0.0406, 0.0394],\n",
            "         [0.0222, 0.0248, 0.0265,  ..., 0.0638, 0.0627, 0.0607],\n",
            "         ...,\n",
            "         [0.0217, 0.0234, 0.0250,  ..., 0.0464, 0.0447, 0.0437],\n",
            "         [0.0221, 0.0237, 0.0254,  ..., 0.0477, 0.0458, 0.0449],\n",
            "         [0.0319, 0.0344, 0.0379,  ..., 0.0803, 0.0780, 0.0779]],\n",
            "\n",
            "        ...,\n",
            "\n",
            "        [[0.0221, 0.0240, 0.0259,  ..., 0.0577, 0.0559, 0.0550],\n",
            "         [0.0260, 0.0290, 0.0316,  ..., 0.0830, 0.0814, 0.0801],\n",
            "         [0.0253, 0.0281, 0.0302,  ..., 0.0697, 0.0683, 0.0667],\n",
            "         ...,\n",
            "         [0.0569, 0.0604, 0.0657,  ..., 0.2332, 0.2301, 0.2297],\n",
            "         [0.0623, 0.0654, 0.0717,  ..., 0.2516, 0.2473, 0.2476],\n",
            "         [0.0625, 0.0655, 0.0723,  ..., 0.2650, 0.2607, 0.2605]],\n",
            "\n",
            "        [[0.0250, 0.0278, 0.0300,  ..., 0.0734, 0.0719, 0.0702],\n",
            "         [0.0257, 0.0284, 0.0307,  ..., 0.0746, 0.0730, 0.0714],\n",
            "         [0.0238, 0.0263, 0.0282,  ..., 0.0622, 0.0608, 0.0593],\n",
            "         ...,\n",
            "         [0.0545, 0.0578, 0.0633,  ..., 0.2315, 0.2276, 0.2276],\n",
            "         [0.0574, 0.0605, 0.0665,  ..., 0.2508, 0.2459, 0.2467],\n",
            "         [0.0576, 0.0612, 0.0676,  ..., 0.2528, 0.2485, 0.2478]],\n",
            "\n",
            "        [[0.0166, 0.0173, 0.0184,  ..., 0.0316, 0.0298, 0.0291],\n",
            "         [0.0224, 0.0247, 0.0264,  ..., 0.0584, 0.0569, 0.0555],\n",
            "         [0.0244, 0.0270, 0.0289,  ..., 0.0649, 0.0635, 0.0620],\n",
            "         ...,\n",
            "         [0.0545, 0.0578, 0.0631,  ..., 0.2326, 0.2290, 0.2288],\n",
            "         [0.0564, 0.0595, 0.0652,  ..., 0.2384, 0.2343, 0.2344],\n",
            "         [0.0583, 0.0613, 0.0676,  ..., 0.2537, 0.2489, 0.2495]]],\n",
            "       device='cuda:0')\n",
            "tensor([[[0.0000, 0.6076, 0.3055,  ..., 1.1044, 1.6042, 0.8142],\n",
            "         [0.0000, 0.6254, 0.3618,  ..., 1.0244, 1.5695, 0.7528],\n",
            "         [0.0000, 0.6636, 0.4015,  ..., 1.0004, 1.5999, 0.7318],\n",
            "         ...,\n",
            "         [0.0000, 0.5576, 0.2064,  ..., 1.0887, 1.4985, 0.7976],\n",
            "         [0.0000, 0.5946, 0.2446,  ..., 1.1246, 1.5863, 0.8265],\n",
            "         [0.0000, 0.6067, 0.2538,  ..., 1.1298, 1.6095, 0.8320]],\n",
            "\n",
            "        [[0.0000, 0.5530, 0.2536,  ..., 1.1259, 1.5467, 0.8360],\n",
            "         [0.0000, 0.5715, 0.3103,  ..., 1.0323, 1.5025, 0.7610],\n",
            "         [0.0000, 0.7160, 0.4582,  ..., 0.9884, 1.6691, 0.7261],\n",
            "         ...,\n",
            "         [0.0000, 0.5561, 0.1856,  ..., 1.1576, 1.5519, 0.8547],\n",
            "         [0.0000, 0.6180, 0.2235,  ..., 1.2115, 1.6816, 0.8930],\n",
            "         [0.0000, 0.6290, 0.1839,  ..., 1.3026, 1.7630, 0.9639]],\n",
            "\n",
            "        [[0.0000, 0.6214, 0.2910,  ..., 1.1503, 1.6546, 0.8482],\n",
            "         [0.0000, 0.6233, 0.2615,  ..., 1.2074, 1.6978, 0.8918],\n",
            "         [0.0000, 0.5805, 0.3118,  ..., 1.0314, 1.5107, 0.7585],\n",
            "         ...,\n",
            "         [0.0000, 0.5912, 0.2130,  ..., 1.1939, 1.6340, 0.8815],\n",
            "         [0.0000, 0.6562, 0.2306,  ..., 1.2497, 1.7595, 0.9171],\n",
            "         [0.0000, 0.6901, 0.2926,  ..., 1.1278, 1.7029, 0.8183]],\n",
            "\n",
            "        ...,\n",
            "\n",
            "        [[0.0000, 0.7443, 0.3043,  ..., 1.2494, 1.8795, 0.9105],\n",
            "         [0.0000, 0.7035, 0.3742,  ..., 1.0739, 1.6989, 0.7824],\n",
            "         [0.0000, 0.6021, 0.3030,  ..., 1.0488, 1.5451, 0.7696],\n",
            "         ...,\n",
            "         [0.0000, 0.6149, 0.5901,  ..., 0.3758, 1.0549, 0.3961],\n",
            "         [0.0000, 0.6998, 0.6256,  ..., 0.3972, 1.1656, 0.4069],\n",
            "         [0.0000, 0.7765, 0.6865,  ..., 0.3852, 1.2579, 0.4086]],\n",
            "\n",
            "        [[0.0000, 0.6241, 0.3315,  ..., 1.0405, 1.5711, 0.7626],\n",
            "         [0.0000, 0.6344, 0.3308,  ..., 1.0497, 1.5893, 0.7681],\n",
            "         [0.0000, 0.6037, 0.2814,  ..., 1.0903, 1.5775, 0.7996],\n",
            "         ...,\n",
            "         [0.0000, 0.6546, 0.6093,  ..., 0.4141, 1.1405, 0.4186],\n",
            "         [0.0000, 0.7369, 0.6578,  ..., 0.4167, 1.2402, 0.4226],\n",
            "         [0.0000, 0.8201, 0.7004,  ..., 0.4558, 1.3781, 0.4464]],\n",
            "\n",
            "        [[0.0000, 0.6499, 0.2003,  ..., 1.3479, 1.8319, 0.9965],\n",
            "         [0.0000, 0.6252, 0.2835,  ..., 1.1269, 1.6344, 0.8264],\n",
            "         [0.0000, 0.6036, 0.2892,  ..., 1.0756, 1.5665, 0.7889],\n",
            "         ...,\n",
            "         [0.0000, 0.6327, 0.6078,  ..., 0.3843, 1.0924, 0.4033],\n",
            "         [0.0000, 0.6665, 0.6186,  ..., 0.4005, 1.1422, 0.4106],\n",
            "         [0.0000, 0.7506, 0.6676,  ..., 0.4129, 1.2568, 0.4217]]],\n",
            "       device='cuda:0')\n"
          ]
        },
        {
          "output_type": "execute_result",
          "data": {
            "text/plain": [
              "torch.Size([1280, 1242, 31])"
            ]
          },
          "metadata": {},
          "execution_count": 112
        }
      ]
    },
    {
      "cell_type": "markdown",
      "source": [
        "Plotting training and validation loss over the 20 epochs. We can see both are steadily decreasing with 2 slight bumps. They eventually look like they converge. Since they're close, that does mean the model is learning."
      ],
      "metadata": {
        "id": "aVB7JhFpMi7u"
      }
    },
    {
      "cell_type": "code",
      "source": [
        "plt.figure()\n",
        "plt.plot(training_losses, label='Training Loss')\n",
        "plt.plot(validation_losses, label='Validation Loss')\n",
        "plt.xlabel('Epoch')\n",
        "plt.ylabel('Loss')\n",
        "plt.title('Training and Validation Loss Over Epochs')\n",
        "plt.legend()\n",
        "plt.show()"
      ],
      "metadata": {
        "colab": {
          "base_uri": "https://localhost:8080/",
          "height": 472
        },
        "id": "WlEO6y_mTf1f",
        "outputId": "2d32ee86-e7cb-4d40-fd7d-f604ac1c8e6b"
      },
      "execution_count": 113,
      "outputs": [
        {
          "output_type": "display_data",
          "data": {
            "text/plain": [
              "<Figure size 640x480 with 1 Axes>"
            ],
            "image/png": "[encoded data removed]"
          },
          "metadata": {}
        }
      ]
    },
    {
      "cell_type": "markdown",
      "source": [
        "###Some attempt at autoencoder with less layers."
      ],
      "metadata": {
        "id": "iEQ5CdJYMx4w"
      }
    },
    {
      "cell_type": "code",
      "source": [
        "# class Autoencoder(nn.Module):\n",
        "#     def __init__(self, input_dim, encoding_dim):\n",
        "#         super(Autoencoder, self).__init__()\n",
        "#         # basic autoencoder\n",
        "#         #\n",
        "#         # super(Autoencoder, self).__init__()\n",
        "#         # self.encoder = nn.Sequential(\n",
        "#         #     nn.Linear(input_dim, encoding_dim),\n",
        "#         #     nn.ReLU()\n",
        "#         # )\n",
        "#         # self.decoder = nn.Sequential(\n",
        "#         #     nn.Linear(encoding_dim, input_dim),\n",
        "#         #     nn.Sigmoid()\n",
        "#         # )\n",
        "#         self.encoder = nn.Sequential(\n",
        "#             nn.Linear(input_dim, 128),\n",
        "#             nn.ReLU(),\n",
        "#             nn.Linear(128, 64),\n",
        "#             nn.ReLU(),\n",
        "#             nn.Linear(64, encoding_dim),\n",
        "#             nn.ReLU()\n",
        "#         )\n",
        "#         self.decoder = nn.Sequential(\n",
        "#             nn.Linear(encoding_dim, 64),\n",
        "#             nn.ReLU(),\n",
        "#             nn.Linear(64, 128),\n",
        "#             nn.ReLU(),\n",
        "#             nn.Linear(128, input_dim),\n",
        "#             nn.Sigmoid()\n",
        "#         )\n",
        "\n",
        "#     def forward(self, x):\n",
        "#         x = self.encoder(x)\n",
        "#         x = self.decoder(x)\n",
        "#         return x\n",
        "\n",
        "# input_dim = 244\n",
        "# encoding_dim = 31\n",
        "# model = Autoencoder(input_dim, encoding_dim)\n",
        "\n",
        "# device = torch.device(\"cuda:0\")\n",
        "# model.to(device)\n",
        "\n",
        "# criterion = nn.MSELoss()\n",
        "# optimizer = optim.Adam(model.parameters(), lr=0.001)\n",
        "\n",
        "# emit_003_data = (emit_003_data).cpu()\n",
        "\n",
        "# emit_003_data = np.ma.getdata(emit_003_data)\n",
        "\n",
        "# emit_003_data = torch.tensor(emit_003_data, device=device)\n",
        "\n",
        "# training_data_loader = DataLoader(training_data, batch_size=16, shuffle=True)\n",
        "# validation_data_loader = DataLoader(validation_data, batch_size=16, shuffle=False)\n",
        "\n",
        "# num_epochs = 20\n",
        "\n",
        "# losses = []\n",
        "\n",
        "# epoch_losses = []\n",
        "\n",
        "# for epoch in range(num_epochs):\n",
        "#     for batch in data_loader:\n",
        "#         optimizer.zero_grad()\n",
        "\n",
        "#         batch = batch.to(device)\n",
        "\n",
        "#         output = model(batch)\n",
        "#         loss = criterion(output, batch)\n",
        "\n",
        "#         loss.backward()\n",
        "#         optimizer.step()\n",
        "\n",
        "#         epoch_losses.append(loss.item())\n",
        "\n",
        "#     average_loss = sum(epoch_losses) / len(epoch_losses)\n",
        "#     losses.append(average_loss)\n",
        "\n",
        "#     model.eval()\n",
        "\n",
        "#     epoch_validation_losses = []\n",
        "\n",
        "#     with torch.no_grad():\n",
        "#         for batch in validation_data_loader:\n",
        "#             batch = batch.to(device)\n",
        "#             output = model(batch)\n",
        "#             loss = criterion(output, batch)\n",
        "#             epoch_validation_losses.append(loss.item())\n",
        "\n",
        "#     average_validation_loss = sum(epoch_validation_losses) / len(epoch_validation_losses)\n",
        "#     validation_losses.append(average_validation_loss)\n",
        "\n",
        "#     print(f'Epoch [{epoch+1}/{num_epochs}], Loss: {loss.item()}')\n",
        "\n",
        "# torch.save(model.state_dict(), 'autoencoder.pth')\n",
        "\n",
        "# model.load_state_dict(torch.load('autoencoder.pth'))\n",
        "# model.to(device)\n",
        "\n",
        "# with torch.no_grad():\n",
        "#     emit_003_data = emit_003_data.to(device)\n",
        "#     reconstructed_data = model(emit_003_data)\n",
        "\n",
        "# with torch.no_grad():\n",
        "#     latent_representation = model.encoder(emit_003_data)\n"
      ],
      "metadata": {
        "id": "vRcrBNkRZipK"
      },
      "execution_count": 114,
      "outputs": []
    },
    {
      "cell_type": "markdown",
      "source": [
        "###First attempt at a simple autoencoder, but it does not use cuda"
      ],
      "metadata": {
        "id": "YK2SkIRbJ50R"
      }
    },
    {
      "cell_type": "code",
      "source": [
        "# functional but does not use cuda\n",
        "\n",
        "# class Autoencoder(nn.Module):\n",
        "#     def __init__(self, input_dim, encoding_dim):\n",
        "#         super(Autoencoder, self).__init__()\n",
        "#         self.encoder = nn.Sequential(\n",
        "#             nn.Linear(input_dim, encoding_dim),\n",
        "#             nn.ReLU()\n",
        "#         )\n",
        "#         self.decoder = nn.Sequential(\n",
        "#             nn.Linear(encoding_dim, input_dim),\n",
        "#             nn.Sigmoid()\n",
        "#         )\n",
        "\n",
        "#     def forward(self, x):\n",
        "#         x = self.encoder(x)\n",
        "#         x = self.decoder(x)\n",
        "#         return x\n",
        "\n",
        "# input_dim = 244\n",
        "# encoding_dim = 31\n",
        "# model = Autoencoder(input_dim, encoding_dim)\n",
        "\n",
        "# criterion = nn.MSELoss()\n",
        "# optimizer = torch.optim.Adam(model.parameters(), lr=0.001)\n",
        "\n",
        "# data_loader = DataLoader(emit_003_data, batch_size=16, shuffle=True)\n",
        "\n",
        "# # emit_003_data_transposed = emit_003_data.T\n",
        "\n",
        "# num_epochs = 10\n",
        "\n",
        "# for epoch in range(num_epochs):\n",
        "#     for batch in data_loader:\n",
        "#         optimizer.zero_grad()\n",
        "\n",
        "#         output = model(batch)\n",
        "#         loss = criterion(output, batch)\n",
        "\n",
        "#         loss.backward()\n",
        "#         optimizer.step()\n",
        "\n",
        "#     print(f'Epoch [{epoch+1}/{num_epochs}], Loss: {loss.item()}')\n"
      ],
      "metadata": {
        "id": "UMVmyvyy1g89"
      },
      "execution_count": 115,
      "outputs": []
    },
    {
      "cell_type": "code",
      "source": [
        "model.eval()"
      ],
      "metadata": {
        "id": "rgO5stiJVcvD",
        "colab": {
          "base_uri": "https://localhost:8080/"
        },
        "outputId": "35b9805b-b732-47c5-8fc1-83bcb60fbee6"
      },
      "execution_count": 116,
      "outputs": [
        {
          "output_type": "execute_result",
          "data": {
            "text/plain": [
              "Autoencoder(\n",
              "  (encoder): Sequential(\n",
              "    (0): Linear(in_features=244, out_features=128, bias=True)\n",
              "    (1): ReLU()\n",
              "    (2): Linear(in_features=128, out_features=64, bias=True)\n",
              "    (3): ReLU()\n",
              "    (4): Linear(in_features=64, out_features=31, bias=True)\n",
              "    (5): ReLU()\n",
              "  )\n",
              "  (decoder): Sequential(\n",
              "    (0): Linear(in_features=31, out_features=64, bias=True)\n",
              "    (1): ReLU()\n",
              "    (2): Linear(in_features=64, out_features=128, bias=True)\n",
              "    (3): ReLU()\n",
              "    (4): Linear(in_features=128, out_features=244, bias=True)\n",
              "    (5): Sigmoid()\n",
              "  )\n",
              ")"
            ]
          },
          "metadata": {},
          "execution_count": 116
        }
      ]
    }
  ],
  "metadata": {
    "colab": {
      "provenance": [],
      "gpuType": "T4",
      "include_colab_link": true
    },
    "kernelspec": {
      "display_name": "Python 3",
      "name": "python3"
    },
    "language_info": {
      "name": "python"
    },
    "accelerator": "GPU"
  },
  "nbformat": 4,
  "nbformat_minor": 0
}