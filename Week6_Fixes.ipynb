{
  "nbformat": 4,
  "nbformat_minor": 0,
  "metadata": {
    "colab": {
      "provenance": [],
      "gpuType": "T4",
      "mount_file_id": "1tWtAj0XJTMMYZsqPy7In41ucxY4TQPi8",
      "authorship_tag": "ABX9TyNH1K3v8YWHH5BVzP5R45Aa",
      "include_colab_link": true
    },
    "kernelspec": {
      "name": "python3",
      "display_name": "Python 3"
    },
    "language_info": {
      "name": "python"
    },
    "accelerator": "GPU"
  },
  "cells": [
    {
      "cell_type": "markdown",
      "metadata": {
        "id": "view-in-github",
        "colab_type": "text"
      },
      "source": [
        "<a href=\"https://colab.research.google.com/github/DannyCollinson/EMIT-ECOSTRESS/blob/Model_Update/Week6_Fixes.ipynb\" target=\"_parent\"><img src=\"https://colab.research.google.com/assets/colab-badge.svg\" alt=\"Open In Colab\"/></a>"
      ]
    },
    {
      "cell_type": "code",
      "execution_count": 12,
      "metadata": {
        "id": "9q0l7q9GtnGX"
      },
      "outputs": [],
      "source": [
        "import pickle\n",
        "from typing import Union\n",
        "import time\n",
        "\n",
        "import numpy as np\n",
        "from sklearn.decomposition import PCA\n",
        "import matplotlib.pyplot as plt\n",
        "\n",
        "import torch\n",
        "import torch.nn as nn\n",
        "import torch.nn.functional as F\n",
        "import torch.optim as optim\n",
        "from torch.utils.data import Dataset, DataLoader"
      ]
    },
    {
      "cell_type": "code",
      "source": [
        "if torch.cuda.is_available():\n",
        "    device = 'cuda'\n",
        "else:\n",
        "    device = 'cpu'\n",
        "device"
      ],
      "metadata": {
        "colab": {
          "base_uri": "https://localhost:8080/",
          "height": 35
        },
        "id": "p2r6Kdaxv7yH",
        "outputId": "123d53a8-0fd6-4a7e-884d-2496b860dc37"
      },
      "execution_count": 2,
      "outputs": [
        {
          "output_type": "execute_result",
          "data": {
            "text/plain": [
              "'cuda'"
            ],
            "application/vnd.google.colaboratory.intrinsic+json": {
              "type": "string"
            }
          },
          "metadata": {},
          "execution_count": 2
        }
      ]
    },
    {
      "cell_type": "code",
      "source": [
        "class EmitEcostressDataset(Dataset):\n",
        "    def __init__(\n",
        "        self,\n",
        "        emit_data_path: Union[str, None] = None,\n",
        "        emit_data: Union[np.ndarray, None] = None,\n",
        "        ecostress_data_path: Union[str, None] = None,\n",
        "        ecostress_data: Union[np.ndarray, None] = None,\n",
        "        additional_data_paths: Union[tuple[str], None] = None,\n",
        "        additional_data: Union[tuple[np.ndarray], None] = None,\n",
        "    ):\n",
        "        '''\n",
        "        Builds a pytorch dataset for predicting ECOSTRESS LST\n",
        "        from EMIT spectra and any given additional data\n",
        "\n",
        "        Input:\n",
        "        emit_data_path: path to emit data as .npy or .pkl file,\n",
        "                        not used if emit_data != None\n",
        "        emit_data: 2- or 3- dimensional np array of emit data\n",
        "        ecostress_data_path: path to ecostress data as .npy or .pkl file,\n",
        "                             not used if ecostress_data != None\n",
        "        ecostress_data: 1- or 2- dimensional np array of ecostress data\n",
        "        additional_data_paths: tuple of paths to supplementary datasets\n",
        "                               used for additional model input,\n",
        "                               must be .npy or .pkl files\n",
        "        additional_data: tuple of 1-, 2-, or 3-dimensional np arrays of\n",
        "                         supplementary data used for additional model input\n",
        "\n",
        "        * Note that emit_data and ecostress_data will take precedence\n",
        "          over emit_data_path and ecostress_data_path, respectively,\n",
        "          but additional_data_paths and additional_data can both be specified,\n",
        "          and if additional_data_paths specifies a path to data already\n",
        "          in additional_data, a duplicate will be added\n",
        "        '''\n",
        "        if emit_data_path != None and emit_data == None:\n",
        "            if emit_data_path[-4:] == '.npy':\n",
        "                emit_data = np.load(emit_data_path)\n",
        "            elif emit_data_path[-4:] == '.pkl':\n",
        "                emit_data = pickle.load(open(emit_data_path, 'rb'))\n",
        "            else:\n",
        "                raise ValueError(\n",
        "                    f'emit_data_path [{emit_data_path}] has an '\n",
        "                    'invalid file extension, must be .npy or .pkl'\n",
        "                )\n",
        "        if emit_data is not None:\n",
        "            if len(emit_data.shape) == 2:\n",
        "                self.emit_data = emit_data\n",
        "            elif len(emit_data.shape) == 3:\n",
        "                self.emit_data = emit_data.reshape(\n",
        "                    (\n",
        "                        emit_data.shape[0] * emit_data.shape[1],\n",
        "                        emit_data.shape[2]\n",
        "                    )\n",
        "                )\n",
        "            else:\n",
        "                raise ValueError(\n",
        "                    'emit_data must be 2- or 3-dimensional, '\n",
        "                    f'found {len(emit_data.shape)}-dimensional'\n",
        "                )\n",
        "        else:\n",
        "            raise ValueError(\n",
        "                'Either emit_data_path or emit_data must not be None'\n",
        "            )\n",
        "\n",
        "        if ecostress_data_path != None and ecostress_data == None:\n",
        "            if ecostress_data_path[-4:] == '.npy':\n",
        "                ecostress_data = np.load(ecostress_data_path)\n",
        "            elif ecostress_data_path[-4:] == '.pkl':\n",
        "                ecostress_data = pickle.load(open(ecostress_data_path, 'rb'))\n",
        "            else:\n",
        "                raise ValueError(\n",
        "                    f'ecostress_data_path [{ecostress_data_path}] has an '\n",
        "                    'invalid file extension, must be .npy or .pkl'\n",
        "                )\n",
        "        if ecostress_data is not None:\n",
        "            if len(ecostress_data.shape) == 1:\n",
        "                self.ecostress_data = ecostress_data\n",
        "            elif len(ecostress_data.shape) == 2:\n",
        "                self.ecostress_data = ecostress_data.reshape(\n",
        "                    ecostress_data.shape[0] * ecostress_data.shape[1]\n",
        "                )\n",
        "            else:\n",
        "                raise ValueError(\n",
        "                    'ecostress_data must be 2- or 3-dimensional, '\n",
        "                    f'found {len(ecostress_data.shape)}-dimensional'\n",
        "                )\n",
        "        else:\n",
        "            raise ValueError(\n",
        "                'Either ecostress_data_path or ecostress_data must not be None'\n",
        "            )\n",
        "\n",
        "        assert self.emit_data.shape[0] == self.ecostress_data.shape[0], \\\n",
        "            'emit_data and ecostress_data must have the length, ' \\\n",
        "            f'got {self.emit_data.shape[0]} and {self.ecostress_data.shape[0]}'\n",
        "\n",
        "        self.ecostress_data = (\n",
        "            (\n",
        "                self.ecostress_data - np.mean(self.ecostress_data, axis=0)\n",
        "            ) / np.std(self.ecostress_data, axis=0)\n",
        "        )\n",
        "\n",
        "        # nan_mask = np.isnan(self.emit_data)\n",
        "        # self.emit_data = self.emit_data[~nan_mask]\n",
        "        # self.ecostress_data = self.ecostress_data[~nan_mask[:,0]]\n",
        "\n",
        "        # assert self.emit_data.shape[0] == self.ecostress_data.shape[0], \\\n",
        "        #     'emit_data and ecostress_data changed lengths during filtering, ' \\\n",
        "        #     f'got {self.emit_data.shape[0]} and {self.ecostress_data.shape[0]}'\n",
        "\n",
        "        self.additional_data = []\n",
        "        if additional_data != None:\n",
        "            for i in range(len(additional_data)):\n",
        "                if len(additional_data[i].shape) == 1:\n",
        "                    self.additional_data.append(additional_data[i])\n",
        "                if len(additional_data[i].shape) == 2:\n",
        "                    self.additional_data.append(additional_data[i])\n",
        "                elif len(additional_data[i].shape) == 3:\n",
        "                    self.additional_data.append(\n",
        "                        additional_data[i].reshape(\n",
        "                            (\n",
        "                                additional_data[i].shape[0] *\n",
        "                                additional_data[i].shape[1],\n",
        "                                additional_data[i].shape[2]\n",
        "                            )\n",
        "                        )\n",
        "                    )\n",
        "                else:\n",
        "                    raise ValueError(\n",
        "                        f'Item at index {i} in additional_data must be'\n",
        "                        '1-, 2-, or 3-dimensional, '\n",
        "                        f'found {len(additional_data[i].shape)}-dimensional'\n",
        "                    )\n",
        "\n",
        "        if additional_data_paths != None:\n",
        "            for i in range(len(additional_data_paths)):\n",
        "                if additional_data_paths[i][-4:] == '.npy':\n",
        "                    additional_data_element = np.load(additional_data_paths[i])\n",
        "                elif additional_data_paths[i][-4:] == '.pkl':\n",
        "                    additional_data_element = pickle.load(\n",
        "                        open(additional_data_paths[i], 'rb')\n",
        "                    )\n",
        "                else:\n",
        "                    raise ValueError(\n",
        "                        f'Path at index {i} [{additional_data_paths[i]}] '\n",
        "                        'of additional_data_paths has an invalid '\n",
        "                        'file extension, must be .npy or .pkl'\n",
        "                    )\n",
        "                if len(additional_data_element.shape) == 1:\n",
        "                    self.additional_data.append(\n",
        "                        additional_data_element.reshape(\n",
        "                            (additional_data_element.shape[0], 1)\n",
        "                        )\n",
        "                    )\n",
        "                if len(additional_data_element.shape) == 2:\n",
        "                    self.additional_data.append(additional_data_element)\n",
        "                elif len(additional_data_element.shape) == 3:\n",
        "                    self.additional_data.append(\n",
        "                        additional_data_element.reshape(\n",
        "                            (\n",
        "                                additional_data_element.shape[0] *\n",
        "                                additional_data_element.shape[1],\n",
        "                                additional_data_element.shape[2]\n",
        "                            )\n",
        "                        )\n",
        "                    )\n",
        "                else:\n",
        "                    raise ValueError(\n",
        "                        f'Item loaded from index {i} in additional_data_paths '\n",
        "                        ' must be 1-. 2-, or 3-dimensional, found '\n",
        "                        f'{len(additional_data_element.shape)}-dimensional'\n",
        "                    )\n",
        "\n",
        "        for i, additional_data_element in enumerate(self.additional_data):\n",
        "            # additional_data_element = additional_data_element[~nan_mask]\n",
        "            if i >= len(additional_data):\n",
        "                index = i - len(additional_data)\n",
        "                message = f'loaded from index {index} in additional_data_paths'\n",
        "            else:\n",
        "                index = i\n",
        "                message = f'from index {index} in additional_data'\n",
        "            assert additional_data_element.shape[0] == self.emit_data.shape[0],\\\n",
        "                f'emit_data and additonal data {message} must have the same ' \\\n",
        "                f'length, got {self.emit_data.shape[0]} ' \\\n",
        "                f'and {additional_data_element.shape[0]}'\n",
        "\n",
        "        self.input_dim = (\n",
        "            emit_data.shape[1] +\n",
        "            sum(\n",
        "                [\n",
        "                    additional_data_element.shape[1]\n",
        "                    for additional_data_element in self.additional_data\n",
        "                ]\n",
        "            )\n",
        "        )\n",
        "\n",
        "\n",
        "    def __len__(self):\n",
        "        return self.emit_data.shape[0]\n",
        "        # return 100000\n",
        "\n",
        "\n",
        "    def __getitem__(self, index: int):\n",
        "        x = self.emit_data[index, :]\n",
        "        for additional_data_element in self.additional_data:\n",
        "            x = np.concatenate([x, additional_data_element[index, :]], axis=1)\n",
        "        y = self.ecostress_data[index]\n",
        "        return torch.tensor(x), torch.tensor(y)"
      ],
      "metadata": {
        "id": "PFd6S-Yhv_La"
      },
      "execution_count": 3,
      "outputs": []
    },
    {
      "cell_type": "code",
      "source": [
        "# Make datasets and dataloaders\n",
        "pca_dim = 9\n",
        "white = True\n",
        "\n",
        "if white:\n",
        "    pca_dim = str(pca_dim) + '_white'\n",
        "\n",
        "train_dataset = EmitEcostressDataset(\n",
        "    emit_data_path=(\n",
        "        '/content/drive/Shareddrives/emit-ecostress/Data/Train_Val_Test/'\n",
        "        f'emit_train_random_pca{pca_dim}.pkl'\n",
        "    ),\n",
        "    ecostress_data_path=(\n",
        "        '/content/drive/Shareddrives/emit-ecostress/Data/Train_Val_Test/'\n",
        "        'ecostress_train_random.pkl'\n",
        "    )\n",
        ")\n",
        "\n",
        "val_dataset = EmitEcostressDataset(\n",
        "    emit_data_path=(\n",
        "        '/content/drive/Shareddrives/emit-ecostress/Data/Train_Val_Test/'\n",
        "        f'emit_val_random_pca{pca_dim}.pkl'\n",
        "    ),\n",
        "    ecostress_data_path=(\n",
        "        '/content/drive/Shareddrives/emit-ecostress/Data/Train_Val_Test/'\n",
        "        'ecostress_val_random.pkl'\n",
        "    )\n",
        ")\n",
        "\n",
        "train_loader = DataLoader(train_dataset, batch_size=2048)\n",
        "val_loader = DataLoader(val_dataset, batch_size=2048)"
      ],
      "metadata": {
        "id": "LLb9qZqyHV2k"
      },
      "execution_count": 6,
      "outputs": []
    },
    {
      "cell_type": "code",
      "source": [
        "class SimpleModel(nn.Module):\n",
        "    '''\n",
        "    Defines a pytorch model made up of dense linear layers and ReLU activation\n",
        "    If argmin = argmin(abs(2**ceil(log2(x)) - x), abs(2**floor(log2(x)) - x))\n",
        "    where x is the input dimension, then the number of hidden layers is\n",
        "    n_hidden_layers = int(ceil([ceil(log2(x)), floor(log2(x))][argmin]/1.75)),\n",
        "    and the dimension of the first hidden layer is\n",
        "    dim_1 = int([2**ceil(log2(x)), 2**floor(log2(x))][argmin]),\n",
        "    and dim_n+1 = dim_n / 2 for n >= 1\n",
        "    '''\n",
        "    def __init__(self, input_dim: int):\n",
        "        super(SimpleModel, self).__init__()\n",
        "        self.linear1 = nn.Linear(input_dim, 8)\n",
        "        self.linear2 = nn.Linear(8, 8)\n",
        "        self.linear3 = nn.Linear(8, 4)\n",
        "        self.linear_output = nn.Linear(4, 1)\n",
        "\n",
        "\n",
        "    def forward(self, x: torch.Tensor):\n",
        "        x = F.layer_norm(\n",
        "            F.relu(self.linear1(x)), (x.shape[0], self.linear1.out_features)\n",
        "        )\n",
        "        x = F.layer_norm(\n",
        "            F.relu(self.linear2(x)), (x.shape[0], self.linear2.out_features)\n",
        "        )\n",
        "        x = F.layer_norm(\n",
        "            F.relu(self.linear3(x)), (x.shape[0], self.linear3.out_features)\n",
        "        )\n",
        "        x = self.linear_output(x)\n",
        "        return x.squeeze()"
      ],
      "metadata": {
        "id": "OTysA6hhFsfR"
      },
      "execution_count": 8,
      "outputs": []
    },
    {
      "cell_type": "code",
      "source": [
        "def train(\n",
        "    model,\n",
        "    optimizer,\n",
        "    scheduler,\n",
        "    loss_fn,\n",
        "    train_loader: DataLoader,\n",
        "    val_loader: Union[DataLoader, None] = None,\n",
        "    n_epochs: int = 10,\n",
        "    loss_interval: int = 5,\n",
        "):\n",
        "    begin = time.time()\n",
        "    t = begin\n",
        "    train_loss = np.zeros(n_epochs+1)\n",
        "    val_loss = np.zeros(n_epochs+1)\n",
        "    for epoch in range(n_epochs+1):\n",
        "        model.train()\n",
        "        for x, y in train_loader:\n",
        "            optimizer.zero_grad()\n",
        "            x = x.to(dtype=torch.float, device=device)\n",
        "            y = y.to(dtype=torch.float, device=device)\n",
        "            x = model(x)\n",
        "            loss = loss_fn(x, y.squeeze())\n",
        "            if epoch != 0:\n",
        "                loss.backward()\n",
        "                optimizer.step()\n",
        "            train_loss[epoch] += loss.item() / len(train_dataset)\n",
        "        if epoch != 0 and scheduler is not None:\n",
        "            scheduler.step()\n",
        "\n",
        "        model.eval()\n",
        "        with torch.no_grad():\n",
        "            for x, y in val_loader:\n",
        "                x = x.to(dtype=torch.float, device=device)\n",
        "                y = y.to(dtype=torch.float, device=device)\n",
        "                x = model(x)\n",
        "                val_loss[epoch] += loss_fn(x, y.squeeze()).item() / len(val_dataset)\n",
        "\n",
        "        if (\n",
        "            loss_interval is not None\n",
        "            and (epoch % loss_interval == 0 or epoch == n_epochs - 1)\n",
        "        ):\n",
        "            print(\n",
        "                f'Epoch {\"0\" * (3 - len(str(epoch))) + str(epoch)}\\t\\t'\n",
        "                f'Train Loss: {train_loss[epoch]:.5}\\t\\t'\n",
        "                f'Val Loss: {val_loss[epoch]:.5} \\t\\t',\n",
        "                end='',\n",
        "            )\n",
        "            if scheduler is not None:\n",
        "                print(f'LR: {scheduler.get_last_lr()[0]:.6}\\t\\t', end='')\n",
        "            else:\n",
        "                print('', end='')\n",
        "            print(f'Time: {time.time() - t}')\n",
        "            t = time.time()\n",
        "\n",
        "    return train_loss, val_loss"
      ],
      "metadata": {
        "id": "Vs9VehUAAzvB"
      },
      "execution_count": 25,
      "outputs": []
    },
    {
      "cell_type": "code",
      "source": [
        "# Make model, optimizer, and loss function\n",
        "n_epochs = 5\n",
        "model = SimpleModel(train_dataset.input_dim).to(device)\n",
        "optimizer = optim.Adam(model.parameters(), lr=0.001, weight_decay=0)\n",
        "scheduler = optim.lr_scheduler.StepLR(optimizer, n_epochs // 5, 0.5)\n",
        "# scheduler = None\n",
        "loss_fn = nn.MSELoss(reduction='sum')\n",
        "model"
      ],
      "metadata": {
        "colab": {
          "base_uri": "https://localhost:8080/"
        },
        "id": "JC8HknKRcLff",
        "outputId": "b7f71472-997b-47be-d03e-e2f9ce574972"
      },
      "execution_count": 26,
      "outputs": [
        {
          "output_type": "execute_result",
          "data": {
            "text/plain": [
              "SimpleModel(\n",
              "  (linear1): Linear(in_features=9, out_features=8, bias=True)\n",
              "  (linear2): Linear(in_features=8, out_features=8, bias=True)\n",
              "  (linear3): Linear(in_features=8, out_features=4, bias=True)\n",
              "  (linear_output): Linear(in_features=4, out_features=1, bias=True)\n",
              ")"
            ]
          },
          "metadata": {},
          "execution_count": 26
        }
      ]
    },
    {
      "cell_type": "code",
      "source": [
        "train_loss, val_loss = train(\n",
        "    model,\n",
        "    optimizer,\n",
        "    scheduler,\n",
        "    loss_fn,\n",
        "    train_loader,\n",
        "    val_loader,\n",
        "    n_epochs=n_epochs,\n",
        "    loss_interval=max(n_epochs // 10, 1)\n",
        ")"
      ],
      "metadata": {
        "colab": {
          "base_uri": "https://localhost:8080/"
        },
        "id": "t4qRiT14w0Ja",
        "outputId": "9a84451b-db99-40d9-97d0-9844baf0fd34"
      },
      "execution_count": null,
      "outputs": [
        {
          "output_type": "stream",
          "name": "stdout",
          "text": [
            "Epoch 000\t\tTrain Loss: 1.9877\t\tVal Loss: 1.9841 \t\tLR: 0.001\t\tTime: 52.280231952667236\n",
            "Epoch 001\t\tTrain Loss: 0.11504\t\tVal Loss: 0.11168 \t\tLR: 0.0005\t\tTime: 53.872026443481445\n"
          ]
        }
      ]
    },
    {
      "cell_type": "code",
      "source": [
        "fig, ax = plt.subplots()\n",
        "ax.plot(np.arange(n_epochs+1), train_loss, label='train')\n",
        "ax.plot(np.arange(n_epochs+1), val_loss, label='val')\n",
        "ax.set_xlabel('Epoch')\n",
        "ax.set_ylabel('Average MSE Loss')\n",
        "ax.legend()\n",
        "plt.show(fig)"
      ],
      "metadata": {
        "colab": {
          "base_uri": "https://localhost:8080/",
          "height": 449
        },
        "id": "2WMBIRNH-mF5",
        "outputId": "e2e68c6a-69d6-404f-ccd1-6130d713bb79"
      },
      "execution_count": 18,
      "outputs": [
        {
          "output_type": "display_data",
          "data": {
            "text/plain": [
              "<Figure size 640x480 with 1 Axes>"
            ],
            "image/png": "[encoded data removed]"
          },
          "metadata": {}
        }
      ]
    },
    {
      "cell_type": "code",
      "source": [
        "n_epochs = 3\n",
        "loss_fn = nn.MSELoss(reduction='sum')\n",
        "lambdas = np.concatenate([np.array([0]), np.logspace(-3, 2, 11)])\n",
        "losses = np.zeros((2, len(lambdas)))\n",
        "for i, lam in enumerate(lambdas):\n",
        "    print(f'Lambda = {lam}... ', end='')\n",
        "    model = SimpleModel(train_dataset.input_dim).to(device)\n",
        "    optimizer = optim.Adam(model.parameters(), lr=0.01, weight_decay=lam)\n",
        "    # scheduler = optim.lr_scheduler.StepLR(optimizer, n_epochs // 5, 0.5)\n",
        "    scheduler = None\n",
        "\n",
        "    train_loss, val_loss = train(\n",
        "        model,\n",
        "        optimizer,\n",
        "        scheduler,\n",
        "        loss_fn,\n",
        "        train_loader,\n",
        "        val_loader,\n",
        "        n_epochs=n_epochs,\n",
        "        loss_interval=None,\n",
        "    )\n",
        "    losses[0, i] = train_loss[-1]\n",
        "    losses[1, i] = val_loss[-1]\n",
        "    print('done')"
      ],
      "metadata": {
        "colab": {
          "base_uri": "https://localhost:8080/"
        },
        "id": "-rleqqSrxrRf",
        "outputId": "6409a681-b891-4964-fb3e-111e3ba05b64"
      },
      "execution_count": 23,
      "outputs": [
        {
          "output_type": "stream",
          "name": "stdout",
          "text": [
            "Lambda = 0.0... done\n",
            "Lambda = 0.001... done\n",
            "Lambda = 0.0031622776601683794... done\n",
            "Lambda = 0.01... done\n",
            "Lambda = 0.03162277660168379... done\n",
            "Lambda = 0.1... done\n",
            "Lambda = 0.31622776601683794... done\n",
            "Lambda = 1.0... done\n",
            "Lambda = 3.1622776601683795... done\n",
            "Lambda = 10.0... done\n",
            "Lambda = 31.622776601683793... done\n",
            "Lambda = 100.0... done\n"
          ]
        }
      ]
    },
    {
      "cell_type": "code",
      "source": [
        "fig, ax = plt.subplots()\n",
        "ax.semilogx(lambdas, losses[0, :], label='train')\n",
        "ax.semilogx(lambdas, losses[1, :], label='val')\n",
        "ax.legend()\n",
        "ax.set_xlabel('Lambda')\n",
        "ax.set_ylabel('Average MSE Loss')\n",
        "plt.show(fig)"
      ],
      "metadata": {
        "colab": {
          "base_uri": "https://localhost:8080/",
          "height": 454
        },
        "id": "5uocAYMgC7km",
        "outputId": "a2f9ce50-f6f5-47bc-ca18-4ffc7179c1dc"
      },
      "execution_count": 24,
      "outputs": [
        {
          "output_type": "display_data",
          "data": {
            "text/plain": [
              "<Figure size 640x480 with 1 Axes>"
            ],
            "image/png": "[encoded data removed]"
          },
          "metadata": {}
        }
      ]
    },
    {
      "cell_type": "code",
      "source": [
        "n_components_list = [2, 4, 9, 16, 25, 32, 88]\n",
        "losses = np.zeros((2, len(n_components_list), 2))\n",
        "n_epochs = 3\n",
        "loss_fn = nn.MSELoss(reduction='sum')\n",
        "for i, white in enumerate(['', '_white']):\n",
        "    for j, n_components in enumerate(n_components_list):\n",
        "        if white == '':\n",
        "            print(f'White = False, n = {n_components}... ', end='')\n",
        "        else:\n",
        "            print(f'White = True, n = {n_components}... ', end='')\n",
        "        train_dataset = EmitEcostressDataset(\n",
        "            emit_data_path=(\n",
        "                '/content/drive/Shareddrives/emit-ecostress/Data/'\n",
        "                f'Train_Val_Test/emit_train_pca{n_components}{white}.pkl'\n",
        "            ),\n",
        "            ecostress_data_path=(\n",
        "                '/content/drive/Shareddrives/emit-ecostress/Data/'\n",
        "                'Train_Val_Test/ecostress_train.pkl'\n",
        "            )\n",
        "        )\n",
        "        val_dataset = EmitEcostressDataset(\n",
        "            emit_data_path=(\n",
        "                f'/content/drive/Shareddrives/emit-ecostress/Data/'\n",
        "                f'Train_Val_Test/emit_val_pca{n_components}{white}.pkl'\n",
        "            ),\n",
        "            ecostress_data_path=(\n",
        "                '/content/drive/Shareddrives/emit-ecostress/Data/'\n",
        "                'Train_Val_Test/ecostress_val.pkl'\n",
        "            )\n",
        "        )\n",
        "        train_loader = DataLoader(train_dataset, batch_size=16)\n",
        "        val_loader = DataLoader(val_dataset, batch_size=16)\n",
        "\n",
        "        model = SimpleModel(train_dataset.input_dim).to(device)\n",
        "        optimizer = optim.Adam(\n",
        "            model.parameters(), lr=0.01, weight_decay=10**-1.75\n",
        "        )\n",
        "        scheduler = optim.lr_scheduler.StepLR(optimizer, n_epochs // 5, 0.5)\n",
        "\n",
        "        train_loss, val_loss = train(\n",
        "            model,\n",
        "            optimizer,\n",
        "            scheduler,\n",
        "            loss_fn,\n",
        "            train_loader,\n",
        "            val_loader,\n",
        "            n_epochs=n_epochs,\n",
        "            loss_interval=None,\n",
        "        )\n",
        "\n",
        "        losses[i, j, 0] = train_loss[-1]\n",
        "        losses[i, j, 1] = val_loss[-1]\n",
        "        print('done')"
      ],
      "metadata": {
        "colab": {
          "base_uri": "https://localhost:8080/"
        },
        "id": "qBVzlVSFGAJJ",
        "outputId": "1e24681d-29bc-4239-f4f5-b692172acb1c"
      },
      "execution_count": null,
      "outputs": [
        {
          "output_type": "stream",
          "name": "stdout",
          "text": [
            "White = False, n = 1... "
          ]
        },
        {
          "output_type": "stream",
          "name": "stderr",
          "text": [
            "/usr/local/lib/python3.10/dist-packages/torch/nn/modules/loss.py:535: UserWarning: Using a target size (torch.Size([1])) that is different to the input size (torch.Size([])). This will likely lead to incorrect results due to broadcasting. Please ensure they have the same size.\n",
            "  return F.mse_loss(input, target, reduction=self.reduction)\n"
          ]
        },
        {
          "output_type": "stream",
          "name": "stdout",
          "text": [
            "done\n",
            "White = False, n = 3... done\n",
            "White = False, n = 8... done\n",
            "White = False, n = 21... done\n",
            "White = False, n = 32... done\n",
            "White = False, n = 76... done\n",
            "White = False, n = 100... done\n",
            "White = True, n = 1... done\n",
            "White = True, n = 3... done\n",
            "White = True, n = 8... done\n",
            "White = True, n = 21... done\n",
            "White = True, n = 32... done\n",
            "White = True, n = 76... done\n",
            "White = True, n = 100... done\n"
          ]
        }
      ]
    },
    {
      "cell_type": "code",
      "source": [
        "fig, ax = plt.subplots()\n",
        "ax.plot(np.arange(len(n_components_list)), losses[0, :, 0], label='train, white=False', alpha=0.75)\n",
        "ax.plot(np.arange(len(n_components_list)), losses[1, :, 0], label='train white=True', alpha=0.75)\n",
        "ax.plot(np.arange(len(n_components_list)), losses[0, :, 1], label='val, white=False', alpha=0.75)\n",
        "ax.plot(np.arange(len(n_components_list)), losses[1, :, 1], label='val, white=True', alpha=0.75)\n",
        "ax.set_xticklabels(np.concatenate([np.zeros(1, dtype=int), n_components_list]))\n",
        "ax.legend()\n",
        "ax.set_xlabel('n PCA components')\n",
        "ax.set_ylabel('Average MSE Loss')\n",
        "plt.show(fig)"
      ],
      "metadata": {
        "colab": {
          "base_uri": "https://localhost:8080/",
          "height": 484
        },
        "id": "eWmNyMmISiNI",
        "outputId": "723cfd3b-e230-485b-f614-dac7023f55eb"
      },
      "execution_count": null,
      "outputs": [
        {
          "output_type": "stream",
          "name": "stderr",
          "text": [
            "<ipython-input-134-12a15bd547d7>:6: UserWarning: FixedFormatter should only be used together with FixedLocator\n",
            "  ax.set_xticklabels(np.concatenate([np.zeros(1, dtype=int), n_components_list]))\n"
          ]
        },
        {
          "output_type": "display_data",
          "data": {
            "text/plain": [
              "<Figure size 640x480 with 1 Axes>"
            ],
            "image/png": "[encoded data removed]"
          },
          "metadata": {}
        }
      ]
    },
    {
      "cell_type": "code",
      "source": [],
      "metadata": {
        "id": "XYLOpsfUUZtx"
      },
      "execution_count": null,
      "outputs": []
    },
    {
      "cell_type": "code",
      "source": [
        "emit = pickle.load(\n",
        "    open(\n",
        "        '/content/drive/Shareddrives/emit-ecostress/Data/Train_Val_Test/'\n",
        "        'emit_clean.pkl',\n",
        "        'rb'\n",
        "    )\n",
        ")\n",
        "\n",
        "eco = pickle.load(\n",
        "    open(\n",
        "        '/content/drive/Shareddrives/emit-ecostress/Data/Train_Val_Test/'\n",
        "        'ecostress_clean.pkl',\n",
        "        'rb'\n",
        "    )\n",
        ")\n",
        "\n",
        "emit.shape, eco.shape"
      ],
      "metadata": {
        "colab": {
          "base_uri": "https://localhost:8080/"
        },
        "id": "NPVmKxuEix2w",
        "outputId": "1f833df8-eb68-448d-ee0f-656698c2b8be"
      },
      "execution_count": null,
      "outputs": [
        {
          "output_type": "execute_result",
          "data": {
            "text/plain": [
              "((3891824, 244), (3891824,))"
            ]
          },
          "metadata": {},
          "execution_count": 2
        }
      ]
    },
    {
      "cell_type": "code",
      "source": [
        "rng = np.random.default_rng()"
      ],
      "metadata": {
        "id": "2pAlGP3Rjle4"
      },
      "execution_count": null,
      "outputs": []
    },
    {
      "cell_type": "code",
      "source": [
        "inds = rng.choice([0, 1, 2], p=[0.6, 0.2, 0.2], size=eco.shape[0])\n",
        "inds.shape, inds[:10]"
      ],
      "metadata": {
        "colab": {
          "base_uri": "https://localhost:8080/"
        },
        "id": "rdVHqsyXj5oV",
        "outputId": "31d3e736-8806-45ad-c58e-f44ba6dd27a4"
      },
      "execution_count": null,
      "outputs": [
        {
          "output_type": "execute_result",
          "data": {
            "text/plain": [
              "((3891824,), array([1, 1, 2, 0, 0, 2, 0, 1, 2, 2]))"
            ]
          },
          "metadata": {},
          "execution_count": 4
        }
      ]
    },
    {
      "cell_type": "code",
      "source": [
        "xtrain = emit[inds == 0]\n",
        "xval = emit[inds == 1]\n",
        "xtest = emit[inds == 2]\n",
        "ytrain = eco[inds == 0]\n",
        "yval = eco[inds == 1]\n",
        "ytest = eco[inds == 2]\n",
        "xtrain.shape, xval.shape, xtest.shape, ytrain.shape, yval.shape, ytest.shape"
      ],
      "metadata": {
        "colab": {
          "base_uri": "https://localhost:8080/"
        },
        "id": "nhopnw8VkbmX",
        "outputId": "9a9144d0-4200-4a62-b974-07e9db3ceec2"
      },
      "execution_count": null,
      "outputs": [
        {
          "output_type": "execute_result",
          "data": {
            "text/plain": [
              "((2334453, 244),\n",
              " (777951, 244),\n",
              " (779420, 244),\n",
              " (2334453,),\n",
              " (777951,),\n",
              " (779420,))"
            ]
          },
          "metadata": {},
          "execution_count": 6
        }
      ]
    },
    {
      "cell_type": "code",
      "source": [
        "pickle.dump(xtrain, open('/content/drive/Shareddrives/emit-ecostress/Data/Train_Val_Test/emit_train_random', 'wb'))"
      ],
      "metadata": {
        "id": "TcZbL-bakpm4"
      },
      "execution_count": null,
      "outputs": []
    },
    {
      "cell_type": "code",
      "source": [
        "pickle.dump(xval, open('/content/drive/Shareddrives/emit-ecostress/Data/Train_Val_Test/emit_val_random', 'wb'))\n",
        "pickle.dump(xtest, open('/content/drive/Shareddrives/emit-ecostress/Data/Train_Val_Test/emit_test_random', 'wb'))\n",
        "pickle.dump(ytrain, open('/content/drive/Shareddrives/emit-ecostress/Data/Train_Val_Test/ecostress_train_random', 'wb'))\n",
        "pickle.dump(yval, open('/content/drive/Shareddrives/emit-ecostress/Data/Train_Val_Test/ecostress_val_random', 'wb'))\n",
        "pickle.dump(ytest, open('/content/drive/Shareddrives/emit-ecostress/Data/Train_Val_Test/ecostress_test_random', 'wb'))"
      ],
      "metadata": {
        "id": "0zE3D0AAlUea"
      },
      "execution_count": null,
      "outputs": []
    },
    {
      "cell_type": "code",
      "source": [],
      "metadata": {
        "id": "c0Zg8tF7l1VL"
      },
      "execution_count": null,
      "outputs": []
    }
  ]
}