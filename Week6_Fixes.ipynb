{
  "cells": [
    {
      "cell_type": "markdown",
      "metadata": {
        "colab_type": "text",
        "id": "view-in-github"
      },
      "source": [
        "<a href=\"https://colab.research.google.com/github/DannyCollinson/EMIT-ECOSTRESS/blob/Model_Update/Week6_Fixes.ipynb\" target=\"_parent\"><img src=\"https://colab.research.google.com/assets/colab-badge.svg\" alt=\"Open In Colab\"/></a>"
      ]
    },
    {
      "cell_type": "code",
      "execution_count": 4,
      "metadata": {
        "id": "9q0l7q9GtnGX"
      },
      "outputs": [],
      "source": [
        "import os\n",
        "import pickle\n",
        "from typing import Union\n",
        "import time\n",
        "\n",
        "import numpy as np\n",
        "from sklearn.decomposition import PCA\n",
        "import matplotlib.pyplot as plt\n",
        "\n",
        "import torch\n",
        "import torch.nn as nn\n",
        "import torch.nn.functional as F\n",
        "import torch.optim as optim\n",
        "from torch.utils.data import Dataset, DataLoader"
      ]
    },
    {
      "cell_type": "code",
      "execution_count": 5,
      "metadata": {
        "colab": {
          "base_uri": "https://localhost:8080/",
          "height": 35
        },
        "id": "p2r6Kdaxv7yH",
        "outputId": "123d53a8-0fd6-4a7e-884d-2496b860dc37"
      },
      "outputs": [
        {
          "data": {
            "text/plain": [
              "'cuda'"
            ]
          },
          "execution_count": 5,
          "metadata": {},
          "output_type": "execute_result"
        }
      ],
      "source": [
        "if torch.cuda.is_available():\n",
        "    device = 'cuda'\n",
        "else:\n",
        "    device = 'cpu'\n",
        "device"
      ]
    },
    {
      "cell_type": "code",
      "execution_count": 3,
      "metadata": {
        "id": "PFd6S-Yhv_La"
      },
      "outputs": [],
      "source": [
        "class EmitEcostressDataset(Dataset):\n",
        "    def __init__(\n",
        "        self,\n",
        "        emit_data_path: Union[str, None] = None,\n",
        "        emit_data: Union[np.ndarray, None] = None,\n",
        "        ecostress_data_path: Union[str, None] = None,\n",
        "        ecostress_data: Union[np.ndarray, None] = None,\n",
        "        additional_data_paths: Union[tuple[str], None] = None,\n",
        "        additional_data: Union[tuple[np.ndarray], None] = None,\n",
        "    ):\n",
        "        '''\n",
        "        Builds a pytorch dataset for predicting ECOSTRESS LST\n",
        "        from EMIT spectra and any given additional data\n",
        "\n",
        "        Input:\n",
        "        emit_data_path: path to emit data as .npy or .pkl file,\n",
        "                        not used if emit_data != None\n",
        "        emit_data: 2- or 3- dimensional np array of emit data\n",
        "        ecostress_data_path: path to ecostress data as .npy or .pkl file,\n",
        "                             not used if ecostress_data != None\n",
        "        ecostress_data: 1- or 2- dimensional np array of ecostress data\n",
        "        additional_data_paths: tuple of paths to supplementary datasets\n",
        "                               used for additional model input,\n",
        "                               must be .npy or .pkl files\n",
        "        additional_data: tuple of 1-, 2-, or 3-dimensional np arrays of\n",
        "                         supplementary data used for additional model input\n",
        "\n",
        "        * Note that emit_data and ecostress_data will take precedence\n",
        "          over emit_data_path and ecostress_data_path, respectively,\n",
        "          but additional_data_paths and additional_data can both be specified,\n",
        "          and if additional_data_paths specifies a path to data already\n",
        "          in additional_data, a duplicate will be added\n",
        "        '''\n",
        "        if emit_data_path != None and emit_data == None:\n",
        "            if emit_data_path[-4:] == '.npy':\n",
        "                emit_data = np.load(emit_data_path)\n",
        "            elif emit_data_path[-4:] == '.pkl':\n",
        "                emit_data = pickle.load(open(emit_data_path, 'rb'))\n",
        "            else:\n",
        "                raise ValueError(\n",
        "                    f'emit_data_path [{emit_data_path}] has an '\n",
        "                    'invalid file extension, must be .npy or .pkl'\n",
        "                )\n",
        "        if emit_data is not None:\n",
        "            if len(emit_data.shape) == 2:\n",
        "                self.emit_data = emit_data\n",
        "            elif len(emit_data.shape) == 3:\n",
        "                self.emit_data = emit_data.reshape(\n",
        "                    (\n",
        "                        emit_data.shape[0] * emit_data.shape[1],\n",
        "                        emit_data.shape[2]\n",
        "                    )\n",
        "                )\n",
        "            else:\n",
        "                raise ValueError(\n",
        "                    'emit_data must be 2- or 3-dimensional, '\n",
        "                    f'found {len(emit_data.shape)}-dimensional'\n",
        "                )\n",
        "        else:\n",
        "            raise ValueError(\n",
        "                'Either emit_data_path or emit_data must not be None'\n",
        "            )\n",
        "\n",
        "        if ecostress_data_path != None and ecostress_data == None:\n",
        "            if ecostress_data_path[-4:] == '.npy':\n",
        "                ecostress_data = np.load(ecostress_data_path)\n",
        "            elif ecostress_data_path[-4:] == '.pkl':\n",
        "                ecostress_data = pickle.load(open(ecostress_data_path, 'rb'))\n",
        "            else:\n",
        "                raise ValueError(\n",
        "                    f'ecostress_data_path [{ecostress_data_path}] has an '\n",
        "                    'invalid file extension, must be .npy or .pkl'\n",
        "                )\n",
        "        if ecostress_data is not None:\n",
        "            if len(ecostress_data.shape) == 1:\n",
        "                self.ecostress_data = ecostress_data\n",
        "            elif len(ecostress_data.shape) == 2:\n",
        "                self.ecostress_data = ecostress_data.reshape(\n",
        "                    ecostress_data.shape[0] * ecostress_data.shape[1]\n",
        "                )\n",
        "            else:\n",
        "                raise ValueError(\n",
        "                    'ecostress_data must be 2- or 3-dimensional, '\n",
        "                    f'found {len(ecostress_data.shape)}-dimensional'\n",
        "                )\n",
        "        else:\n",
        "            raise ValueError(\n",
        "                'Either ecostress_data_path or ecostress_data must not be None'\n",
        "            )\n",
        "\n",
        "        assert self.emit_data.shape[0] == self.ecostress_data.shape[0], \\\n",
        "            'emit_data and ecostress_data must have the length, ' \\\n",
        "            f'got {self.emit_data.shape[0]} and {self.ecostress_data.shape[0]}'\n",
        "\n",
        "        self.ecostress_data = (\n",
        "            (\n",
        "                self.ecostress_data - np.mean(self.ecostress_data, axis=0)\n",
        "            ) / np.std(self.ecostress_data, axis=0)\n",
        "        )\n",
        "\n",
        "        # nan_mask = np.isnan(self.emit_data)\n",
        "        # self.emit_data = self.emit_data[~nan_mask]\n",
        "        # self.ecostress_data = self.ecostress_data[~nan_mask[:,0]]\n",
        "\n",
        "        # assert self.emit_data.shape[0] == self.ecostress_data.shape[0], \\\n",
        "        #     'emit_data and ecostress_data changed lengths during filtering, ' \\\n",
        "        #     f'got {self.emit_data.shape[0]} and {self.ecostress_data.shape[0]}'\n",
        "\n",
        "        self.additional_data = []\n",
        "        if additional_data != None:\n",
        "            for i in range(len(additional_data)):\n",
        "                if len(additional_data[i].shape) == 1:\n",
        "                    self.additional_data.append(additional_data[i])\n",
        "                if len(additional_data[i].shape) == 2:\n",
        "                    self.additional_data.append(additional_data[i])\n",
        "                elif len(additional_data[i].shape) == 3:\n",
        "                    self.additional_data.append(\n",
        "                        additional_data[i].reshape(\n",
        "                            (\n",
        "                                additional_data[i].shape[0] *\n",
        "                                additional_data[i].shape[1],\n",
        "                                additional_data[i].shape[2]\n",
        "                            )\n",
        "                        )\n",
        "                    )\n",
        "                else:\n",
        "                    raise ValueError(\n",
        "                        f'Item at index {i} in additional_data must be'\n",
        "                        '1-, 2-, or 3-dimensional, '\n",
        "                        f'found {len(additional_data[i].shape)}-dimensional'\n",
        "                    )\n",
        "\n",
        "        if additional_data_paths != None:\n",
        "            for i in range(len(additional_data_paths)):\n",
        "                if additional_data_paths[i][-4:] == '.npy':\n",
        "                    additional_data_element = np.load(additional_data_paths[i])\n",
        "                elif additional_data_paths[i][-4:] == '.pkl':\n",
        "                    additional_data_element = pickle.load(\n",
        "                        open(additional_data_paths[i], 'rb')\n",
        "                    )\n",
        "                else:\n",
        "                    raise ValueError(\n",
        "                        f'Path at index {i} [{additional_data_paths[i]}] '\n",
        "                        'of additional_data_paths has an invalid '\n",
        "                        'file extension, must be .npy or .pkl'\n",
        "                    )\n",
        "                if len(additional_data_element.shape) == 1:\n",
        "                    self.additional_data.append(\n",
        "                        additional_data_element.reshape(\n",
        "                            (additional_data_element.shape[0], 1)\n",
        "                        )\n",
        "                    )\n",
        "                if len(additional_data_element.shape) == 2:\n",
        "                    self.additional_data.append(additional_data_element)\n",
        "                elif len(additional_data_element.shape) == 3:\n",
        "                    self.additional_data.append(\n",
        "                        additional_data_element.reshape(\n",
        "                            (\n",
        "                                additional_data_element.shape[0] *\n",
        "                                additional_data_element.shape[1],\n",
        "                                additional_data_element.shape[2]\n",
        "                            )\n",
        "                        )\n",
        "                    )\n",
        "                else:\n",
        "                    raise ValueError(\n",
        "                        f'Item loaded from index {i} in additional_data_paths '\n",
        "                        ' must be 1-. 2-, or 3-dimensional, found '\n",
        "                        f'{len(additional_data_element.shape)}-dimensional'\n",
        "                    )\n",
        "\n",
        "        for i, additional_data_element in enumerate(self.additional_data):\n",
        "            # additional_data_element = additional_data_element[~nan_mask]\n",
        "            if i >= len(additional_data):\n",
        "                index = i - len(additional_data)\n",
        "                message = f'loaded from index {index} in additional_data_paths'\n",
        "            else:\n",
        "                index = i\n",
        "                message = f'from index {index} in additional_data'\n",
        "            assert additional_data_element.shape[0] == self.emit_data.shape[0],\\\n",
        "                f'emit_data and additonal data {message} must have the same ' \\\n",
        "                f'length, got {self.emit_data.shape[0]} ' \\\n",
        "                f'and {additional_data_element.shape[0]}'\n",
        "\n",
        "        self.input_dim = (\n",
        "            emit_data.shape[1] +\n",
        "            sum(\n",
        "                [\n",
        "                    additional_data_element.shape[1]\n",
        "                    for additional_data_element in self.additional_data\n",
        "                ]\n",
        "            )\n",
        "        )\n",
        "\n",
        "\n",
        "    def __len__(self):\n",
        "        return self.emit_data.shape[0]\n",
        "        # return 100000\n",
        "\n",
        "\n",
        "    def __getitem__(self, index: int):\n",
        "        x = self.emit_data[index, :]\n",
        "        for additional_data_element in self.additional_data:\n",
        "            x = np.concatenate([x, additional_data_element[index, :]], axis=1)\n",
        "        y = self.ecostress_data[index]\n",
        "        return torch.tensor(x), torch.tensor(y)"
      ]
    },
    {
      "cell_type": "code",
      "execution_count": 16,
      "metadata": {
        "id": "LLb9qZqyHV2k"
      },
      "outputs": [],
      "source": [
        "# Make datasets and dataloaders\n",
        "pca_dim = 16\n",
        "white = True\n",
        "base_data_path = 'C:\\\\Users\\\\danny\\\\Documents_Local\\\\Caltech_2023-2024\\\\CS101\\\\Data\\\\P2P_Data_Random'\n",
        "\n",
        "if white:\n",
        "    pca_dim = str(pca_dim) + '_white'\n",
        "\n",
        "train_dataset = EmitEcostressDataset(\n",
        "    emit_data_path=(\n",
        "        os.path.join(base_data_path, 'Train', f'emit_train_random_pca{pca_dim}.pkl')\n",
        "    ),\n",
        "    ecostress_data_path=(\n",
        "        os.path.join(base_data_path, 'Train', 'ecostress_train_random.pkl')\n",
        "    )\n",
        ")\n",
        "\n",
        "val_dataset = EmitEcostressDataset(\n",
        "    emit_data_path=(\n",
        "        os.path.join(base_data_path, 'Val', f'emit_val_random_pca{pca_dim}.pkl')\n",
        "    ),\n",
        "    ecostress_data_path=(\n",
        "        os.path.join(base_data_path, 'Val', 'ecostress_val_random.pkl')\n",
        "    )\n",
        ")\n",
        "\n",
        "train_loader = DataLoader(train_dataset, batch_size=4096)\n",
        "val_loader = DataLoader(val_dataset, batch_size=4096)"
      ]
    },
    {
      "cell_type": "code",
      "execution_count": 17,
      "metadata": {
        "id": "OTysA6hhFsfR"
      },
      "outputs": [],
      "source": [
        "class SimpleModel(nn.Module):\n",
        "    '''\n",
        "    Defines a pytorch model made up of dense linear layers and ReLU activation\n",
        "    If argmin = argmin(abs(2**ceil(log2(x)) - x), abs(2**floor(log2(x)) - x))\n",
        "    where x is the input dimension, then the number of hidden layers is\n",
        "    n_hidden_layers = int(ceil([ceil(log2(x)), floor(log2(x))][argmin]/1.75)),\n",
        "    and the dimension of the first hidden layer is\n",
        "    dim_1 = int([2**ceil(log2(x)), 2**floor(log2(x))][argmin]),\n",
        "    and dim_n+1 = dim_n / 2 for n >= 1\n",
        "    '''\n",
        "    def __init__(self, input_dim: int):\n",
        "        super(SimpleModel, self).__init__()\n",
        "        self.linear1 = nn.Linear(input_dim, 16)\n",
        "        self.linear2 = nn.Linear(16, 8)\n",
        "        self.linear3 = nn.Linear(8, 8)\n",
        "        self.linear4 = nn.Linear(8, 4)\n",
        "        self.linear_output = nn.Linear(4, 1)\n",
        "\n",
        "        self.batchnorm1 = nn.BatchNorm1d(16)\n",
        "        self.batchnorm2 = nn.BatchNorm1d(8)\n",
        "        self.batchnorm3 = nn.BatchNorm1d(8)\n",
        "        self.batchnorm4 = nn.BatchNorm1d(4)\n",
        "\n",
        "\n",
        "    def forward(self, x: torch.Tensor):\n",
        "        x = self.batchnorm1(F.relu(self.linear1(x)))\n",
        "        x = self.batchnorm2(F.relu(self.linear2(x)))\n",
        "        x = self.batchnorm3(F.relu(self.linear3(x)))\n",
        "        x = self.batchnorm4(F.relu(self.linear4(x)))\n",
        "        x = self.linear_output(x)\n",
        "        return x.squeeze()"
      ]
    },
    {
      "cell_type": "code",
      "execution_count": 18,
      "metadata": {
        "id": "Vs9VehUAAzvB"
      },
      "outputs": [],
      "source": [
        "def train(\n",
        "    model,\n",
        "    optimizer,\n",
        "    scheduler,\n",
        "    loss_fn,\n",
        "    train_loader: DataLoader,\n",
        "    val_loader: Union[DataLoader, None] = None,\n",
        "    n_epochs: int = 10,\n",
        "    loss_interval: int = 5,\n",
        "):\n",
        "    begin = time.time()\n",
        "    t = begin\n",
        "    train_loss = np.zeros(n_epochs+1)\n",
        "    val_loss = np.zeros(n_epochs+1)\n",
        "    for epoch in range(n_epochs+1):\n",
        "        model.train()\n",
        "        for x, y in train_loader:\n",
        "            optimizer.zero_grad()\n",
        "            x = x.to(dtype=torch.float, device=device)\n",
        "            y = y.to(dtype=torch.float, device=device)\n",
        "            x = model(x)\n",
        "            loss = loss_fn(x, y.squeeze())\n",
        "            if epoch != 0:\n",
        "                loss.backward()\n",
        "                optimizer.step()\n",
        "            train_loss[epoch] += loss.item() / len(train_dataset)\n",
        "        if epoch != 0 and scheduler is not None:\n",
        "            scheduler.step()\n",
        "\n",
        "        model.eval()\n",
        "        with torch.no_grad():\n",
        "            for x, y in val_loader:\n",
        "                x = x.to(dtype=torch.float, device=device)\n",
        "                y = y.to(dtype=torch.float, device=device)\n",
        "                x = model(x)\n",
        "                val_loss[epoch] += loss_fn(x, y.squeeze()).item() / len(val_dataset)\n",
        "\n",
        "        if (\n",
        "            loss_interval is not None\n",
        "            and (epoch % loss_interval == 0 or epoch == n_epochs - 1)\n",
        "        ):\n",
        "            print(\n",
        "                f'Epoch {\"0\" * (3 - len(str(epoch))) + str(epoch)}\\t\\t'\n",
        "                f'Train Loss: {train_loss[epoch]:.5}\\t\\t'\n",
        "                f'Val Loss: {val_loss[epoch]:.5} \\t\\t',\n",
        "                end='',\n",
        "            )\n",
        "            if scheduler is not None:\n",
        "                print(f'LR: {scheduler.get_last_lr()[0]:.6}\\t\\t', end='')\n",
        "            else:\n",
        "                print('', end='')\n",
        "            print(f'Time: {time.time() - t}')\n",
        "            t = time.time()\n",
        "\n",
        "    return train_loss, val_loss"
      ]
    },
    {
      "cell_type": "code",
      "execution_count": 22,
      "metadata": {
        "colab": {
          "base_uri": "https://localhost:8080/"
        },
        "id": "JC8HknKRcLff",
        "outputId": "b7f71472-997b-47be-d03e-e2f9ce574972"
      },
      "outputs": [
        {
          "data": {
            "text/plain": [
              "SimpleModel(\n",
              "  (linear1): Linear(in_features=16, out_features=16, bias=True)\n",
              "  (linear2): Linear(in_features=16, out_features=8, bias=True)\n",
              "  (linear3): Linear(in_features=8, out_features=8, bias=True)\n",
              "  (linear4): Linear(in_features=8, out_features=4, bias=True)\n",
              "  (linear_output): Linear(in_features=4, out_features=1, bias=True)\n",
              "  (batchnorm1): BatchNorm1d(16, eps=1e-05, momentum=0.1, affine=True, track_running_stats=True)\n",
              "  (batchnorm2): BatchNorm1d(8, eps=1e-05, momentum=0.1, affine=True, track_running_stats=True)\n",
              "  (batchnorm3): BatchNorm1d(8, eps=1e-05, momentum=0.1, affine=True, track_running_stats=True)\n",
              "  (batchnorm4): BatchNorm1d(4, eps=1e-05, momentum=0.1, affine=True, track_running_stats=True)\n",
              ")"
            ]
          },
          "execution_count": 22,
          "metadata": {},
          "output_type": "execute_result"
        }
      ],
      "source": [
        "# Make model, optimizer, and loss function\n",
        "n_epochs = 25\n",
        "model = SimpleModel(train_dataset.input_dim).to(device)\n",
        "optimizer = optim.Adam(model.parameters(), lr=0.001, weight_decay=0)\n",
        "# scheduler = optim.lr_scheduler.StepLR(optimizer, n_epochs // 5, 0.5)\n",
        "scheduler = None\n",
        "loss_fn = nn.MSELoss(reduction='sum')\n",
        "model"
      ]
    },
    {
      "cell_type": "code",
      "execution_count": 23,
      "metadata": {
        "colab": {
          "base_uri": "https://localhost:8080/"
        },
        "id": "t4qRiT14w0Ja",
        "outputId": "9a84451b-db99-40d9-97d0-9844baf0fd34"
      },
      "outputs": [
        {
          "name": "stdout",
          "output_type": "stream",
          "text": [
            "Epoch 000\t\tTrain Loss: 1.3449\t\tVal Loss: 1.4474 \t\tTime: 98.5660309791565\n",
            "Epoch 002\t\tTrain Loss: 0.89661\t\tVal Loss: 0.42286 \t\tTime: 187.82383489608765\n",
            "Epoch 004\t\tTrain Loss: 0.86513\t\tVal Loss: 0.35081 \t\tTime: 170.25159549713135\n",
            "Epoch 006\t\tTrain Loss: 0.84922\t\tVal Loss: 0.32673 \t\tTime: 149.47835612297058\n",
            "Epoch 008\t\tTrain Loss: 0.84307\t\tVal Loss: 0.43987 \t\tTime: 182.99068117141724\n",
            "Epoch 010\t\tTrain Loss: 0.83458\t\tVal Loss: 0.90442 \t\tTime: 158.38370609283447\n",
            "Epoch 012\t\tTrain Loss: 0.83743\t\tVal Loss: 0.58119 \t\tTime: 223.88302397727966\n",
            "Epoch 014\t\tTrain Loss: 0.83922\t\tVal Loss: 0.57425 \t\tTime: 186.5365355014801\n"
          ]
        }
      ],
      "source": [
        "train_loss, val_loss = train(\n",
        "    model,\n",
        "    optimizer,\n",
        "    scheduler,\n",
        "    loss_fn,\n",
        "    train_loader,\n",
        "    val_loader,\n",
        "    n_epochs=n_epochs,\n",
        "    loss_interval=max(n_epochs // 10, 1)\n",
        ")"
      ]
    },
    {
      "cell_type": "code",
      "execution_count": null,
      "metadata": {
        "colab": {
          "base_uri": "https://localhost:8080/",
          "height": 449
        },
        "id": "2WMBIRNH-mF5",
        "outputId": "e2e68c6a-69d6-404f-ccd1-6130d713bb79"
      },
      "outputs": [
        {
          "data": {
            "image/png": "[encoded data removed]",
            "text/plain": [
              "<Figure size 640x480 with 1 Axes>"
            ]
          },
          "metadata": {},
          "output_type": "display_data"
        }
      ],
      "source": [
        "fig, ax = plt.subplots()\n",
        "ax.plot(np.arange(n_epochs+1), train_loss, label='train')\n",
        "ax.plot(np.arange(n_epochs+1), val_loss, label='val')\n",
        "ax.set_xlabel('Epoch')\n",
        "ax.set_ylabel('Average MSE Loss')\n",
        "ax.legend()\n",
        "plt.show(fig)"
      ]
    },
    {
      "cell_type": "code",
      "execution_count": 23,
      "metadata": {
        "colab": {
          "base_uri": "https://localhost:8080/"
        },
        "id": "-rleqqSrxrRf",
        "outputId": "6409a681-b891-4964-fb3e-111e3ba05b64"
      },
      "outputs": [
        {
          "name": "stdout",
          "output_type": "stream",
          "text": [
            "Lambda = 0.0... done\n",
            "Lambda = 0.001... done\n",
            "Lambda = 0.0031622776601683794... done\n",
            "Lambda = 0.01... done\n",
            "Lambda = 0.03162277660168379... done\n",
            "Lambda = 0.1... done\n",
            "Lambda = 0.31622776601683794... done\n",
            "Lambda = 1.0... done\n",
            "Lambda = 3.1622776601683795... done\n",
            "Lambda = 10.0... done\n",
            "Lambda = 31.622776601683793... done\n",
            "Lambda = 100.0... done\n"
          ]
        }
      ],
      "source": [
        "n_epochs = 3\n",
        "loss_fn = nn.MSELoss(reduction='sum')\n",
        "lambdas = np.concatenate([np.array([0]), np.logspace(-3, 2, 11)])\n",
        "losses = np.zeros((2, len(lambdas)))\n",
        "for i, lam in enumerate(lambdas):\n",
        "    print(f'Lambda = {lam}... ', end='')\n",
        "    model = SimpleModel(train_dataset.input_dim).to(device)\n",
        "    optimizer = optim.Adam(model.parameters(), lr=0.01, weight_decay=lam)\n",
        "    # scheduler = optim.lr_scheduler.StepLR(optimizer, n_epochs // 5, 0.5)\n",
        "    scheduler = None\n",
        "\n",
        "    train_loss, val_loss = train(\n",
        "        model,\n",
        "        optimizer,\n",
        "        scheduler,\n",
        "        loss_fn,\n",
        "        train_loader,\n",
        "        val_loader,\n",
        "        n_epochs=n_epochs,\n",
        "        loss_interval=None,\n",
        "    )\n",
        "    losses[0, i] = train_loss[-1]\n",
        "    losses[1, i] = val_loss[-1]\n",
        "    print('done')"
      ]
    },
    {
      "cell_type": "code",
      "execution_count": 24,
      "metadata": {
        "colab": {
          "base_uri": "https://localhost:8080/",
          "height": 454
        },
        "id": "5uocAYMgC7km",
        "outputId": "a2f9ce50-f6f5-47bc-ca18-4ffc7179c1dc"
      },
      "outputs": [
        {
          "data": {
            "image/png": "[encoded data removed]",
            "text/plain": [
              "<Figure size 640x480 with 1 Axes>"
            ]
          },
          "metadata": {},
          "output_type": "display_data"
        }
      ],
      "source": [
        "fig, ax = plt.subplots()\n",
        "ax.semilogx(lambdas, losses[0, :], label='train')\n",
        "ax.semilogx(lambdas, losses[1, :], label='val')\n",
        "ax.legend()\n",
        "ax.set_xlabel('Lambda')\n",
        "ax.set_ylabel('Average MSE Loss')\n",
        "plt.show(fig)"
      ]
    },
    {
      "cell_type": "code",
      "execution_count": null,
      "metadata": {
        "colab": {
          "base_uri": "https://localhost:8080/"
        },
        "id": "qBVzlVSFGAJJ",
        "outputId": "1e24681d-29bc-4239-f4f5-b692172acb1c"
      },
      "outputs": [
        {
          "name": "stdout",
          "output_type": "stream",
          "text": [
            "White = False, n = 1... "
          ]
        },
        {
          "name": "stderr",
          "output_type": "stream",
          "text": [
            "/usr/local/lib/python3.10/dist-packages/torch/nn/modules/loss.py:535: UserWarning: Using a target size (torch.Size([1])) that is different to the input size (torch.Size([])). This will likely lead to incorrect results due to broadcasting. Please ensure they have the same size.\n",
            "  return F.mse_loss(input, target, reduction=self.reduction)\n"
          ]
        },
        {
          "name": "stdout",
          "output_type": "stream",
          "text": [
            "done\n",
            "White = False, n = 3... done\n",
            "White = False, n = 8... done\n",
            "White = False, n = 21... done\n",
            "White = False, n = 32... done\n",
            "White = False, n = 76... done\n",
            "White = False, n = 100... done\n",
            "White = True, n = 1... done\n",
            "White = True, n = 3... done\n",
            "White = True, n = 8... done\n",
            "White = True, n = 21... done\n",
            "White = True, n = 32... done\n",
            "White = True, n = 76... done\n",
            "White = True, n = 100... done\n"
          ]
        }
      ],
      "source": [
        "n_components_list = [2, 4, 9, 16, 25, 32, 88]\n",
        "losses = np.zeros((2, len(n_components_list), 2))\n",
        "n_epochs = 3\n",
        "loss_fn = nn.MSELoss(reduction='sum')\n",
        "for i, white in enumerate(['', '_white']):\n",
        "    for j, n_components in enumerate(n_components_list):\n",
        "        if white == '':\n",
        "            print(f'White = False, n = {n_components}... ', end='')\n",
        "        else:\n",
        "            print(f'White = True, n = {n_components}... ', end='')\n",
        "        train_dataset = EmitEcostressDataset(\n",
        "            emit_data_path=(\n",
        "                '/content/drive/Shareddrives/emit-ecostress/Data/'\n",
        "                f'Train_Val_Test/emit_train_pca{n_components}{white}.pkl'\n",
        "            ),\n",
        "            ecostress_data_path=(\n",
        "                '/content/drive/Shareddrives/emit-ecostress/Data/'\n",
        "                'Train_Val_Test/ecostress_train.pkl'\n",
        "            )\n",
        "        )\n",
        "        val_dataset = EmitEcostressDataset(\n",
        "            emit_data_path=(\n",
        "                f'/content/drive/Shareddrives/emit-ecostress/Data/'\n",
        "                f'Train_Val_Test/emit_val_pca{n_components}{white}.pkl'\n",
        "            ),\n",
        "            ecostress_data_path=(\n",
        "                '/content/drive/Shareddrives/emit-ecostress/Data/'\n",
        "                'Train_Val_Test/ecostress_val.pkl'\n",
        "            )\n",
        "        )\n",
        "        train_loader = DataLoader(train_dataset, batch_size=16)\n",
        "        val_loader = DataLoader(val_dataset, batch_size=16)\n",
        "\n",
        "        model = SimpleModel(train_dataset.input_dim).to(device)\n",
        "        optimizer = optim.Adam(\n",
        "            model.parameters(), lr=0.01, weight_decay=10**-1.75\n",
        "        )\n",
        "        scheduler = optim.lr_scheduler.StepLR(optimizer, n_epochs // 5, 0.5)\n",
        "\n",
        "        train_loss, val_loss = train(\n",
        "            model,\n",
        "            optimizer,\n",
        "            scheduler,\n",
        "            loss_fn,\n",
        "            train_loader,\n",
        "            val_loader,\n",
        "            n_epochs=n_epochs,\n",
        "            loss_interval=None,\n",
        "        )\n",
        "\n",
        "        losses[i, j, 0] = train_loss[-1]\n",
        "        losses[i, j, 1] = val_loss[-1]\n",
        "        print('done')"
      ]
    },
    {
      "cell_type": "code",
      "execution_count": null,
      "metadata": {
        "colab": {
          "base_uri": "https://localhost:8080/",
          "height": 484
        },
        "id": "eWmNyMmISiNI",
        "outputId": "723cfd3b-e230-485b-f614-dac7023f55eb"
      },
      "outputs": [
        {
          "name": "stderr",
          "output_type": "stream",
          "text": [
            "<ipython-input-134-12a15bd547d7>:6: UserWarning: FixedFormatter should only be used together with FixedLocator\n",
            "  ax.set_xticklabels(np.concatenate([np.zeros(1, dtype=int), n_components_list]))\n"
          ]
        },
        {
          "data": {
            "image/png": "[encoded data removed]",
            "text/plain": [
              "<Figure size 640x480 with 1 Axes>"
            ]
          },
          "metadata": {},
          "output_type": "display_data"
        }
      ],
      "source": [
        "fig, ax = plt.subplots()\n",
        "ax.plot(np.arange(len(n_components_list)), losses[0, :, 0], label='train, white=False', alpha=0.75)\n",
        "ax.plot(np.arange(len(n_components_list)), losses[1, :, 0], label='train white=True', alpha=0.75)\n",
        "ax.plot(np.arange(len(n_components_list)), losses[0, :, 1], label='val, white=False', alpha=0.75)\n",
        "ax.plot(np.arange(len(n_components_list)), losses[1, :, 1], label='val, white=True', alpha=0.75)\n",
        "ax.set_xticklabels(np.concatenate([np.zeros(1, dtype=int), n_components_list]))\n",
        "ax.legend()\n",
        "ax.set_xlabel('n PCA components')\n",
        "ax.set_ylabel('Average MSE Loss')\n",
        "plt.show(fig)"
      ]
    },
    {
      "cell_type": "code",
      "execution_count": null,
      "metadata": {
        "id": "XYLOpsfUUZtx"
      },
      "outputs": [],
      "source": []
    },
    {
      "cell_type": "code",
      "execution_count": null,
      "metadata": {
        "colab": {
          "base_uri": "https://localhost:8080/"
        },
        "id": "NPVmKxuEix2w",
        "outputId": "1f833df8-eb68-448d-ee0f-656698c2b8be"
      },
      "outputs": [
        {
          "data": {
            "text/plain": [
              "((3891824, 244), (3891824,))"
            ]
          },
          "execution_count": 2,
          "metadata": {},
          "output_type": "execute_result"
        }
      ],
      "source": [
        "emit = pickle.load(\n",
        "    open(\n",
        "        '/content/drive/Shareddrives/emit-ecostress/Data/Train_Val_Test/'\n",
        "        'emit_clean.pkl',\n",
        "        'rb'\n",
        "    )\n",
        ")\n",
        "\n",
        "eco = pickle.load(\n",
        "    open(\n",
        "        '/content/drive/Shareddrives/emit-ecostress/Data/Train_Val_Test/'\n",
        "        'ecostress_clean.pkl',\n",
        "        'rb'\n",
        "    )\n",
        ")\n",
        "\n",
        "emit.shape, eco.shape"
      ]
    },
    {
      "cell_type": "code",
      "execution_count": null,
      "metadata": {
        "id": "2pAlGP3Rjle4"
      },
      "outputs": [],
      "source": [
        "rng = np.random.default_rng()"
      ]
    },
    {
      "cell_type": "code",
      "execution_count": null,
      "metadata": {
        "colab": {
          "base_uri": "https://localhost:8080/"
        },
        "id": "rdVHqsyXj5oV",
        "outputId": "31d3e736-8806-45ad-c58e-f44ba6dd27a4"
      },
      "outputs": [
        {
          "data": {
            "text/plain": [
              "((3891824,), array([1, 1, 2, 0, 0, 2, 0, 1, 2, 2]))"
            ]
          },
          "execution_count": 4,
          "metadata": {},
          "output_type": "execute_result"
        }
      ],
      "source": [
        "inds = rng.choice([0, 1, 2], p=[0.6, 0.2, 0.2], size=eco.shape[0])\n",
        "inds.shape, inds[:10]"
      ]
    },
    {
      "cell_type": "code",
      "execution_count": null,
      "metadata": {
        "colab": {
          "base_uri": "https://localhost:8080/"
        },
        "id": "nhopnw8VkbmX",
        "outputId": "9a9144d0-4200-4a62-b974-07e9db3ceec2"
      },
      "outputs": [
        {
          "data": {
            "text/plain": [
              "((2334453, 244),\n",
              " (777951, 244),\n",
              " (779420, 244),\n",
              " (2334453,),\n",
              " (777951,),\n",
              " (779420,))"
            ]
          },
          "execution_count": 6,
          "metadata": {},
          "output_type": "execute_result"
        }
      ],
      "source": [
        "xtrain = emit[inds == 0]\n",
        "xval = emit[inds == 1]\n",
        "xtest = emit[inds == 2]\n",
        "ytrain = eco[inds == 0]\n",
        "yval = eco[inds == 1]\n",
        "ytest = eco[inds == 2]\n",
        "xtrain.shape, xval.shape, xtest.shape, ytrain.shape, yval.shape, ytest.shape"
      ]
    },
    {
      "cell_type": "code",
      "execution_count": null,
      "metadata": {
        "id": "TcZbL-bakpm4"
      },
      "outputs": [],
      "source": [
        "pickle.dump(xtrain, open('/content/drive/Shareddrives/emit-ecostress/Data/Train_Val_Test/emit_train_random', 'wb'))"
      ]
    },
    {
      "cell_type": "code",
      "execution_count": null,
      "metadata": {
        "id": "0zE3D0AAlUea"
      },
      "outputs": [],
      "source": [
        "pickle.dump(xval, open('/content/drive/Shareddrives/emit-ecostress/Data/Train_Val_Test/emit_val_random', 'wb'))\n",
        "pickle.dump(xtest, open('/content/drive/Shareddrives/emit-ecostress/Data/Train_Val_Test/emit_test_random', 'wb'))\n",
        "pickle.dump(ytrain, open('/content/drive/Shareddrives/emit-ecostress/Data/Train_Val_Test/ecostress_train_random', 'wb'))\n",
        "pickle.dump(yval, open('/content/drive/Shareddrives/emit-ecostress/Data/Train_Val_Test/ecostress_val_random', 'wb'))\n",
        "pickle.dump(ytest, open('/content/drive/Shareddrives/emit-ecostress/Data/Train_Val_Test/ecostress_test_random', 'wb'))"
      ]
    },
    {
      "cell_type": "code",
      "execution_count": null,
      "metadata": {
        "id": "c0Zg8tF7l1VL"
      },
      "outputs": [],
      "source": []
    }
  ],
  "metadata": {
    "accelerator": "GPU",
    "colab": {
      "authorship_tag": "ABX9TyNH1K3v8YWHH5BVzP5R45Aa",
      "gpuType": "T4",
      "include_colab_link": true,
      "mount_file_id": "1tWtAj0XJTMMYZsqPy7In41ucxY4TQPi8",
      "provenance": []
    },
    "kernelspec": {
      "display_name": "cs101",
      "language": "python",
      "name": "cs101"
    },
    "language_info": {
      "codemirror_mode": {
        "name": "ipython",
        "version": 3
      },
      "file_extension": ".py",
      "mimetype": "text/x-python",
      "name": "python",
      "nbconvert_exporter": "python",
      "pygments_lexer": "ipython3",
      "version": "3.12.0"
    }
  },
  "nbformat": 4,
  "nbformat_minor": 0
}
