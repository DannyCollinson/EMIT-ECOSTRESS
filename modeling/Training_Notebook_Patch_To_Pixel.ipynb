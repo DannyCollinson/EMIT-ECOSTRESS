{
 "cells": [
  {
   "cell_type": "code",
   "execution_count": 30,
   "metadata": {},
   "outputs": [],
   "source": [
    "import os\n",
    "import sys\n",
    "import importlib\n",
    "import pickle\n",
    "\n",
    "import numpy as np\n",
    "import matplotlib.pyplot as plt\n",
    "\n",
    "import torch\n",
    "import torch.nn as nn\n",
    "import torch.optim as optim\n",
    "from torch.utils.data import DataLoader"
   ]
  },
  {
   "cell_type": "code",
   "execution_count": 31,
   "metadata": {},
   "outputs": [],
   "source": [
    "project_path = 'C:\\\\Users\\\\danny\\\\Documents_Local\\\\Caltech_2023-2024\\\\CS101'\n",
    "\n",
    "def join_path(relative_path: str) -> str:\n",
    "    return os.path.join(project_path, relative_path)\n",
    "\n",
    "def pickle_load(relative_path: str):  # -> pickled_file_contents\n",
    "    return pickle.load(open(join_path(relative_path), 'rb'))\n",
    "\n",
    "def pickle_save(obj: object, relative_path: str) -> None:\n",
    "    pickle.dump(obj, open(join_path(relative_path), 'wb'))"
   ]
  },
  {
   "cell_type": "code",
   "execution_count": 32,
   "metadata": {},
   "outputs": [],
   "source": [
    "sys.path.append(join_path('EMIT-ECOSTRESS\\\\modules'))\n",
    "import datasets.Datasets\n",
    "import models.Feedforward\n",
    "import models.Attention\n",
    "import models.DannyCNN\n",
    "import utils.train"
   ]
  },
  {
   "cell_type": "code",
   "execution_count": 33,
   "metadata": {},
   "outputs": [
    {
     "data": {
      "text/plain": [
       "'cuda'"
      ]
     },
     "execution_count": 33,
     "metadata": {},
     "output_type": "execute_result"
    }
   ],
   "source": [
    "if torch.cuda.is_available():\n",
    "    device = 'cuda'\n",
    "else:\n",
    "    device = 'cpu'\n",
    "device"
   ]
  },
  {
   "cell_type": "code",
   "execution_count": 18,
   "metadata": {},
   "outputs": [],
   "source": [
    "# For Patch-to-Pixel\n",
    "\n",
    "# Make datasets and dataloaders\n",
    "\n",
    "# setup\n",
    "\n",
    "radius = 0\n",
    "\n",
    "importlib.reload(datasets.Datasets)\n",
    "\n",
    "omit_components = 244 - 4\n",
    "\n",
    "batch_size = 256\n",
    "\n",
    "base_data_path = 'Data\\\\CNN_Data\\\\Splits'\n",
    "\n",
    "\n",
    "# load data\n",
    "\n",
    "emit_train = pickle_load(\n",
    "    os.path.join(base_data_path, 'reflectance_cnn_train_pca244.pkl')\n",
    ")\n",
    "emit_val = pickle_load(\n",
    "    os.path.join(base_data_path, 'reflectance_cnn_val_pca244.pkl')\n",
    ")\n",
    "\n",
    "elev_train = pickle_load(\n",
    "    os.path.join(base_data_path, 'elevation_cnn_train.pkl')\n",
    ")\n",
    "elev_val = pickle_load(os.path.join(base_data_path, 'elevation_cnn_val.pkl'))\n",
    "\n",
    "eco_train = pickle_load(os.path.join(base_data_path, 'temp_cnn_train.pkl'))\n",
    "eco_val = pickle_load(os.path.join(base_data_path, 'temp_cnn_val.pkl'))\n",
    "\n",
    "\n",
    "# create datasets and dataloaders\n",
    "\n",
    "train_dataset = datasets.Datasets.PatchToPixelDataset(\n",
    "    emit_data=emit_train,\n",
    "    omit_components=omit_components,\n",
    "    ecostress_data=eco_train,\n",
    "    ecostress_center=None,\n",
    "    ecostress_scale=None,\n",
    "    additional_data=(elev_train,),\n",
    "    radius=radius,\n",
    ")\n",
    "\n",
    "val_dataset = datasets.Datasets.PatchToPixelDataset(\n",
    "    emit_data=emit_val,\n",
    "    omit_components=omit_components,\n",
    "    ecostress_data=eco_val,\n",
    "    ecostress_center=None,\n",
    "    ecostress_scale=None,\n",
    "    additional_data=(elev_val,),\n",
    "    radius=radius,\n",
    ")\n",
    "\n",
    "if batch_size is not None:\n",
    "    train_loader = DataLoader(\n",
    "        dataset=train_dataset, batch_size=batch_size, drop_last=True\n",
    "    )\n",
    "    val_loader = DataLoader(\n",
    "        dataset=val_dataset, batch_size=batch_size, drop_last=True\n",
    "    )\n",
    "else:\n",
    "    train_loader = DataLoader(\n",
    "        dataset=train_dataset, batch_size=batch_size\n",
    "    )\n",
    "    val_loader = DataLoader(\n",
    "        dataset=val_dataset, batch_size=batch_size\n",
    "    )"
   ]
  },
  {
   "cell_type": "code",
   "execution_count": 28,
   "metadata": {},
   "outputs": [
    {
     "data": {
      "text/plain": [
       "LinearModel(\n",
       "  (linear_output): Linear(in_features=5, out_features=1, bias=True)\n",
       ")"
      ]
     },
     "execution_count": 28,
     "metadata": {},
     "output_type": "execute_result"
    }
   ],
   "source": [
    "# For CNN\n",
    "\n",
    "dropout = 0.5\n",
    "\n",
    "# Make model, optimizer, and loss function\n",
    "importlib.reload(models.Feedforward)\n",
    "\n",
    "# model = models.Feedforward.PatchToPixelModel(\n",
    "#     input_dim=train_dataset.input_dim, radius=radius, dropout_rate=dropout\n",
    "# )\n",
    "model = models.Feedforward.LinearModel(input_dim=train_dataset.input_dim)\n",
    "\n",
    "if device == 'cuda':\n",
    "    model = model.cuda()\n",
    "\n",
    "optimizer = optim.Adam(\n",
    "    params=model.parameters(), lr=0.0001, weight_decay=0, fused=True\n",
    ")\n",
    "\n",
    "scheduler = optim.lr_scheduler.ReduceLROnPlateau(\n",
    "    optimizer=optimizer, factor=0.5, patience=2\n",
    ")\n",
    "# scheduler = None\n",
    "\n",
    "loss_fn = nn.MSELoss(reduction='none')\n",
    "\n",
    "model"
   ]
  },
  {
   "cell_type": "code",
   "execution_count": 29,
   "metadata": {},
   "outputs": [
    {
     "ename": "SyntaxError",
     "evalue": "invalid syntax (train.py, line 60)",
     "output_type": "error",
     "traceback": [
      "Traceback \u001b[1;36m(most recent call last)\u001b[0m:\n",
      "\u001b[0m  File \u001b[0;32mc:\\Users\\danny\\Programs\\micromamba\\envs\\cs101\\Lib\\site-packages\\IPython\\core\\interactiveshell.py:3526\u001b[0m in \u001b[0;35mrun_code\u001b[0m\n    exec(code_obj, self.user_global_ns, self.user_ns)\u001b[0m\n",
      "\u001b[0m  Cell \u001b[0;32mIn[29], line 1\u001b[0m\n    importlib.reload(utils.train)\u001b[0m\n",
      "\u001b[0m  File \u001b[0;32mc:\\Users\\danny\\Programs\\micromamba\\envs\\cs101\\Lib\\importlib\\__init__.py:169\u001b[0m in \u001b[0;35mreload\u001b[0m\n    _bootstrap._exec(spec, module)\u001b[0m\n",
      "\u001b[0m  File \u001b[0;32m<frozen importlib._bootstrap>:621\u001b[0m in \u001b[0;35m_exec\u001b[0m\n",
      "\u001b[0m  File \u001b[0;32m<frozen importlib._bootstrap_external>:936\u001b[0m in \u001b[0;35mexec_module\u001b[0m\n",
      "\u001b[0m  File \u001b[0;32m<frozen importlib._bootstrap_external>:1074\u001b[0m in \u001b[0;35mget_code\u001b[0m\n",
      "\u001b[0m  File \u001b[0;32m<frozen importlib._bootstrap_external>:1004\u001b[0m in \u001b[0;35msource_to_code\u001b[0m\n",
      "\u001b[1;36m  File \u001b[1;32m<frozen importlib._bootstrap>:241\u001b[1;36m in \u001b[1;35m_call_with_frames_removed\u001b[1;36m\n",
      "\u001b[1;36m  File \u001b[1;32m~\\Documents_Local\\Caltech_2023-2024\\CS101\\EMIT-ECOSTRESS\\modules\\utils\\train.py:60\u001b[1;36m\u001b[0m\n\u001b[1;33m    if\u001b[0m\n\u001b[1;37m      ^\u001b[0m\n\u001b[1;31mSyntaxError\u001b[0m\u001b[1;31m:\u001b[0m invalid syntax\n"
     ]
    }
   ],
   "source": [
    "importlib.reload(utils.train)\n",
    "\n",
    "n_epochs = 50\n",
    "\n",
    "train_loss, val_loss = utils.train.train(\n",
    "    model,\n",
    "    optimizer,\n",
    "    scheduler,\n",
    "    loss_fn,\n",
    "    train_loader,\n",
    "    val_loader,\n",
    "    n_epochs=n_epochs,\n",
    "    loss_interval=1,\n",
    "    # preexisting_losses=[train_loss, val_loss],\n",
    "    device=device,\n",
    ")"
   ]
  },
  {
   "cell_type": "code",
   "execution_count": 21,
   "metadata": {},
   "outputs": [
    {
     "data": {
      "image/png": "[encoded data removed]",
      "text/plain": [
       "<Figure size 640x480 with 1 Axes>"
      ]
     },
     "metadata": {},
     "output_type": "display_data"
    }
   ],
   "source": [
    "fig, ax = plt.subplots()\n",
    "fig.suptitle(\n",
    "    # f'6-Layer Patch-to-Pixel Model, radius={radius}, dropout={dropout}'\n",
    "    f'Linear Model, radius={radius}'\n",
    ")\n",
    "l = 2 * radius + 1\n",
    "ax.set_title(\n",
    "    f'Input = {l}x{l}x{244 - omit_components} patch of whitened PCA components'\n",
    "    ' + elevation'\n",
    ")\n",
    "ax.semilogy(\n",
    "    np.arange(len(train_loss)),\n",
    "    train_loss,\n",
    "    label=(\n",
    "        'train, '\n",
    "        # f'min_loss={min(train_loss):.4}, '\n",
    "        f'min std={min(train_loss)**(1/2):.4}, '\n",
    "        f'min K={train_dataset.ecostress_scale * min(train_loss)**(1/2):.4}'\n",
    "    ),\n",
    ")\n",
    "ax.semilogy(\n",
    "    np.arange(len(val_loss)),\n",
    "    val_loss,\n",
    "    label=(\n",
    "        'val, '\n",
    "        # f'min_loss={min(val_loss):.4}, '\n",
    "        f'min std={min(val_loss)**(1/2):.4}, '\n",
    "        f'min K={val_dataset.ecostress_scale * min(val_loss)**(1/2):.4}'\n",
    "    ),\n",
    ")\n",
    "ax.set_xlabel('Epoch')\n",
    "ax.set_ylabel('Average MSE Loss')\n",
    "ax.legend()\n",
    "plt.show(fig)"
   ]
  }
 ],
 "metadata": {
  "kernelspec": {
   "display_name": "cs101",
   "language": "python",
   "name": "cs101"
  },
  "language_info": {
   "codemirror_mode": {
    "name": "ipython",
    "version": 3
   },
   "file_extension": ".py",
   "mimetype": "text/x-python",
   "name": "python",
   "nbconvert_exporter": "python",
   "pygments_lexer": "ipython3",
   "version": "3.11.6"
  }
 },
 "nbformat": 4,
 "nbformat_minor": 2
}
