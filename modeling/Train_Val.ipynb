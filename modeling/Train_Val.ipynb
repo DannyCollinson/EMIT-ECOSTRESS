{
 "cells": [
  {
   "cell_type": "code",
   "execution_count": 1,
   "metadata": {},
   "outputs": [],
   "source": [
    "import os\n",
    "import sys\n",
    "import importlib\n",
    "\n",
    "import numpy as np\n",
    "import matplotlib.pyplot as plt\n",
    "\n",
    "import torch\n",
    "import torch.nn as nn\n",
    "import torch.optim as optim\n",
    "from torch.utils.data import DataLoader\n",
    "\n",
    "sys.path.append(\n",
    "    'C:\\\\Users\\\\danny\\\\Documents_Local\\\\Caltech_2023-2024\\\\CS101\\\\'\n",
    "    'EMIT-ECOSTRESS\\\\modules'\n",
    ")\n",
    "import data.Datasets\n",
    "import models.Feedforward\n",
    "import models.Attention\n",
    "import utils.train"
   ]
  },
  {
   "cell_type": "code",
   "execution_count": 2,
   "metadata": {},
   "outputs": [
    {
     "data": {
      "text/plain": [
       "'cuda'"
      ]
     },
     "execution_count": 2,
     "metadata": {},
     "output_type": "execute_result"
    }
   ],
   "source": [
    "if torch.cuda.is_available():\n",
    "    device = 'cuda'\n",
    "else:\n",
    "    device = 'cpu'\n",
    "device"
   ]
  },
  {
   "cell_type": "code",
   "execution_count": 74,
   "metadata": {},
   "outputs": [],
   "source": [
    "# Make datasets and dataloaders\n",
    "importlib.reload(data.Datasets)\n",
    "\n",
    "pca_dim = ''\n",
    "omit_components = 0\n",
    "white = True\n",
    "\n",
    "batch_size = 8192\n",
    "\n",
    "base_data_path = (\n",
    "    'C:\\\\Users\\\\danny\\\\Documents_Local\\\\Caltech_2023-2024\\\\CS101\\\\Data\\\\'\n",
    "    'P2P_Data_Random'\n",
    ")\n",
    "\n",
    "if white:\n",
    "    white_str = '_white'\n",
    "else:\n",
    "    white_str = ''\n",
    "pca_dim_str: str = str(pca_dim) + white_str\n",
    "\n",
    "\n",
    "train_dataset = data.Datasets.EmitEcostressDataset(\n",
    "    emit_data_path=os.path.join(\n",
    "            base_data_path, 'Train', f'emit_train_random_pca{pca_dim_str}.pkl'\n",
    "    ),\n",
    "    omit_components=omit_components,\n",
    "    ecostress_data_path=os.path.join(\n",
    "        base_data_path, 'Train', 'ecostress_train_random.pkl'\n",
    "    ),\n",
    "    ecostress_center=None,\n",
    "    ecostress_scale=None,\n",
    "    device=device,\n",
    ")\n",
    "\n",
    "val_dataset = data.Datasets.EmitEcostressDataset(\n",
    "    emit_data_path=os.path.join(\n",
    "            base_data_path, 'Val', f'emit_val_random_pca{pca_dim_str}.pkl'\n",
    "    ),\n",
    "    omit_components=omit_components,\n",
    "    ecostress_data_path=os.path.join(\n",
    "        base_data_path, 'Val', 'ecostress_val_random.pkl'\n",
    "    ),\n",
    "    ecostress_center=None,\n",
    "    ecostress_scale=None,\n",
    "    device=device\n",
    ")\n",
    "\n",
    "train_loader = DataLoader(dataset=train_dataset, batch_size=batch_size)\n",
    "val_loader = DataLoader(dataset=val_dataset, batch_size=batch_size)"
   ]
  },
  {
   "cell_type": "code",
   "execution_count": 75,
   "metadata": {},
   "outputs": [
    {
     "data": {
      "text/plain": [
       "ToyModel(\n",
       "  (linear_output): Linear(in_features=244, out_features=1, bias=True)\n",
       ")"
      ]
     },
     "execution_count": 75,
     "metadata": {},
     "output_type": "execute_result"
    }
   ],
   "source": [
    "# Make model, optimizer, and loss function\n",
    "importlib.reload(models.Feedforward)\n",
    "importlib.reload(models.Attention)\n",
    "\n",
    "n_epochs = 50\n",
    "\n",
    "model = models.Feedforward.ToyModel(\n",
    "    input_dim=train_dataset.input_dim\n",
    ")\n",
    "\n",
    "if device == 'cuda':\n",
    "    model = model.cuda()\n",
    "\n",
    "optimizer = optim.Adam(params=model.parameters(), lr=0.001, weight_decay=0)\n",
    "scheduler = optim.lr_scheduler.ReduceLROnPlateau(\n",
    "    optimizer=optimizer, factor=0.5, patience=3\n",
    ")\n",
    "# scheduler = None\n",
    "\n",
    "loss_fn = nn.MSELoss(reduction='sum')\n",
    "\n",
    "model"
   ]
  },
  {
   "cell_type": "code",
   "execution_count": 76,
   "metadata": {},
   "outputs": [
    {
     "name": "stdout",
     "output_type": "stream",
     "text": [
      "Epoch 000\t\tTrain Loss: 1.2144\t\tVal Loss: 1.2153 \t\tLR: 0.001\t\tTime: 35.679238080978394\n",
      "Epoch 001\t\tTrain Loss: 0.70236\t\tVal Loss: 0.42074 \t\tLR: 0.001\t\tTime: 34.88422393798828\n",
      "Epoch 002\t\tTrain Loss: 0.29233\t\tVal Loss: 0.18314 \t\tLR: 0.001\t\tTime: 35.16789984703064\n",
      "Epoch 003\t\tTrain Loss: 0.13287\t\tVal Loss: 0.097879 \t\tLR: 0.001\t\tTime: 36.46331286430359\n",
      "Epoch 004\t\tTrain Loss: 0.081071\t\tVal Loss: 0.074581 \t\tLR: 0.001\t\tTime: 39.580239057540894\n",
      "Epoch 005\t\tTrain Loss: 0.068405\t\tVal Loss: 0.070918 \t\tLR: 0.001\t\tTime: 34.932629108428955\n",
      "Epoch 006\t\tTrain Loss: 0.066004\t\tVal Loss: 0.071705 \t\tLR: 0.001\t\tTime: 34.67050075531006\n",
      "Epoch 007\t\tTrain Loss: 0.065645\t\tVal Loss: 0.073158 \t\tLR: 0.001\t\tTime: 34.933382511138916\n",
      "Epoch 008\t\tTrain Loss: 0.065666\t\tVal Loss: 0.074594 \t\tLR: 0.001\t\tTime: 34.69908905029297\n",
      "Epoch 009\t\tTrain Loss: 0.065769\t\tVal Loss: 0.075905 \t\tLR: 0.0005\t\tTime: 34.76763725280762\n",
      "Epoch 010\t\tTrain Loss: 0.067336\t\tVal Loss: 0.067963 \t\tLR: 0.0005\t\tTime: 34.89618492126465\n",
      "Epoch 011\t\tTrain Loss: 0.065439\t\tVal Loss: 0.068104 \t\tLR: 0.0005\t\tTime: 34.76782298088074\n",
      "Epoch 012\t\tTrain Loss: 0.065326\t\tVal Loss: 0.068581 \t\tLR: 0.0005\t\tTime: 34.89318490028381\n",
      "Epoch 013\t\tTrain Loss: 0.065402\t\tVal Loss: 0.069047 \t\tLR: 0.0005\t\tTime: 35.265488147735596\n",
      "Epoch 014\t\tTrain Loss: 0.065514\t\tVal Loss: 0.069448 \t\tLR: 0.00025\t\tTime: 35.92138195037842\n",
      "Epoch 015\t\tTrain Loss: 0.065976\t\tVal Loss: 0.063572 \t\tLR: 0.00025\t\tTime: 35.21829104423523\n",
      "Epoch 016\t\tTrain Loss: 0.064164\t\tVal Loss: 0.063399 \t\tLR: 0.00025\t\tTime: 35.36560273170471\n",
      "Epoch 017\t\tTrain Loss: 0.064045\t\tVal Loss: 0.06345 \t\tLR: 0.00025\t\tTime: 36.048372745513916\n",
      "Epoch 018\t\tTrain Loss: 0.064057\t\tVal Loss: 0.063531 \t\tLR: 0.00025\t\tTime: 37.184797048568726\n",
      "Epoch 019\t\tTrain Loss: 0.064091\t\tVal Loss: 0.063604 \t\tLR: 0.00025\t\tTime: 69.232417345047\n",
      "Epoch 020\t\tTrain Loss: 0.064125\t\tVal Loss: 0.063663 \t\tLR: 0.000125\t\tTime: 142.88204383850098\n",
      "Epoch 021\t\tTrain Loss: 0.063595\t\tVal Loss: 0.061285 \t\tLR: 0.000125\t\tTime: 74.24101877212524\n",
      "Epoch 022\t\tTrain Loss: 0.062612\t\tVal Loss: 0.061041 \t\tLR: 0.000125\t\tTime: 69.53996062278748\n",
      "Epoch 023\t\tTrain Loss: 0.062476\t\tVal Loss: 0.060993 \t\tLR: 0.000125\t\tTime: 35.54383087158203\n",
      "Epoch 024\t\tTrain Loss: 0.062449\t\tVal Loss: 0.060986 \t\tLR: 0.000125\t\tTime: 35.153833866119385\n",
      "Epoch 025\t\tTrain Loss: 0.062447\t\tVal Loss: 0.060988 \t\tLR: 0.000125\t\tTime: 35.52835273742676\n",
      "Epoch 026\t\tTrain Loss: 0.062451\t\tVal Loss: 0.060994 \t\tLR: 0.000125\t\tTime: 35.207284450531006\n",
      "Epoch 027\t\tTrain Loss: 0.062456\t\tVal Loss: 0.060999 \t\tLR: 0.000125\t\tTime: 35.146758794784546\n",
      "Epoch 028\t\tTrain Loss: 0.062461\t\tVal Loss: 0.061003 \t\tLR: 6.25e-05\t\tTime: 35.31614327430725\n",
      "Epoch 029\t\tTrain Loss: 0.061723\t\tVal Loss: 0.060457 \t\tLR: 6.25e-05\t\tTime: 35.757768869400024\n",
      "Epoch 030\t\tTrain Loss: 0.061416\t\tVal Loss: 0.060321 \t\tLR: 6.25e-05\t\tTime: 36.03365135192871\n",
      "Epoch 031\t\tTrain Loss: 0.06133\t\tVal Loss: 0.060273 \t\tLR: 6.25e-05\t\tTime: 35.85296988487244\n",
      "Epoch 032\t\tTrain Loss: 0.061299\t\tVal Loss: 0.060253 \t\tLR: 6.25e-05\t\tTime: 50.91004014015198\n",
      "Epoch 033\t\tTrain Loss: 0.061286\t\tVal Loss: 0.060243 \t\tLR: 6.25e-05\t\tTime: 94.04719972610474\n",
      "Epoch 034\t\tTrain Loss: 0.061281\t\tVal Loss: 0.060238 \t\tLR: 6.25e-05\t\tTime: 28.92821955680847\n",
      "Epoch 035\t\tTrain Loss: 0.061279\t\tVal Loss: 0.060236 \t\tLR: 6.25e-05\t\tTime: 29.564332008361816\n",
      "Epoch 036\t\tTrain Loss: 0.061278\t\tVal Loss: 0.060235 \t\tLR: 6.25e-05\t\tTime: 33.786136627197266\n",
      "Epoch 037\t\tTrain Loss: 0.061277\t\tVal Loss: 0.060234 \t\tLR: 6.25e-05\t\tTime: 52.56620383262634\n",
      "Epoch 038\t\tTrain Loss: 0.061277\t\tVal Loss: 0.060234 \t\tLR: 6.25e-05\t\tTime: 138.66208791732788\n",
      "Epoch 039\t\tTrain Loss: 0.061277\t\tVal Loss: 0.060234 \t\tLR: 3.125e-05\t\tTime: 31.561930894851685\n",
      "Epoch 040\t\tTrain Loss: 0.06073\t\tVal Loss: 0.060145 \t\tLR: 3.125e-05\t\tTime: 76.73029589653015\n",
      "Epoch 041\t\tTrain Loss: 0.060666\t\tVal Loss: 0.060105 \t\tLR: 3.125e-05\t\tTime: 39.00390100479126\n",
      "Epoch 042\t\tTrain Loss: 0.060635\t\tVal Loss: 0.060084 \t\tLR: 3.125e-05\t\tTime: 37.35042452812195\n",
      "Epoch 043\t\tTrain Loss: 0.060619\t\tVal Loss: 0.060072 \t\tLR: 3.125e-05\t\tTime: 35.65464806556702\n",
      "Epoch 044\t\tTrain Loss: 0.06061\t\tVal Loss: 0.060065 \t\tLR: 3.125e-05\t\tTime: 35.39658331871033\n",
      "Epoch 045\t\tTrain Loss: 0.060605\t\tVal Loss: 0.06006 \t\tLR: 3.125e-05\t\tTime: 112.37184476852417\n",
      "Epoch 046\t\tTrain Loss: 0.060601\t\tVal Loss: 0.060057 \t\tLR: 3.125e-05\t\tTime: 79.95881938934326\n",
      "Epoch 047\t\tTrain Loss: 0.060599\t\tVal Loss: 0.060055 \t\tLR: 3.125e-05\t\tTime: 68.32761216163635\n",
      "Epoch 048\t\tTrain Loss: 0.060597\t\tVal Loss: 0.060053 \t\tLR: 3.125e-05\t\tTime: 85.72106218338013\n",
      "Epoch 049\t\tTrain Loss: 0.060596\t\tVal Loss: 0.060052 \t\tLR: 3.125e-05\t\tTime: 54.97578048706055\n",
      "Epoch 050\t\tTrain Loss: 0.060595\t\tVal Loss: 0.060052 \t\tLR: 1.5625e-05\t\tTime: 36.23535418510437\n"
     ]
    }
   ],
   "source": [
    "importlib.reload(utils.train)\n",
    "train_loss, val_loss = utils.train.train(\n",
    "    model,\n",
    "    optimizer,\n",
    "    scheduler,\n",
    "    loss_fn,\n",
    "    train_loader,\n",
    "    val_loader,\n",
    "    n_epochs=n_epochs,\n",
    "    loss_interval=1,\n",
    "    device=device,\n",
    ")"
   ]
  },
  {
   "cell_type": "code",
   "execution_count": 80,
   "metadata": {},
   "outputs": [
    {
     "data": {
      "image/png": "[encoded data removed]",
      "text/plain": [
       "<Figure size 640x480 with 1 Axes>"
      ]
     },
     "metadata": {},
     "output_type": "display_data"
    }
   ],
   "source": [
    "fig, ax = plt.subplots()\n",
    "ax.set_title('Input = '\n",
    "            #  f'{pca_dim - omit_components}'\n",
    "            #  f'{white_str.replace(\"_white\", \" whitened\")} '\n",
    "             'All 244 whitened PCA components'\n",
    ")\n",
    "ax.semilogy(np.arange(len(train_loss)), train_loss, label='train')\n",
    "ax.semilogy(np.arange(len(val_loss)), val_loss, label='val')\n",
    "ax.set_xlabel('Epoch')\n",
    "ax.set_ylabel('Average MSE Loss')\n",
    "ax.legend()\n",
    "plt.show(fig)"
   ]
  },
  {
   "cell_type": "code",
   "execution_count": null,
   "metadata": {},
   "outputs": [],
   "source": []
  }
 ],
 "metadata": {
  "kernelspec": {
   "display_name": "cs101",
   "language": "python",
   "name": "cs101"
  },
  "language_info": {
   "codemirror_mode": {
    "name": "ipython",
    "version": 3
   },
   "file_extension": ".py",
   "mimetype": "text/x-python",
   "name": "python",
   "nbconvert_exporter": "python",
   "pygments_lexer": "ipython3",
   "version": "3.11.6"
  }
 },
 "nbformat": 4,
 "nbformat_minor": 2
}
