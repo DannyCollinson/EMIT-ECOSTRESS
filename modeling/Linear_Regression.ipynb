{
 "cells": [
  {
   "cell_type": "markdown",
   "metadata": {},
   "source": [
    "# This notebook is used to evaluate the performance of standard linear regression. Modifying the \"project_path\" and \"base_data_path\" fields to the path to the project on your system and the relative path from there to where the data is stored, respectively, will reproduce the results."
   ]
  },
  {
   "cell_type": "code",
   "execution_count": 1,
   "metadata": {},
   "outputs": [],
   "source": [
    "import os\n",
    "import pickle\n",
    "\n",
    "import numpy as np\n",
    "from sklearn.linear_model import LinearRegression\n",
    "import matplotlib.pyplot as plt"
   ]
  },
  {
   "cell_type": "code",
   "execution_count": 2,
   "metadata": {},
   "outputs": [],
   "source": [
    "project_path = 'C:\\\\Users\\\\danny\\\\Documents_Local\\\\Caltech_2023-2024\\\\CS101'\n",
    "\n",
    "def join_path(relative_path: str) -> str:\n",
    "    return os.path.join(project_path, relative_path)\n",
    "\n",
    "def pickle_load(relative_path: str):  # -> pickled_file_contents\n",
    "    return pickle.load(open(join_path(relative_path), 'rb'))\n",
    "\n",
    "def pickle_save(obj: object, relative_path: str) -> None:\n",
    "    pickle.dump(obj, open(join_path(relative_path), 'wb'))"
   ]
  },
  {
   "cell_type": "code",
   "execution_count": 9,
   "metadata": {},
   "outputs": [],
   "source": [
    "base_data_path = 'Data\\\\Dataset\\\\Splits'\n",
    "\n",
    "# load data\n",
    "\n",
    "emit_train = pickle_load(\n",
    "    os.path.join(base_data_path, 'reflectance_train_pca244.pkl')\n",
    ")\n",
    "emit_val = pickle_load(\n",
    "    os.path.join(base_data_path, 'reflectance_val_pca244.pkl')\n",
    ")\n",
    "\n",
    "elev_train = pickle_load(\n",
    "    os.path.join(base_data_path, 'elevation_train.pkl')\n",
    ")\n",
    "elev_val = pickle_load(os.path.join(base_data_path, 'elevation_val.pkl'))\n",
    "\n",
    "elev_train = (\n",
    "    (\n",
    "        elev_train - np.mean(np.concatenate([elev_train, elev_val], axis=1))\n",
    "    ) / \n",
    "    np.std(np.concatenate([elev_train, elev_val], axis=1))\n",
    ")\n",
    "elev_val = (\n",
    "    (\n",
    "        elev_val - np.mean(np.concatenate([elev_train, elev_val], axis=1))\n",
    "    ) / \n",
    "    np.std(np.concatenate([elev_train, elev_val], axis=1))\n",
    ")\n",
    "eco_train = pickle_load(os.path.join(base_data_path, 'temp_train.pkl'))\n",
    "eco_val = pickle_load(os.path.join(base_data_path, 'temp_val.pkl'))"
   ]
  },
  {
   "cell_type": "code",
   "execution_count": 10,
   "metadata": {},
   "outputs": [],
   "source": [
    "emit_train = emit_train.reshape(\n",
    "    (emit_train.shape[0] * emit_train.shape[1], emit_train.shape[2])\n",
    ")\n",
    "emit_val = emit_val.reshape(\n",
    "    (emit_val.shape[0] * emit_val.shape[1], emit_val.shape[2])\n",
    ")\n",
    "\n",
    "elev_train = (\n",
    "    (\n",
    "        elev_train.reshape((elev_train.shape[0] * elev_train.shape[1])) -\n",
    "        elev_train.mean()\n",
    "    ) / elev_train.std()\n",
    ")\n",
    "elev_val = (\n",
    "    (\n",
    "        elev_val.reshape((elev_val.shape[0] * elev_val.shape[1])) -\n",
    "        elev_val.mean()\n",
    "    ) / elev_val.std()\n",
    ")\n",
    "\n",
    "eco_train = (eco_train - eco_train.mean()) / eco_train.std()\n",
    "eco_val = (eco_val - eco_val.mean()) / eco_train.std()\n",
    "\n",
    "x_train = np.concatenate([emit_train, elev_train[:, np.newaxis]], axis=1)\n",
    "x_val = np.concatenate([emit_val, elev_val[:, np.newaxis]], axis=1)\n",
    "\n",
    "y_train = eco_train.flatten()\n",
    "y_val = eco_val.flatten()"
   ]
  },
  {
   "cell_type": "code",
   "execution_count": 11,
   "metadata": {},
   "outputs": [
    {
     "data": {
      "text/html": [
       "<style>#sk-container-id-2 {color: black;}#sk-container-id-2 pre{padding: 0;}#sk-container-id-2 div.sk-toggleable {background-color: white;}#sk-container-id-2 label.sk-toggleable__label {cursor: pointer;display: block;width: 100%;margin-bottom: 0;padding: 0.3em;box-sizing: border-box;text-align: center;}#sk-container-id-2 label.sk-toggleable__label-arrow:before {content: \"▸\";float: left;margin-right: 0.25em;color: #696969;}#sk-container-id-2 label.sk-toggleable__label-arrow:hover:before {color: black;}#sk-container-id-2 div.sk-estimator:hover label.sk-toggleable__label-arrow:before {color: black;}#sk-container-id-2 div.sk-toggleable__content {max-height: 0;max-width: 0;overflow: hidden;text-align: left;background-color: #f0f8ff;}#sk-container-id-2 div.sk-toggleable__content pre {margin: 0.2em;color: black;border-radius: 0.25em;background-color: #f0f8ff;}#sk-container-id-2 input.sk-toggleable__control:checked~div.sk-toggleable__content {max-height: 200px;max-width: 100%;overflow: auto;}#sk-container-id-2 input.sk-toggleable__control:checked~label.sk-toggleable__label-arrow:before {content: \"▾\";}#sk-container-id-2 div.sk-estimator input.sk-toggleable__control:checked~label.sk-toggleable__label {background-color: #d4ebff;}#sk-container-id-2 div.sk-label input.sk-toggleable__control:checked~label.sk-toggleable__label {background-color: #d4ebff;}#sk-container-id-2 input.sk-hidden--visually {border: 0;clip: rect(1px 1px 1px 1px);clip: rect(1px, 1px, 1px, 1px);height: 1px;margin: -1px;overflow: hidden;padding: 0;position: absolute;width: 1px;}#sk-container-id-2 div.sk-estimator {font-family: monospace;background-color: #f0f8ff;border: 1px dotted black;border-radius: 0.25em;box-sizing: border-box;margin-bottom: 0.5em;}#sk-container-id-2 div.sk-estimator:hover {background-color: #d4ebff;}#sk-container-id-2 div.sk-parallel-item::after {content: \"\";width: 100%;border-bottom: 1px solid gray;flex-grow: 1;}#sk-container-id-2 div.sk-label:hover label.sk-toggleable__label {background-color: #d4ebff;}#sk-container-id-2 div.sk-serial::before {content: \"\";position: absolute;border-left: 1px solid gray;box-sizing: border-box;top: 0;bottom: 0;left: 50%;z-index: 0;}#sk-container-id-2 div.sk-serial {display: flex;flex-direction: column;align-items: center;background-color: white;padding-right: 0.2em;padding-left: 0.2em;position: relative;}#sk-container-id-2 div.sk-item {position: relative;z-index: 1;}#sk-container-id-2 div.sk-parallel {display: flex;align-items: stretch;justify-content: center;background-color: white;position: relative;}#sk-container-id-2 div.sk-item::before, #sk-container-id-2 div.sk-parallel-item::before {content: \"\";position: absolute;border-left: 1px solid gray;box-sizing: border-box;top: 0;bottom: 0;left: 50%;z-index: -1;}#sk-container-id-2 div.sk-parallel-item {display: flex;flex-direction: column;z-index: 1;position: relative;background-color: white;}#sk-container-id-2 div.sk-parallel-item:first-child::after {align-self: flex-end;width: 50%;}#sk-container-id-2 div.sk-parallel-item:last-child::after {align-self: flex-start;width: 50%;}#sk-container-id-2 div.sk-parallel-item:only-child::after {width: 0;}#sk-container-id-2 div.sk-dashed-wrapped {border: 1px dashed gray;margin: 0 0.4em 0.5em 0.4em;box-sizing: border-box;padding-bottom: 0.4em;background-color: white;}#sk-container-id-2 div.sk-label label {font-family: monospace;font-weight: bold;display: inline-block;line-height: 1.2em;}#sk-container-id-2 div.sk-label-container {text-align: center;}#sk-container-id-2 div.sk-container {/* jupyter's `normalize.less` sets `[hidden] { display: none; }` but bootstrap.min.css set `[hidden] { display: none !important; }` so we also need the `!important` here to be able to override the default hidden behavior on the sphinx rendered scikit-learn.org. See: https://github.com/scikit-learn/scikit-learn/issues/21755 */display: inline-block !important;position: relative;}#sk-container-id-2 div.sk-text-repr-fallback {display: none;}</style><div id=\"sk-container-id-2\" class=\"sk-top-container\"><div class=\"sk-text-repr-fallback\"><pre>LinearRegression()</pre><b>In a Jupyter environment, please rerun this cell to show the HTML representation or trust the notebook. <br />On GitHub, the HTML representation is unable to render, please try loading this page with nbviewer.org.</b></div><div class=\"sk-container\" hidden><div class=\"sk-item\"><div class=\"sk-estimator sk-toggleable\"><input class=\"sk-toggleable__control sk-hidden--visually\" id=\"sk-estimator-id-2\" type=\"checkbox\" checked><label for=\"sk-estimator-id-2\" class=\"sk-toggleable__label sk-toggleable__label-arrow\">LinearRegression</label><div class=\"sk-toggleable__content\"><pre>LinearRegression()</pre></div></div></div></div></div>"
      ],
      "text/plain": [
       "LinearRegression()"
      ]
     },
     "execution_count": 11,
     "metadata": {},
     "output_type": "execute_result"
    }
   ],
   "source": [
    "lr = LinearRegression()\n",
    "lr.fit(x_train[:, :], y_train)"
   ]
  },
  {
   "cell_type": "code",
   "execution_count": 12,
   "metadata": {},
   "outputs": [
    {
     "data": {
      "text/plain": [
       "0.2744109418002446"
      ]
     },
     "execution_count": 12,
     "metadata": {},
     "output_type": "execute_result"
    }
   ],
   "source": [
    "lr.score(x_val[:, :], y_val)"
   ]
  },
  {
   "cell_type": "code",
   "execution_count": 14,
   "metadata": {},
   "outputs": [
    {
     "data": {
      "text/plain": [
       "0.8518151549483933"
      ]
     },
     "execution_count": 14,
     "metadata": {},
     "output_type": "execute_result"
    }
   ],
   "source": [
    "p = lr.predict(x_val[:, :])\n",
    "(np.mean((p-y_val)**2)**0.5) / y_val.std()"
   ]
  }
 ],
 "metadata": {
  "kernelspec": {
   "display_name": "cs101",
   "language": "python",
   "name": "cs101"
  },
  "language_info": {
   "codemirror_mode": {
    "name": "ipython",
    "version": 3
   },
   "file_extension": ".py",
   "mimetype": "text/x-python",
   "name": "python",
   "nbconvert_exporter": "python",
   "pygments_lexer": "ipython3",
   "version": "3.11.6"
  }
 },
 "nbformat": 4,
 "nbformat_minor": 2
}
