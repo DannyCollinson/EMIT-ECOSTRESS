{
 "cells": [
  {
   "cell_type": "code",
   "execution_count": 1,
   "metadata": {},
   "outputs": [],
   "source": [
    "import os\n",
    "import sys\n",
    "import importlib\n",
    "import pickle\n",
    "\n",
    "import numpy as np\n",
    "import matplotlib.pyplot as plt\n",
    "\n",
    "import torch\n",
    "import torch.nn as nn\n",
    "import torch.optim as optim\n",
    "from torch.utils.data import DataLoader"
   ]
  },
  {
   "cell_type": "code",
   "execution_count": 2,
   "metadata": {},
   "outputs": [],
   "source": [
    "project_path = 'C:\\\\Users\\\\danny\\\\Documents_Local\\\\Caltech_2023-2024\\\\CS101'\n",
    "\n",
    "def join_path(relative_path: str) -> str:\n",
    "    return os.path.join(project_path, relative_path)\n",
    "\n",
    "def pickle_load(relative_path: str):  # -> pickled_file_contents\n",
    "    return pickle.load(open(join_path(relative_path), 'rb'))\n",
    "\n",
    "def pickle_save(obj: object, relative_path: str) -> None:\n",
    "    pickle.dump(obj, open(join_path(relative_path), 'wb'))"
   ]
  },
  {
   "cell_type": "code",
   "execution_count": 3,
   "metadata": {},
   "outputs": [],
   "source": [
    "sys.path.append(join_path('EMIT-ECOSTRESS\\\\modules'))\n",
    "import data.Datasets\n",
    "import models.Feedforward\n",
    "import models.Attention\n",
    "import utils.train"
   ]
  },
  {
   "cell_type": "code",
   "execution_count": 4,
   "metadata": {},
   "outputs": [
    {
     "data": {
      "text/plain": [
       "'cuda'"
      ]
     },
     "execution_count": 4,
     "metadata": {},
     "output_type": "execute_result"
    }
   ],
   "source": [
    "if torch.cuda.is_available():\n",
    "    device = 'cuda'\n",
    "else:\n",
    "    device = 'cpu'\n",
    "device"
   ]
  },
  {
   "cell_type": "code",
   "execution_count": 5,
   "metadata": {},
   "outputs": [],
   "source": [
    "# Make datasets and dataloaders\n",
    "\n",
    "# setup\n",
    "\n",
    "importlib.reload(data.Datasets)\n",
    "\n",
    "omit_components = 6\n",
    "\n",
    "batch_size = 256\n",
    "\n",
    "base_data_path = (join_path('Data\\\\Split_Data'))\n",
    "\n",
    "train_splits = ['00', '02', '04', '06', '08', '10', '12', '14', '16', '18']\n",
    "val_splits = ['01', '05', '09', '13', '17']\n",
    "test_splits = ['03', '07', '11', '15', '19']\n",
    "\n",
    "\n",
    "# load data\n",
    "\n",
    "# emit\n",
    "emit_train_list = []\n",
    "for split in train_splits:\n",
    "    emit_train_list.append(\n",
    "        pickle_load(\n",
    "            os.path.join(base_data_path, f'PCA_8\\\\reflectance_{split}.pkl')\n",
    "            # os.path.join(base_data_path, f'KPCA\\\\Cosine\\\\reflectance_{split}.pkl')\n",
    "        )\n",
    "    )\n",
    "emit_train = np.concatenate(emit_train_list, axis=0)\n",
    "\n",
    "emit_val_list = []\n",
    "for split in val_splits:\n",
    "    emit_val_list.append(\n",
    "        pickle_load(\n",
    "            os.path.join(base_data_path, f'PCA_8\\\\reflectance_{split}.pkl')\n",
    "            # os.path.join(base_data_path, f'KPCA\\\\Cosine\\\\reflectance_{split}.pkl')\n",
    "        )\n",
    "    )\n",
    "emit_val = np.concatenate(emit_val_list, axis=0)\n",
    "\n",
    "# ecostress\n",
    "eco_train_list = []\n",
    "for split in train_splits:\n",
    "    eco_train_list.append(\n",
    "        pickle_load(\n",
    "            os.path.join(base_data_path, f'LSTE\\\\LSTE_{split}.pkl')\n",
    "        )\n",
    "    )\n",
    "eco_train = np.concatenate(eco_train_list, axis=0)\n",
    "\n",
    "eco_val_list = []\n",
    "for split in val_splits:\n",
    "    eco_val_list.append(\n",
    "        pickle_load(\n",
    "            os.path.join(base_data_path, f'LSTE\\\\LSTE_{split}.pkl')\n",
    "        )\n",
    "    )\n",
    "eco_val = np.concatenate(eco_val_list, axis=0)\n",
    "\n",
    "# elevation\n",
    "elev_train_list = []\n",
    "for split in train_splits:\n",
    "    elev_train_list.append(\n",
    "        pickle_load(\n",
    "            os.path.join(base_data_path, f'Elevation\\\\elevation_{split}.pkl')\n",
    "        )\n",
    "    )\n",
    "elev_train = np.concatenate(elev_train_list, axis=0)\n",
    "\n",
    "elev_val_list = []\n",
    "for split in val_splits:\n",
    "    elev_val_list.append(\n",
    "        pickle_load(\n",
    "            os.path.join(base_data_path, f'Elevation\\\\elevation_{split}.pkl')\n",
    "        )\n",
    "    )\n",
    "elev_val = np.concatenate(elev_val_list, axis=0)\n",
    "\n",
    "\n",
    "# create datasets and dataloaders\n",
    "\n",
    "train_dataset = data.Datasets.EmitEcostressDataset(\n",
    "    emit_data=emit_train,\n",
    "    omit_components=omit_components,\n",
    "    ecostress_data=eco_train,\n",
    "    ecostress_center=None,\n",
    "    ecostress_scale=None,\n",
    "    additional_data=(elev_train,),\n",
    "    device=device,\n",
    ")\n",
    "\n",
    "val_dataset = data.Datasets.EmitEcostressDataset(\n",
    "    emit_data=emit_val,\n",
    "    omit_components=omit_components,\n",
    "    ecostress_data=eco_val,\n",
    "    ecostress_center=None,\n",
    "    ecostress_scale=None,\n",
    "    additional_data=(elev_val,),\n",
    "    device=device,\n",
    ")\n",
    "\n",
    "train_loader = DataLoader(\n",
    "    dataset=train_dataset, batch_size=batch_size, drop_last=True\n",
    ")\n",
    "val_loader = DataLoader(\n",
    "    dataset=val_dataset, batch_size=batch_size, drop_last=True\n",
    ")"
   ]
  },
  {
   "cell_type": "code",
   "execution_count": 6,
   "metadata": {},
   "outputs": [
    {
     "data": {
      "text/plain": [
       "ToyModel(\n",
       "  (linear1): Linear(in_features=3, out_features=32, bias=True)\n",
       "  (linear2): Linear(in_features=32, out_features=16, bias=True)\n",
       "  (linear3): Linear(in_features=16, out_features=8, bias=True)\n",
       "  (linear_output): Linear(in_features=8, out_features=1, bias=True)\n",
       "  (layernorm1): LayerNorm((32,), eps=1e-05, elementwise_affine=True)\n",
       "  (layernorm2): LayerNorm((16,), eps=1e-05, elementwise_affine=True)\n",
       "  (layernorm3): LayerNorm((8,), eps=1e-05, elementwise_affine=True)\n",
       ")"
      ]
     },
     "execution_count": 6,
     "metadata": {},
     "output_type": "execute_result"
    }
   ],
   "source": [
    "# Make model, optimizer, and loss function\n",
    "importlib.reload(models.Feedforward)\n",
    "importlib.reload(models.Attention)\n",
    "\n",
    "n_epochs = 100\n",
    "\n",
    "model = models.Feedforward.ToyModel(\n",
    "    input_dim=train_dataset.input_dim\n",
    ")\n",
    "\n",
    "if device == 'cuda':\n",
    "    model = model.cuda()\n",
    "\n",
    "optimizer = optim.Adam(\n",
    "    params=model.parameters(), lr=0.0001, weight_decay=0, fused=True\n",
    ")\n",
    "\n",
    "scheduler = optim.lr_scheduler.ReduceLROnPlateau(\n",
    "    optimizer=optimizer, factor=0.5, patience=2\n",
    ")\n",
    "# scheduler = None\n",
    "\n",
    "loss_fn = nn.MSELoss(reduction='sum')\n",
    "\n",
    "model"
   ]
  },
  {
   "cell_type": "code",
   "execution_count": 7,
   "metadata": {},
   "outputs": [
    {
     "name": "stdout",
     "output_type": "stream",
     "text": [
      "Epoch 000\t\t Train Loss: 0.89879\t\t Val Loss: 0.88934 \t\t Avg Error: 11.178\t\tLR: 0.0001\t\tTime: 1.3e+02\n",
      "Epoch 001\t\t Train Loss: 0.3058\t\t Val Loss: 0.2927 \t\t Avg Error: 6.4127\t\tLR: 0.0001\t\tTime: 2.3e+02\n",
      "Epoch 002\t\t Train Loss: 0.22094\t\t Val Loss: 0.268 \t\t Avg Error: 6.1362\t\tLR: 0.0001\t\tTime: 1.6e+02\n",
      "Epoch 003\t\t Train Loss: 0.18868\t\t Val Loss: 0.30205 \t\t Avg Error: 6.5143\t\tLR: 0.0001\t\tTime: 1.3e+02\n",
      "Epoch 004\t\t Train Loss: 0.16764\t\t Val Loss: 0.24596 \t\t Avg Error: 5.8784\t\tLR: 0.0001\t\tTime: 1.4e+02\n",
      "Epoch 005\t\t Train Loss: 0.17674\t\t Val Loss: 0.26725 \t\t Avg Error: 6.1275\t\tLR: 0.0001\t\tTime: 1.4e+02\n",
      "Epoch 006\t\t Train Loss: 0.16836\t\t Val Loss: 0.25551 \t\t Avg Error: 5.9914\t\tLR: 0.0001\t\tTime: 1.4e+02\n",
      "Epoch 007\t\t Train Loss: 0.1683\t\t Val Loss: 0.23902 \t\t Avg Error: 5.7949\t\tLR: 0.0001\t\tTime: 1.3e+02\n",
      "Epoch 008\t\t Train Loss: 0.16375\t\t Val Loss: 0.23511 \t\t Avg Error: 5.7473\t\tLR: 0.0001\t\tTime: 1.3e+02\n",
      "Epoch 009\t\t Train Loss: 0.15886\t\t Val Loss: 0.23143 \t\t Avg Error: 5.7021\t\tLR: 0.0001\t\tTime: 1.3e+02\n",
      "Epoch 010\t\t Train Loss: 0.15217\t\t Val Loss: 0.17811 \t\t Avg Error: 5.0024\t\tLR: 0.0001\t\tTime: 1.4e+02\n",
      "Epoch 011\t\t Train Loss: 0.14875\t\t Val Loss: 0.22747 \t\t Avg Error: 5.6531\t\tLR: 0.0001\t\tTime: 1.4e+02\n",
      "Epoch 012\t\t Train Loss: 0.1549\t\t Val Loss: 0.21732 \t\t Avg Error: 5.5256\t\tLR: 0.0001\t\tTime: 1.3e+02\n",
      "Epoch 013\t\t Train Loss: 0.13221\t\t Val Loss: 0.1778 \t\t Avg Error: 4.998\t\tLR: 0.0001\t\tTime: 1.4e+02\n",
      "Epoch 014\t\t Train Loss: 0.13675\t\t Val Loss: 0.22499 \t\t Avg Error: 5.6222\t\tLR: 0.0001\t\tTime: 1.4e+02\n",
      "Epoch 015\t\t Train Loss: 0.13959\t\t Val Loss: 0.22631 \t\t Avg Error: 5.6387\t\tLR: 0.0001\t\tTime: 1.4e+02\n",
      "Epoch 016\t\t Train Loss: 0.13453\t\t Val Loss: 0.22092 \t\t Avg Error: 5.5712\t\tLR: 5e-05\t\tTime: 1.4e+02\n",
      "Epoch 017\t\t Train Loss: 0.14157\t\t Val Loss: 0.21453 \t\t Avg Error: 5.4899\t\tLR: 5e-05\t\tTime: 1.4e+02\n",
      "Epoch 018\t\t Train Loss: 0.13117\t\t Val Loss: 0.21232 \t\t Avg Error: 5.4616\t\tLR: 5e-05\t\tTime: 1.4e+02\n",
      "Epoch 019\t\t Train Loss: 0.12721\t\t Val Loss: 0.20395 \t\t Avg Error: 5.3529\t\tLR: 2.5e-05\t\tTime: 1.4e+02\n",
      "Epoch 020\t\t Train Loss: 0.13366\t\t Val Loss: 0.1859 \t\t Avg Error: 5.1105\t\tLR: 2.5e-05\t\tTime: 1.4e+02\n",
      "Epoch 021\t\t Train Loss: 0.12668\t\t Val Loss: 0.18676 \t\t Avg Error: 5.1223\t\tLR: 2.5e-05\t\tTime: 1.4e+02\n",
      "Epoch 022\t\t Train Loss: 0.12452\t\t Val Loss: 0.18363 \t\t Avg Error: 5.0792\t\tLR: 1.25e-05\t\tTime: 1.4e+02\n",
      "Epoch 023\t\t Train Loss: 0.1277\t\t Val Loss: 0.17165 \t\t Avg Error: 4.9108\t\tLR: 1.25e-05\t\tTime: 1.4e+02\n",
      "Epoch 024\t\t Train Loss: 0.12252\t\t Val Loss: 0.17197 \t\t Avg Error: 4.9154\t\tLR: 1.25e-05\t\tTime: 1.4e+02\n",
      "Epoch 025\t\t Train Loss: 0.12046\t\t Val Loss: 0.17234 \t\t Avg Error: 4.9206\t\tLR: 1.25e-05\t\tTime: 1.4e+02\n",
      "Epoch 026\t\t Train Loss: 0.11855\t\t Val Loss: 0.17374 \t\t Avg Error: 4.9405\t\tLR: 6.25e-06\t\tTime: 1.4e+02\n",
      "Epoch 027\t\t Train Loss: 0.12597\t\t Val Loss: 0.16156 \t\t Avg Error: 4.7642\t\tLR: 6.25e-06\t\tTime: 7.9e+02\n",
      "Epoch 028\t\t Train Loss: 0.12298\t\t Val Loss: 0.16144 \t\t Avg Error: 4.7625\t\tLR: 6.25e-06\t\tTime: 1.3e+02\n",
      "Epoch 029\t\t Train Loss: 0.12182\t\t Val Loss: 0.16094 \t\t Avg Error: 4.7552\t\tLR: 6.25e-06\t\tTime: 1.2e+02\n",
      "Epoch 030\t\t Train Loss: 0.12072\t\t Val Loss: 0.16041 \t\t Avg Error: 4.7473\t\tLR: 6.25e-06\t\tTime: 1.2e+02\n",
      "Epoch 031\t\t Train Loss: 0.11974\t\t Val Loss: 0.15999 \t\t Avg Error: 4.7411\t\tLR: 6.25e-06\t\tTime: 1.3e+02\n",
      "Epoch 032\t\t Train Loss: 0.11896\t\t Val Loss: 0.15964 \t\t Avg Error: 4.7359\t\tLR: 6.25e-06\t\tTime: 1.3e+02\n",
      "Epoch 033\t\t Train Loss: 0.11825\t\t Val Loss: 0.15941 \t\t Avg Error: 4.7325\t\tLR: 6.25e-06\t\tTime: 1.3e+02\n",
      "Epoch 034\t\t Train Loss: 0.11771\t\t Val Loss: 0.15921 \t\t Avg Error: 4.7294\t\tLR: 6.25e-06\t\tTime: 1.3e+02\n",
      "Epoch 035\t\t Train Loss: 0.11717\t\t Val Loss: 0.15903 \t\t Avg Error: 4.7268\t\tLR: 6.25e-06\t\tTime: 1.3e+02\n",
      "Epoch 036\t\t Train Loss: 0.11677\t\t Val Loss: 0.15894 \t\t Avg Error: 4.7254\t\tLR: 6.25e-06\t\tTime: 1.3e+02\n",
      "Epoch 037\t\t Train Loss: 0.11631\t\t Val Loss: 0.15884 \t\t Avg Error: 4.724\t\tLR: 6.25e-06\t\tTime: 1.4e+02\n",
      "Epoch 038\t\t Train Loss: 0.11597\t\t Val Loss: 0.15879 \t\t Avg Error: 4.7232\t\tLR: 6.25e-06\t\tTime: 1.3e+02\n",
      "Epoch 039\t\t Train Loss: 0.11557\t\t Val Loss: 0.15869 \t\t Avg Error: 4.7218\t\tLR: 6.25e-06\t\tTime: 1.3e+02\n",
      "Epoch 040\t\t Train Loss: 0.11547\t\t Val Loss: 0.15885 \t\t Avg Error: 4.7241\t\tLR: 6.25e-06\t\tTime: 1.4e+02\n",
      "Epoch 041\t\t Train Loss: 0.11498\t\t Val Loss: 0.1586 \t\t Avg Error: 4.7204\t\tLR: 6.25e-06\t\tTime: 1.4e+02\n",
      "Epoch 042\t\t Train Loss: 0.11467\t\t Val Loss: 0.15871 \t\t Avg Error: 4.722\t\tLR: 6.25e-06\t\tTime: 1.4e+02\n",
      "Epoch 043\t\t Train Loss: 0.11436\t\t Val Loss: 0.15848 \t\t Avg Error: 4.7186\t\tLR: 6.25e-06\t\tTime: 1.4e+02\n",
      "Epoch 044\t\t Train Loss: 0.11414\t\t Val Loss: 0.15851 \t\t Avg Error: 4.7191\t\tLR: 6.25e-06\t\tTime: 1.3e+02\n",
      "Epoch 045\t\t Train Loss: 0.11386\t\t Val Loss: 0.15858 \t\t Avg Error: 4.7201\t\tLR: 6.25e-06\t\tTime: 1.3e+02\n"
     ]
    }
   ],
   "source": [
    "importlib.reload(utils.train)\n",
    "train_loss, val_loss = utils.train.train(\n",
    "    model,\n",
    "    optimizer,\n",
    "    scheduler,\n",
    "    loss_fn,\n",
    "    train_loader,\n",
    "    val_loader,\n",
    "    n_epochs=n_epochs,\n",
    "    loss_interval=1,\n",
    "    # preexisting_losses=[train_loss, val_loss],\n",
    "    device=device,\n",
    ")"
   ]
  },
  {
   "cell_type": "code",
   "execution_count": null,
   "metadata": {},
   "outputs": [
    {
     "data": {
      "image/png": "[encoded data removed]",
      "text/plain": [
       "<Figure size 640x480 with 1 Axes>"
      ]
     },
     "metadata": {},
     "output_type": "display_data"
    }
   ],
   "source": [
    "fig, ax = plt.subplots()\n",
    "fig.suptitle('3-layer NN model: input->32->16->8')\n",
    "ax.set_title('Input = 2 PCA-whitening components + elevation')\n",
    "ax.semilogy(\n",
    "    np.arange(len(train_loss)),\n",
    "    train_loss,\n",
    "    label=f'train, min={min(train_loss):.4}',\n",
    ")\n",
    "ax.semilogy(\n",
    "    np.arange(len(val_loss)), val_loss, label=f'val, min={min(val_loss):.4}'\n",
    ")\n",
    "ax.set_xlabel('Epoch')\n",
    "ax.set_ylabel('Average MSE Loss')\n",
    "ax.legend()\n",
    "plt.show(fig)"
   ]
  },
  {
   "cell_type": "code",
   "execution_count": null,
   "metadata": {},
   "outputs": [],
   "source": []
  }
 ],
 "metadata": {
  "kernelspec": {
   "display_name": "cs101",
   "language": "python",
   "name": "cs101"
  },
  "language_info": {
   "codemirror_mode": {
    "name": "ipython",
    "version": 3
   },
   "file_extension": ".py",
   "mimetype": "text/x-python",
   "name": "python",
   "nbconvert_exporter": "python",
   "pygments_lexer": "ipython3",
   "version": "3.11.6"
  }
 },
 "nbformat": 4,
 "nbformat_minor": 2
}
