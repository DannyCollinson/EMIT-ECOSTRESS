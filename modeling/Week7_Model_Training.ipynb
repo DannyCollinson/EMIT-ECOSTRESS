{
 "cells": [
  {
   "cell_type": "code",
   "execution_count": 10,
   "metadata": {},
   "outputs": [],
   "source": [
    "import os\n",
    "import sys\n",
    "import importlib\n",
    "import pickle\n",
    "\n",
    "import numpy as np\n",
    "import matplotlib.pyplot as plt\n",
    "\n",
    "import torch\n",
    "import torch.nn as nn\n",
    "import torch.optim as optim\n",
    "from torch.utils.data import DataLoader"
   ]
  },
  {
   "cell_type": "code",
   "execution_count": 11,
   "metadata": {},
   "outputs": [],
   "source": [
    "project_path = 'C:\\\\Users\\\\danny\\\\Documents_Local\\\\Caltech_2023-2024\\\\CS101'\n",
    "\n",
    "def join_path(relative_path: str) -> str:\n",
    "    return os.path.join(project_path, relative_path)\n",
    "\n",
    "def pickle_load(relative_path: str):  # -> pickled_file_contents\n",
    "    return pickle.load(open(join_path(relative_path), 'rb'))\n",
    "\n",
    "def pickle_save(obj: object, relative_path: str) -> None:\n",
    "    pickle.dump(obj, open(join_path(relative_path), 'wb'))"
   ]
  },
  {
   "cell_type": "code",
   "execution_count": 12,
   "metadata": {},
   "outputs": [],
   "source": [
    "sys.path.append(join_path('EMIT-ECOSTRESS\\\\modules'))\n",
    "import data.Datasets\n",
    "import models.Feedforward\n",
    "import models.Attention\n",
    "import utils.train"
   ]
  },
  {
   "cell_type": "code",
   "execution_count": 13,
   "metadata": {},
   "outputs": [
    {
     "data": {
      "text/plain": [
       "'cuda'"
      ]
     },
     "execution_count": 13,
     "metadata": {},
     "output_type": "execute_result"
    }
   ],
   "source": [
    "if torch.cuda.is_available():\n",
    "    device = 'cuda'\n",
    "else:\n",
    "    device = 'cpu'\n",
    "device"
   ]
  },
  {
   "cell_type": "code",
   "execution_count": 5,
   "metadata": {},
   "outputs": [],
   "source": [
    "# Make datasets and dataloaders\n",
    "\n",
    "# setup\n",
    "\n",
    "importlib.reload(data.Datasets)\n",
    "\n",
    "omit_components = 4\n",
    "\n",
    "batch_size = 2**13  # = 8192\n",
    "\n",
    "base_data_path = (join_path('Data\\\\Split_Data'))\n",
    "\n",
    "train_splits = ['00', '02', '04', '06', '08', '10', '12', '14', '16', '18']\n",
    "val_splits = ['01', '05', '09', '13', '17']\n",
    "test_splits = ['03', '07', '11', '15', '19']\n",
    "\n",
    "\n",
    "# load data\n",
    "\n",
    "# emit\n",
    "emit_train_list = []\n",
    "for split in train_splits:\n",
    "    emit_train_list.append(\n",
    "        pickle_load(\n",
    "            os.path.join(base_data_path, f'PCA_8\\\\reflectance_{split}.pkl')\n",
    "            # os.path.join(base_data_path, f'KPCA\\\\RBF\\\\reflectance_{split}.pkl')\n",
    "        )\n",
    "    )\n",
    "emit_train = np.concatenate(emit_train_list, axis=0)\n",
    "\n",
    "emit_val_list = []\n",
    "for split in val_splits:\n",
    "    emit_val_list.append(\n",
    "        pickle_load(\n",
    "            os.path.join(base_data_path, f'PCA_8\\\\reflectance_{split}.pkl')\n",
    "            # os.path.join(base_data_path, f'KPCA\\\\RBF\\\\reflectance_{split}.pkl')\n",
    "        )\n",
    "    )\n",
    "emit_val = np.concatenate(emit_val_list, axis=0)\n",
    "\n",
    "# ecostress\n",
    "eco_train_list = []\n",
    "for split in train_splits:\n",
    "    eco_train_list.append(\n",
    "        pickle_load(\n",
    "            os.path.join(base_data_path, f'LSTE\\\\LSTE_{split}.pkl')\n",
    "        )\n",
    "    )\n",
    "eco_train = np.concatenate(eco_train_list, axis=0)\n",
    "\n",
    "eco_val_list = []\n",
    "for split in val_splits:\n",
    "    eco_val_list.append(\n",
    "        pickle_load(\n",
    "            os.path.join(base_data_path, f'LSTE\\\\LSTE_{split}.pkl')\n",
    "        )\n",
    "    )\n",
    "eco_val = np.concatenate(eco_val_list, axis=0)\n",
    "\n",
    "# elevation\n",
    "elev_train_list = []\n",
    "for split in train_splits:\n",
    "    elev_train_list.append(\n",
    "        pickle_load(\n",
    "            os.path.join(base_data_path, f'Elevation\\\\elevation_{split}.pkl')\n",
    "        )\n",
    "    )\n",
    "elev_train = np.concatenate(elev_train_list, axis=0)\n",
    "\n",
    "elev_val_list = []\n",
    "for split in val_splits:\n",
    "    elev_val_list.append(\n",
    "        pickle_load(\n",
    "            os.path.join(base_data_path, f'Elevation\\\\elevation_{split}.pkl')\n",
    "        )\n",
    "    )\n",
    "elev_val = np.concatenate(elev_val_list, axis=0)\n",
    "\n",
    "\n",
    "# create datasets and dataloaders\n",
    "\n",
    "train_dataset = data.Datasets.EmitEcostressDataset(\n",
    "    emit_data=emit_train,\n",
    "    omit_components=omit_components,\n",
    "    ecostress_data=eco_train,\n",
    "    ecostress_center=None,\n",
    "    ecostress_scale=None,\n",
    "    additional_data=(elev_train,),\n",
    "    device=device,\n",
    ")\n",
    "\n",
    "val_dataset = data.Datasets.EmitEcostressDataset(\n",
    "    emit_data=emit_val,\n",
    "    omit_components=omit_components,\n",
    "    ecostress_data=eco_val,\n",
    "    ecostress_center=None,\n",
    "    ecostress_scale=None,\n",
    "    additional_data=(elev_val,),\n",
    "    device=device,\n",
    ")\n",
    "\n",
    "train_loader = DataLoader(\n",
    "    dataset=train_dataset, batch_size=batch_size, drop_last=True\n",
    ")\n",
    "val_loader = DataLoader(\n",
    "    dataset=val_dataset, batch_size=batch_size, drop_last=True\n",
    ")"
   ]
  },
  {
   "cell_type": "code",
   "execution_count": 6,
   "metadata": {},
   "outputs": [
    {
     "data": {
      "text/plain": [
       "ToyModel(\n",
       "  (linear1): Linear(in_features=245, out_features=128, bias=True)\n",
       "  (linear2): Linear(in_features=128, out_features=64, bias=True)\n",
       "  (linear3): Linear(in_features=64, out_features=32, bias=True)\n",
       "  (linear_output): Linear(in_features=32, out_features=1, bias=True)\n",
       "  (batchnorm1): BatchNorm1d(128, eps=1e-05, momentum=0.1, affine=True, track_running_stats=True)\n",
       "  (batchnorm2): BatchNorm1d(64, eps=1e-05, momentum=0.1, affine=True, track_running_stats=True)\n",
       "  (batchnorm3): BatchNorm1d(32, eps=1e-05, momentum=0.1, affine=True, track_running_stats=True)\n",
       ")"
      ]
     },
     "execution_count": 6,
     "metadata": {},
     "output_type": "execute_result"
    }
   ],
   "source": [
    "# Make model, optimizer, and loss function\n",
    "importlib.reload(models.Feedforward)\n",
    "importlib.reload(models.Attention)\n",
    "\n",
    "n_epochs = 20\n",
    "\n",
    "model = models.Feedforward.ToyModel(\n",
    "    input_dim=train_dataset.input_dim\n",
    ")\n",
    "\n",
    "if device == 'cuda':\n",
    "    model = model.cuda()\n",
    "\n",
    "optimizer = optim.Adam(params=model.parameters(), lr=0.001, weight_decay=0)\n",
    "scheduler = optim.lr_scheduler.ReduceLROnPlateau(\n",
    "    optimizer=optimizer, factor=0.5, patience=2\n",
    ")\n",
    "# scheduler = None\n",
    "\n",
    "loss_fn = nn.MSELoss(reduction='mean')\n",
    "\n",
    "model"
   ]
  },
  {
   "cell_type": "code",
   "execution_count": 8,
   "metadata": {},
   "outputs": [
    {
     "name": "stdout",
     "output_type": "stream",
     "text": [
      "Epoch 000\t\tTrain Loss: 1.2245\t\tVal Loss: 7.8311 \t\tLR: 0.002\t\tTime: 82.36111354827881\n",
      "Epoch 001\t\tTrain Loss: 1.0183\t\tVal Loss: 0.36013 \t\tLR: 0.002\t\tTime: 85.20504713058472\n",
      "Epoch 002\t\tTrain Loss: 0.9817\t\tVal Loss: 0.45716 \t\tLR: 0.002\t\tTime: 88.40537548065186\n",
      "Epoch 003\t\tTrain Loss: 0.9761\t\tVal Loss: 2.1687 \t\tLR: 0.002\t\tTime: 94.17261719703674\n",
      "Epoch 004\t\tTrain Loss: 0.97217\t\tVal Loss: 1.1873 \t\tLR: 0.001\t\tTime: 88.20178270339966\n",
      "Epoch 005\t\tTrain Loss: 0.96294\t\tVal Loss: 0.37969 \t\tLR: 0.001\t\tTime: 88.71805810928345\n",
      "Epoch 006\t\tTrain Loss: 0.95704\t\tVal Loss: 0.35104 \t\tLR: 0.001\t\tTime: 90.70333409309387\n",
      "Epoch 007\t\tTrain Loss: 0.9542\t\tVal Loss: 0.4007 \t\tLR: 0.001\t\tTime: 88.07154369354248\n",
      "Epoch 008\t\tTrain Loss: 0.95294\t\tVal Loss: 0.50577 \t\tLR: 0.001\t\tTime: 90.56394052505493\n",
      "Epoch 009\t\tTrain Loss: 0.9515\t\tVal Loss: 1.2294 \t\tLR: 0.0005\t\tTime: 79.10582780838013\n",
      "Epoch 010\t\tTrain Loss: 0.94687\t\tVal Loss: 1.8525 \t\tLR: 0.0005\t\tTime: 82.56773209571838\n",
      "Epoch 011\t\tTrain Loss: 0.94491\t\tVal Loss: 1.8891 \t\tLR: 0.0005\t\tTime: 80.3261981010437\n",
      "Epoch 012\t\tTrain Loss: 0.94349\t\tVal Loss: 1.7034 \t\tLR: 0.00025\t\tTime: 75.56299090385437\n",
      "Epoch 013\t\tTrain Loss: 0.94029\t\tVal Loss: 2.0696 \t\tLR: 0.00025\t\tTime: 73.53489542007446\n",
      "Epoch 014\t\tTrain Loss: 0.93943\t\tVal Loss: 1.8009 \t\tLR: 0.00025\t\tTime: 74.4719443321228\n",
      "Epoch 015\t\tTrain Loss: 0.93882\t\tVal Loss: 1.693 \t\tLR: 0.000125\t\tTime: 72.5709297657013\n",
      "Epoch 016\t\tTrain Loss: 0.93725\t\tVal Loss: 1.5883 \t\tLR: 0.000125\t\tTime: 71.63319611549377\n",
      "Epoch 017\t\tTrain Loss: 0.9368\t\tVal Loss: 1.5636 \t\tLR: 0.000125\t\tTime: 72.57887721061707\n",
      "Epoch 018\t\tTrain Loss: 0.93648\t\tVal Loss: 1.5232 \t\tLR: 6.25e-05\t\tTime: 64.78336572647095\n",
      "\n",
      "Training interrupted by user\n"
     ]
    }
   ],
   "source": [
    "importlib.reload(utils.train)\n",
    "train_loss, val_loss = utils.train.train(\n",
    "    model,\n",
    "    optimizer,\n",
    "    scheduler,\n",
    "    loss_fn,\n",
    "    train_loader,\n",
    "    val_loader,\n",
    "    n_epochs=n_epochs,\n",
    "    loss_interval=1,\n",
    "    # preexisting_losses=[train_loss, val_loss],\n",
    "    device=device,\n",
    ")"
   ]
  },
  {
   "cell_type": "code",
   "execution_count": 9,
   "metadata": {},
   "outputs": [
    {
     "data": {
      "image/png": "[encoded data removed]",
      "text/plain": [
       "<Figure size 640x480 with 1 Axes>"
      ]
     },
     "metadata": {},
     "output_type": "display_data"
    }
   ],
   "source": [
    "fig, ax = plt.subplots()\n",
    "fig.suptitle('Feedforward model with 3 hidden layers')\n",
    "ax.set_title('Input = 244 PCA-whitening components + elevation')\n",
    "ax.semilogy(np.arange(len(train_loss)), train_loss, label='train')\n",
    "ax.semilogy(np.arange(len(val_loss)), val_loss, label='val')\n",
    "ax.set_xlabel('Epoch')\n",
    "ax.set_ylabel('Average MSE Loss')\n",
    "ax.legend()\n",
    "plt.show(fig)"
   ]
  },
  {
   "cell_type": "code",
   "execution_count": null,
   "metadata": {},
   "outputs": [],
   "source": []
  }
 ],
 "metadata": {
  "kernelspec": {
   "display_name": "cs101",
   "language": "python",
   "name": "cs101"
  },
  "language_info": {
   "codemirror_mode": {
    "name": "ipython",
    "version": 3
   },
   "file_extension": ".py",
   "mimetype": "text/x-python",
   "name": "python",
   "nbconvert_exporter": "python",
   "pygments_lexer": "ipython3",
   "version": "3.11.6"
  }
 },
 "nbformat": 4,
 "nbformat_minor": 2
}
