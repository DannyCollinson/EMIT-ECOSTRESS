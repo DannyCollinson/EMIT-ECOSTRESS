{
 "cells": [
  {
   "cell_type": "code",
   "execution_count": 86,
   "metadata": {},
   "outputs": [],
   "source": [
    "import os\n",
    "import pickle\n",
    "from typing import Union\n",
    "\n",
    "import numpy as np\n",
    "import matplotlib.pyplot as plt"
   ]
  },
  {
   "cell_type": "code",
   "execution_count": 7,
   "metadata": {},
   "outputs": [],
   "source": [
    "project_path = 'C:\\\\Users\\\\danny\\\\Documents_Local\\\\Caltech_2023-2024\\\\CS101'\n",
    "\n",
    "def join_path(relative_path: str) -> str:\n",
    "    return os.path.join(project_path, relative_path)\n",
    "\n",
    "def pickle_load(relative_path: str):  # -> pickled_file_contents\n",
    "    return pickle.load(open(join_path(relative_path), 'rb'))\n",
    "\n",
    "def pickle_save(obj: object, relative_path: str) -> None:\n",
    "    pickle.dump(obj, open(join_path(relative_path), 'wb'))"
   ]
  },
  {
   "cell_type": "code",
   "execution_count": 8,
   "metadata": {},
   "outputs": [],
   "source": [
    "# elev_list = pickle_load('Data\\\\Collapsed_Data\\\\elevation_list.pkl')\n",
    "elev = pickle_load('Data\\\\Collapsed_Data\\\\elevation.pkl')\n",
    "\n",
    "# temp_day_list = pickle_load('Data\\\\Collapsed_Data\\\\temp_list.pkl')\n",
    "temp_day = pickle_load('Data\\\\Collapsed_Data\\\\temp.pkl')\n",
    "\n",
    "# temp_night_list = pickle_load('Data\\\\Collapsed_Data\\\\temp_night_list.pkl')\n",
    "# temp_night = pickle_load('Data\\\\Collapsed_Data\\\\temp_night.pkl')\n",
    "\n",
    "# ref_list = pickle_load('Data\\\\Collapsed_Data\\\\reflectance_list.pkl')\n",
    "ref = pickle_load('Data\\\\Collapsed_Data\\\\reflectance.pkl')\n",
    "\n",
    "good_coords = pickle_load('Data\\\\Collapsed_Data\\\\good_coords.pkl')\n",
    "\n",
    "lat = pickle_load('Data\\\\Collapsed_Data\\\\latitude.pkl')\n",
    "lon = pickle_load('Data\\\\Collapsed_Data\\\\longitude.pkl')"
   ]
  },
  {
   "cell_type": "code",
   "execution_count": 41,
   "metadata": {},
   "outputs": [
    {
     "data": {
      "text/plain": [
       "<matplotlib.image.AxesImage at 0x23017fe5e50>"
      ]
     },
     "execution_count": 41,
     "metadata": {},
     "output_type": "execute_result"
    },
    {
     "data": {
      "image/png": "[encoded data removed]",
      "text/plain": [
       "<Figure size 490.959x480 with 1 Axes>"
      ]
     },
     "metadata": {},
     "output_type": "display_data"
    }
   ],
   "source": [
    "plt.matshow(good_coords[:, :])"
   ]
  },
  {
   "cell_type": "code",
   "execution_count": 104,
   "metadata": {},
   "outputs": [
    {
     "data": {
      "text/plain": [
       "(<matplotlib.image.AxesImage at 0x2301e9be410>, (1000, 800), 0)"
      ]
     },
     "execution_count": 104,
     "metadata": {},
     "output_type": "execute_result"
    },
    {
     "data": {
      "image/png": "[encoded data removed]",
      "text/plain": [
       "<Figure size 400x500 with 1 Axes>"
      ]
     },
     "metadata": {},
     "output_type": "display_data"
    }
   ],
   "source": [
    "i1, i2, j1, j2 = 400, 1400, 768, None\n",
    "test = good_coords[i1:i2, j1:j2]\n",
    "plt.matshow(test), test.shape, np.isnan(test).sum()"
   ]
  },
  {
   "cell_type": "code",
   "execution_count": 90,
   "metadata": {},
   "outputs": [],
   "source": [
    "def cnn_filter(\n",
    "    a: np.ndarray,\n",
    "    iinds: Union[np.ndarray[bool], list[bool]],\n",
    "    jinds: Union[np.ndarray[bool], list[bool], None] = None,\n",
    ") -> np.ndarray:\n",
    "    '''\n",
    "    Returns a filtered version of an array according to provided indices\n",
    "\n",
    "    Input:\n",
    "        a: the numpy array to be filtered\n",
    "        iinds: list or 1-D numpy array of booleans telling which rows to keep\n",
    "        jinds: list or 1-D numpy array of booleans telling which columns to keep\n",
    "    \n",
    "    Returns:\n",
    "        Filtered numpy array\n",
    "    '''\n",
    "    if len(a.shape) == 1:\n",
    "        a = a[:, np.newaxis, np.newaxis]\n",
    "    if len(a.shape) == 2:\n",
    "        a = a[:, :, np.newaxis]\n",
    "    a = a[iinds, :, :]\n",
    "    if jinds is not None:\n",
    "        a = a[:, jinds, :]\n",
    "    return a.squeeze()"
   ]
  },
  {
   "cell_type": "code",
   "execution_count": 106,
   "metadata": {},
   "outputs": [],
   "source": [
    "cnn_iind = np.concatenate(\n",
    "    [\n",
    "        np.zeros(400, dtype=bool),\n",
    "        np.ones(1000, dtype=bool),\n",
    "        np.zeros(good_coords.shape[0] - 1400, dtype=bool),\n",
    "    ]\n",
    ")\n",
    "cnn_jind = np.concatenate(\n",
    "    [\n",
    "        np.zeros(768, dtype=bool),\n",
    "        np.ones(good_coords.shape[1] - 768, dtype=bool)\n",
    "    ]\n",
    ")"
   ]
  },
  {
   "cell_type": "code",
   "execution_count": 107,
   "metadata": {},
   "outputs": [],
   "source": [
    "elev_cnn = cnn_filter(elev, cnn_iind, cnn_jind)\n",
    "ref_cnn = cnn_filter(ref, cnn_iind, cnn_jind)\n",
    "temp_cnn = cnn_filter(temp_day, cnn_iind, cnn_jind)\n",
    "gc_cnn = cnn_filter(good_coords, cnn_iind, cnn_jind)\n",
    "lat_cnn = cnn_filter(lat, cnn_iind)\n",
    "lon_cnn = cnn_filter(lon, cnn_jind)"
   ]
  },
  {
   "cell_type": "code",
   "execution_count": 108,
   "metadata": {},
   "outputs": [],
   "source": [
    "pickle_save(elev_cnn, 'Data\\\\CNN_Data\\\\elevation_cnn.pkl')\n",
    "pickle_save(ref_cnn, 'Data\\\\CNN_Data\\\\reflectance_cnn.pkl')\n",
    "pickle_save(temp_cnn, 'Data\\\\CNN_Data\\\\temp_cnn.pkl')\n",
    "pickle_save(gc_cnn, 'Data\\\\CNN_Data\\\\good_coords_cnn.pkl')\n",
    "pickle_save(lat_cnn, 'Data\\\\CNN_Data\\\\latitude_cnn.pkl')\n",
    "pickle_save(lon_cnn, 'Data\\\\CNN_Data\\\\longitude_cnn.pkl')"
   ]
  },
  {
   "cell_type": "code",
   "execution_count": 150,
   "metadata": {},
   "outputs": [
    {
     "data": {
      "text/plain": [
       "<matplotlib.image.AxesImage at 0x23024761990>"
      ]
     },
     "execution_count": 150,
     "metadata": {},
     "output_type": "execute_result"
    },
    {
     "data": {
      "image/png": "[encoded data removed]",
      "text/plain": [
       "<Figure size 400x500 with 1 Axes>"
      ]
     },
     "metadata": {},
     "output_type": "display_data"
    }
   ],
   "source": [
    "splits = np.zeros_like(gc_cnn)\n",
    "splits[500:, :400] += 1\n",
    "splits[500:, 400:] += 2\n",
    "plt.matshow(splits)"
   ]
  },
  {
   "cell_type": "code",
   "execution_count": 152,
   "metadata": {},
   "outputs": [],
   "source": [
    "pickle_save(\n",
    "    elev_cnn[:500, :], 'Data\\\\CNN_Data\\\\Splits\\\\elevation_cnn_train.pkl'\n",
    ")\n",
    "pickle_save(\n",
    "    ref_cnn[:500, :], 'Data\\\\CNN_Data\\\\Splits\\\\reflectance_cnn_train.pkl'\n",
    ")\n",
    "pickle_save(\n",
    "    temp_cnn[:500, :], 'Data\\\\CNN_Data\\\\Splits\\\\temp_cnn_train.pkl'\n",
    ")\n",
    "pickle_save(\n",
    "    elev_cnn[500:, :400], 'Data\\\\CNN_Data\\\\Splits\\\\elevation_cnn_val.pkl'\n",
    ")\n",
    "pickle_save(\n",
    "    ref_cnn[500:, :400], 'Data\\\\CNN_Data\\\\Splits\\\\reflectance_cnn_val.pkl'\n",
    ")\n",
    "pickle_save(\n",
    "    temp_cnn[500:, :400], 'Data\\\\CNN_Data\\\\Splits\\\\temp_cnn_val.pkl'\n",
    ")\n",
    "pickle_save(\n",
    "    elev_cnn[500:, 400:], 'Data\\\\CNN_Data\\\\Splits\\\\elevation_cnn_test.pkl'\n",
    ")\n",
    "pickle_save(\n",
    "    ref_cnn[500:, 400:], 'Data\\\\CNN_Data\\\\Splits\\\\reflectance_cnn_test.pkl'\n",
    ")\n",
    "pickle_save(\n",
    "    temp_cnn[500:, 400:], 'Data\\\\CNN_Data\\\\Splits\\\\temp_cnn_test.pkl'\n",
    ")"
   ]
  },
  {
   "cell_type": "code",
   "execution_count": 147,
   "metadata": {},
   "outputs": [
    {
     "data": {
      "text/plain": [
       "<matplotlib.image.AxesImage at 0x2301f04ddd0>"
      ]
     },
     "execution_count": 147,
     "metadata": {},
     "output_type": "execute_result"
    },
    {
     "data": {
      "image/png": "[encoded data removed]",
      "text/plain": [
       "<Figure size 400x500 with 1 Axes>"
      ]
     },
     "metadata": {},
     "output_type": "display_data"
    }
   ],
   "source": [
    "splits = np.zeros_like(gc_cnn)\n",
    "splits[:250, :200] += 1\n",
    "splits[:250, 400:600] += 1\n",
    "splits[250:500, 200:400] += 2\n",
    "splits[250:500, 600:] += 2\n",
    "splits[500:750, :200] += 1\n",
    "splits[500:750, 400:600] += 1\n",
    "splits[750:, 200:400] += 2\n",
    "splits[750:, 600:] += 2\n",
    "plt.matshow(splits)"
   ]
  },
  {
   "cell_type": "code",
   "execution_count": 149,
   "metadata": {},
   "outputs": [],
   "source": [
    "# pickle_save(splits, 'Data\\\\CNN_Data\\\\alternate_splits.pkl')"
   ]
  },
  {
   "cell_type": "code",
   "execution_count": null,
   "metadata": {},
   "outputs": [],
   "source": []
  },
  {
   "cell_type": "markdown",
   "metadata": {},
   "source": [
    "# Test the dataset class CNNDataset in Datasets.py"
   ]
  },
  {
   "cell_type": "code",
   "execution_count": 158,
   "metadata": {},
   "outputs": [],
   "source": [
    "import torch\n",
    "import torch.nn as nn\n",
    "import torch.optim as optim\n",
    "from torch.utils.data import DataLoader"
   ]
  },
  {
   "cell_type": "code",
   "execution_count": 163,
   "metadata": {},
   "outputs": [],
   "source": [
    "import sys\n",
    "import importlib\n",
    "sys.path.append(join_path('EMIT-ECOSTRESS\\\\modules'))\n",
    "import data.Datasets\n",
    "import models.TestCNN\n",
    "import utils.train"
   ]
  },
  {
   "cell_type": "code",
   "execution_count": 239,
   "metadata": {},
   "outputs": [],
   "source": [
    "# Make datasets and dataloaders\n",
    "\n",
    "# setup\n",
    "\n",
    "importlib.reload(data.Datasets)\n",
    "\n",
    "omit_components = 244 - 244\n",
    "\n",
    "batch_size = 1\n",
    "\n",
    "base_data_path = 'Data\\\\CNN_Data\\\\Splits'\n",
    "\n",
    "device = ['cuda' if torch.cuda.is_available() else 'cpu' for i in [0]][0]\n",
    "\n",
    "\n",
    "# load data\n",
    "\n",
    "emit_train = pickle_load(\n",
    "    os.path.join(base_data_path, 'reflectance_cnn_train.pkl')\n",
    ")\n",
    "emit_val = pickle_load(os.path.join(base_data_path, 'reflectance_cnn_val.pkl'))\n",
    "\n",
    "elev_train = pickle_load(\n",
    "    os.path.join(base_data_path, 'elevation_cnn_train.pkl')\n",
    ")\n",
    "elev_val = pickle_load(os.path.join(base_data_path, 'elevation_cnn_val.pkl'))\n",
    "\n",
    "eco_train = pickle_load(os.path.join(base_data_path, 'temp_cnn_train.pkl'))\n",
    "eco_val = pickle_load(os.path.join(base_data_path, 'temp_cnn_val.pkl'))\n",
    "\n",
    "\n",
    "# create datasets and dataloaders\n",
    "\n",
    "train_dataset = data.Datasets.CNNDataset(\n",
    "    emit_data=emit_train,\n",
    "    omit_components=omit_components,\n",
    "    ecostress_data=eco_train,\n",
    "    ecostress_center=None,\n",
    "    ecostress_scale=None,\n",
    "    additional_data=(elev_train,),\n",
    "    y_size=100,\n",
    "    x_size=100,\n",
    ")\n",
    "\n",
    "val_dataset = data.Datasets.CNNDataset(\n",
    "    emit_data=emit_val,\n",
    "    omit_components=omit_components,\n",
    "    ecostress_data=eco_val,\n",
    "    ecostress_center=None,\n",
    "    ecostress_scale=None,\n",
    "    additional_data=(elev_val,),\n",
    "    y_size=100,\n",
    "    x_size=100,\n",
    ")\n",
    "\n",
    "train_loader = DataLoader(\n",
    "    dataset=train_dataset, batch_size=None#, drop_last=True\n",
    ")\n",
    "val_loader = DataLoader(\n",
    "    dataset=val_dataset, batch_size=None#, drop_last=True\n",
    ")"
   ]
  },
  {
   "cell_type": "code",
   "execution_count": 240,
   "metadata": {},
   "outputs": [
    {
     "data": {
      "text/plain": [
       "TestCNN(\n",
       "  (linear): Linear(in_features=1, out_features=1, bias=True)\n",
       ")"
      ]
     },
     "execution_count": 240,
     "metadata": {},
     "output_type": "execute_result"
    }
   ],
   "source": [
    "# Make model, optimizer, and loss function\n",
    "importlib.reload(models.TestCNN)\n",
    "\n",
    "n_epochs = 3\n",
    "\n",
    "model = models.TestCNN.TestCNN(y_size=100, x_size=100, input_dim=245)\n",
    "\n",
    "if device == 'cuda':\n",
    "    model = model.cuda()\n",
    "\n",
    "optimizer = optim.Adam(\n",
    "    params=model.parameters(), lr=0.0001, weight_decay=0, fused=True\n",
    ")\n",
    "\n",
    "scheduler = optim.lr_scheduler.ReduceLROnPlateau(\n",
    "    optimizer=optimizer, factor=0.5, patience=2\n",
    ")\n",
    "# scheduler = None\n",
    "\n",
    "loss_fn = nn.MSELoss(reduction='sum')\n",
    "\n",
    "model"
   ]
  },
  {
   "cell_type": "code",
   "execution_count": 241,
   "metadata": {},
   "outputs": [
    {
     "name": "stdout",
     "output_type": "stream",
     "text": [
      "Epoch 000\t Train Loss: 1.8406e+04\t Val Loss: 1.8207e+04 \t Avg Error: 678.44\tLR: 0.0001\tTime: 0.75\n",
      "Epoch 001\t Train Loss: 1.8377e+04\t Val Loss: 1.8141e+04 \t Avg Error: 677.22\tLR: 0.0001\tTime: 0.67\n",
      "Epoch 002\t Train Loss: 1.8313e+04\t Val Loss: 1.8079e+04 \t Avg Error: 676.06\tLR: 0.0001\tTime: 0.65\n",
      "Epoch 003\t Train Loss: 1.825e+04\t Val Loss: 1.8018e+04 \t Avg Error: 674.91\tLR: 0.0001\tTime: 0.65\n"
     ]
    }
   ],
   "source": [
    "importlib.reload(utils.train)\n",
    "train_loss, val_loss = utils.train.train(\n",
    "    model,\n",
    "    optimizer,\n",
    "    scheduler,\n",
    "    loss_fn,\n",
    "    train_loader,\n",
    "    val_loader,\n",
    "    n_epochs=n_epochs,\n",
    "    loss_interval=1,\n",
    "    device=device,\n",
    ")"
   ]
  },
  {
   "cell_type": "code",
   "execution_count": null,
   "metadata": {},
   "outputs": [],
   "source": []
  }
 ],
 "metadata": {
  "kernelspec": {
   "display_name": "cs101",
   "language": "python",
   "name": "cs101"
  },
  "language_info": {
   "codemirror_mode": {
    "name": "ipython",
    "version": 3
   },
   "file_extension": ".py",
   "mimetype": "text/x-python",
   "name": "python",
   "nbconvert_exporter": "python",
   "pygments_lexer": "ipython3",
   "version": "3.11.6"
  }
 },
 "nbformat": 4,
 "nbformat_minor": 2
}
