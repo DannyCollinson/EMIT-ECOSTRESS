{
 "cells": [
  {
   "cell_type": "code",
   "execution_count": 3,
   "metadata": {},
   "outputs": [],
   "source": [
    "import os\n",
    "import pickle\n",
    "from typing import Union\n",
    "\n",
    "import numpy as np\n",
    "import matplotlib.pyplot as plt"
   ]
  },
  {
   "cell_type": "code",
   "execution_count": 4,
   "metadata": {},
   "outputs": [],
   "source": [
    "project_path = 'C:\\\\Users\\\\danny\\\\Documents_Local\\\\Caltech_2023-2024\\\\CS101'\n",
    "\n",
    "def join_path(relative_path: str) -> str:\n",
    "    return os.path.join(project_path, relative_path)\n",
    "\n",
    "def pickle_load(relative_path: str):  # -> pickled_file_contents\n",
    "    return pickle.load(open(join_path(relative_path), 'rb'))\n",
    "\n",
    "def pickle_save(obj: object, relative_path: str) -> None:\n",
    "    pickle.dump(obj, open(join_path(relative_path), 'wb'))"
   ]
  },
  {
   "cell_type": "code",
   "execution_count": 105,
   "metadata": {},
   "outputs": [],
   "source": [
    "# elev_list = pickle_load('Data\\\\Collapsed_Data\\\\elevation_list.pkl')\n",
    "elev = pickle_load('Data\\\\Collapsed_Data\\\\elevation.pkl')\n",
    "\n",
    "# temp_day_list = pickle_load('Data\\\\Collapsed_Data\\\\temp_list.pkl')\n",
    "temp_day = pickle_load('Data\\\\Collapsed_Data\\\\temp.pkl')\n",
    "\n",
    "# temp_night_list = pickle_load('Data\\\\Collapsed_Data\\\\temp_night_list.pkl')\n",
    "# temp_night = pickle_load('Data\\\\Collapsed_Data\\\\temp_night.pkl')\n",
    "\n",
    "# ref_list = pickle_load('Data\\\\Collapsed_Data\\\\reflectance_list.pkl')\n",
    "ref = pickle_load('Data\\\\Collapsed_Data\\\\reflectance.pkl')\n",
    "\n",
    "good_coords = pickle_load('Data\\\\Collapsed_Data\\\\good_coords.pkl')\n",
    "\n",
    "lat = pickle_load('Data\\\\Collapsed_Data\\\\latitude.pkl')\n",
    "lon = pickle_load('Data\\\\Collapsed_Data\\\\longitude.pkl')"
   ]
  },
  {
   "cell_type": "code",
   "execution_count": 106,
   "metadata": {},
   "outputs": [
    {
     "data": {
      "text/plain": [
       "<matplotlib.image.AxesImage at 0x1e9b8fe0fd0>"
      ]
     },
     "execution_count": 106,
     "metadata": {},
     "output_type": "execute_result"
    },
    {
     "data": {
      "image/png": "[encoded data removed]",
      "text/plain": [
       "<Figure size 490.959x480 with 1 Axes>"
      ]
     },
     "metadata": {},
     "output_type": "display_data"
    }
   ],
   "source": [
    "plt.matshow(good_coords[:, :])"
   ]
  },
  {
   "cell_type": "code",
   "execution_count": 112,
   "metadata": {},
   "outputs": [
    {
     "data": {
      "text/plain": [
       "(<matplotlib.image.AxesImage at 0x1e9cc7c5d10>, (1024, 768), 0)"
      ]
     },
     "execution_count": 112,
     "metadata": {},
     "output_type": "execute_result"
    },
    {
     "data": {
      "image/png": "[encoded data removed]",
      "text/plain": [
       "<Figure size 400x533.333 with 1 Axes>"
      ]
     },
     "metadata": {},
     "output_type": "display_data"
    }
   ],
   "source": [
    "i1, i2, j1, j2 = 400, 1424, 800, None\n",
    "test = good_coords[i1:i2, j1:j2]\n",
    "plt.matshow(test), test.shape, np.isnan(test).sum()"
   ]
  },
  {
   "cell_type": "code",
   "execution_count": 113,
   "metadata": {},
   "outputs": [],
   "source": [
    "def cnn_filter(\n",
    "    a: np.ndarray,\n",
    "    iinds: Union[np.ndarray[bool], list[bool]],\n",
    "    jinds: Union[np.ndarray[bool], list[bool], None] = None,\n",
    ") -> np.ndarray:\n",
    "    '''\n",
    "    Returns a filtered version of an array according to provided indices\n",
    "\n",
    "    Input:\n",
    "        a: the numpy array to be filtered\n",
    "        iinds: list or 1-D numpy array of booleans telling which rows to keep\n",
    "        jinds: list or 1-D numpy array of booleans telling which columns to keep\n",
    "    \n",
    "    Returns:\n",
    "        Filtered numpy array\n",
    "    '''\n",
    "    if len(a.shape) == 1:\n",
    "        a = a[:, np.newaxis, np.newaxis]\n",
    "    if len(a.shape) == 2:\n",
    "        a = a[:, :, np.newaxis]\n",
    "    a = a[iinds, :, :]\n",
    "    if jinds is not None:\n",
    "        a = a[:, jinds, :]\n",
    "    return a.squeeze()"
   ]
  },
  {
   "cell_type": "code",
   "execution_count": 114,
   "metadata": {},
   "outputs": [],
   "source": [
    "cnn_iind = np.concatenate(\n",
    "    [\n",
    "        np.zeros(400, dtype=bool),\n",
    "        np.ones(1024, dtype=bool),\n",
    "        np.zeros(good_coords.shape[0] - 1424, dtype=bool),\n",
    "    ]\n",
    ")\n",
    "cnn_jind = np.concatenate(\n",
    "    [\n",
    "        np.zeros(800, dtype=bool),\n",
    "        np.ones(good_coords.shape[1] - 800, dtype=bool)\n",
    "    ]\n",
    ")"
   ]
  },
  {
   "cell_type": "code",
   "execution_count": 115,
   "metadata": {},
   "outputs": [],
   "source": [
    "elev_cnn = cnn_filter(elev, cnn_iind, cnn_jind)\n",
    "ref_cnn = cnn_filter(ref, cnn_iind, cnn_jind)\n",
    "temp_cnn = cnn_filter(temp_day, cnn_iind, cnn_jind)\n",
    "gc_cnn = cnn_filter(good_coords, cnn_iind, cnn_jind)\n",
    "lat_cnn = cnn_filter(lat, cnn_iind)\n",
    "lon_cnn = cnn_filter(lon, cnn_jind)"
   ]
  },
  {
   "cell_type": "code",
   "execution_count": 116,
   "metadata": {},
   "outputs": [],
   "source": [
    "pickle_save(elev_cnn, 'Data\\\\CNN_Data\\\\elevation_cnn.pkl')\n",
    "pickle_save(ref_cnn, 'Data\\\\CNN_Data\\\\reflectance_cnn.pkl')\n",
    "pickle_save(temp_cnn, 'Data\\\\CNN_Data\\\\temp_cnn.pkl')\n",
    "pickle_save(gc_cnn, 'Data\\\\CNN_Data\\\\good_coords_cnn.pkl')\n",
    "pickle_save(lat_cnn, 'Data\\\\CNN_Data\\\\latitude_cnn.pkl')\n",
    "pickle_save(lon_cnn, 'Data\\\\CNN_Data\\\\longitude_cnn.pkl')"
   ]
  },
  {
   "cell_type": "code",
   "execution_count": 118,
   "metadata": {},
   "outputs": [
    {
     "data": {
      "text/plain": [
       "<matplotlib.image.AxesImage at 0x1e9cc8a8a90>"
      ]
     },
     "execution_count": 118,
     "metadata": {},
     "output_type": "execute_result"
    },
    {
     "data": {
      "image/png": "[encoded data removed]",
      "text/plain": [
       "<Figure size 400x533.333 with 1 Axes>"
      ]
     },
     "metadata": {},
     "output_type": "display_data"
    }
   ],
   "source": [
    "splits = np.zeros_like(gc_cnn)\n",
    "splits[512:, :384] += 1\n",
    "splits[512:, 384:] += 2\n",
    "plt.matshow(splits)"
   ]
  },
  {
   "cell_type": "code",
   "execution_count": 119,
   "metadata": {},
   "outputs": [],
   "source": [
    "pickle_save(\n",
    "    elev_cnn[:512, :], 'Data\\\\CNN_Data\\\\Splits\\\\elevation_cnn_train.pkl'\n",
    ")\n",
    "pickle_save(\n",
    "    ref_cnn[:512, :], 'Data\\\\CNN_Data\\\\Splits\\\\reflectance_cnn_train.pkl'\n",
    ")\n",
    "pickle_save(\n",
    "    temp_cnn[:512, :], 'Data\\\\CNN_Data\\\\Splits\\\\temp_cnn_train.pkl'\n",
    ")\n",
    "pickle_save(\n",
    "    elev_cnn[512:, :384], 'Data\\\\CNN_Data\\\\Splits\\\\elevation_cnn_val.pkl'\n",
    ")\n",
    "pickle_save(\n",
    "    ref_cnn[512:, :384], 'Data\\\\CNN_Data\\\\Splits\\\\reflectance_cnn_val.pkl'\n",
    ")\n",
    "pickle_save(\n",
    "    temp_cnn[512:, :384], 'Data\\\\CNN_Data\\\\Splits\\\\temp_cnn_val.pkl'\n",
    ")\n",
    "pickle_save(\n",
    "    elev_cnn[512:, 384:], 'Data\\\\CNN_Data\\\\Splits\\\\elevation_cnn_test.pkl'\n",
    ")\n",
    "pickle_save(\n",
    "    ref_cnn[512:, 384:], 'Data\\\\CNN_Data\\\\Splits\\\\reflectance_cnn_test.pkl'\n",
    ")\n",
    "pickle_save(\n",
    "    temp_cnn[512:, 384:], 'Data\\\\CNN_Data\\\\Splits\\\\temp_cnn_test.pkl'\n",
    ")"
   ]
  },
  {
   "cell_type": "markdown",
   "metadata": {},
   "source": [
    "# Test the dataset class CNNDataset in Datasets.py"
   ]
  },
  {
   "cell_type": "code",
   "execution_count": 5,
   "metadata": {},
   "outputs": [],
   "source": [
    "import torch\n",
    "import torch.nn as nn\n",
    "import torch.optim as optim\n",
    "from torch.utils.data import DataLoader"
   ]
  },
  {
   "cell_type": "code",
   "execution_count": 6,
   "metadata": {},
   "outputs": [],
   "source": [
    "import sys\n",
    "import importlib\n",
    "sys.path.append(join_path('EMIT-ECOSTRESS\\\\modules'))\n",
    "import datasets.Datasets\n",
    "import models.DannyCNN\n",
    "import utils.train"
   ]
  },
  {
   "cell_type": "code",
   "execution_count": 12,
   "metadata": {},
   "outputs": [],
   "source": [
    "# Make datasets and dataloaders\n",
    "\n",
    "# setup\n",
    "\n",
    "importlib.reload(datasets.Datasets)\n",
    "\n",
    "omit_components = 244 - 244\n",
    "\n",
    "batch_size = 8\n",
    "\n",
    "base_data_path = 'Data\\\\CNN_Data\\\\Splits'\n",
    "\n",
    "device = ['cuda' if torch.cuda.is_available() else 'cpu' for i in [0]][0]\n",
    "\n",
    "\n",
    "# load data\n",
    "\n",
    "emit_train = pickle_load(\n",
    "    os.path.join(base_data_path, 'reflectance_cnn_train.pkl')\n",
    ")\n",
    "emit_val = pickle_load(os.path.join(base_data_path, 'reflectance_cnn_val.pkl'))\n",
    "\n",
    "elev_train = pickle_load(\n",
    "    os.path.join(base_data_path, 'elevation_cnn_train.pkl')\n",
    ")\n",
    "elev_val = pickle_load(os.path.join(base_data_path, 'elevation_cnn_val.pkl'))\n",
    "\n",
    "eco_train = pickle_load(os.path.join(base_data_path, 'temp_cnn_train.pkl'))\n",
    "eco_val = pickle_load(os.path.join(base_data_path, 'temp_cnn_val.pkl'))\n",
    "\n",
    "\n",
    "# create datasets and dataloaders\n",
    "\n",
    "train_dataset = datasets.Datasets.CNNDataset(\n",
    "    emit_data=emit_train,\n",
    "    omit_components=omit_components,\n",
    "    ecostress_data=eco_train,\n",
    "    ecostress_center=None,\n",
    "    ecostress_scale=None,\n",
    "    additional_data=(elev_train,),\n",
    "    y_size=128,\n",
    "    x_size=128,\n",
    ")\n",
    "\n",
    "val_dataset = datasets.Datasets.CNNDataset(\n",
    "    emit_data=emit_val,\n",
    "    omit_components=omit_components,\n",
    "    ecostress_data=eco_val,\n",
    "    ecostress_center=None,\n",
    "    ecostress_scale=None,\n",
    "    additional_data=(elev_val,),\n",
    "    y_size=128,\n",
    "    x_size=128,\n",
    ")\n",
    "\n",
    "train_loader = DataLoader(\n",
    "    dataset=train_dataset, batch_size=None#, drop_last=True\n",
    ")\n",
    "val_loader = DataLoader(\n",
    "    dataset=val_dataset, batch_size=None#, drop_last=True\n",
    ")"
   ]
  },
  {
   "cell_type": "code",
   "execution_count": 34,
   "metadata": {},
   "outputs": [
    {
     "data": {
      "text/plain": [
       "SemanticSegmenter(\n",
       "  (down1): Conv2d(245, 16, kernel_size=(3, 3), stride=(2, 2), padding=(1, 1))\n",
       "  (down2): Conv2d(16, 16, kernel_size=(3, 3), stride=(2, 2), padding=(1, 1))\n",
       "  (down3): Conv2d(16, 16, kernel_size=(3, 3), stride=(2, 2), padding=(1, 1))\n",
       "  (down4): Conv2d(16, 32, kernel_size=(3, 3), stride=(2, 2), padding=(1, 1))\n",
       "  (down5): Conv2d(32, 32, kernel_size=(3, 3), stride=(2, 2), padding=(1, 1))\n",
       "  (midlinear1): Linear(in_features=512, out_features=64, bias=True)\n",
       "  (midlinear2): Linear(in_features=64, out_features=32, bias=True)\n",
       "  (midlinear3): Linear(in_features=32, out_features=16, bias=True)\n",
       "  (up4): ConvTranspose2d(33, 32, kernel_size=(3, 3), stride=(2, 2), padding=(1, 1), output_padding=(1, 1))\n",
       "  (up3): ConvTranspose2d(64, 32, kernel_size=(3, 3), stride=(2, 2), padding=(1, 1), output_padding=(1, 1))\n",
       "  (up2): ConvTranspose2d(48, 16, kernel_size=(3, 3), stride=(2, 2), padding=(1, 1), output_padding=(1, 1))\n",
       "  (up1): ConvTranspose2d(32, 16, kernel_size=(3, 3), stride=(2, 2), padding=(1, 1), output_padding=(1, 1))\n",
       "  (up0): ConvTranspose2d(32, 1, kernel_size=(3, 3), stride=(2, 2), padding=(1, 1), output_padding=(1, 1))\n",
       "  (linear_out): Linear(in_features=16384, out_features=16384, bias=True)\n",
       ")"
      ]
     },
     "execution_count": 34,
     "metadata": {},
     "output_type": "execute_result"
    }
   ],
   "source": [
    "# Make model, optimizer, and loss function\n",
    "importlib.reload(models.DannyCNN)\n",
    "\n",
    "model = models.DannyCNN.SemanticSegmenter(\n",
    "    y_size=128, x_size=128, input_dim=train_dataset.input_dim\n",
    ")\n",
    "\n",
    "if device == 'cuda':\n",
    "    model = model.cuda()\n",
    "\n",
    "optimizer = optim.Adam(\n",
    "    params=model.parameters(), lr=0.0001, weight_decay=0, fused=True\n",
    ")\n",
    "\n",
    "scheduler = optim.lr_scheduler.ReduceLROnPlateau(\n",
    "    optimizer=optimizer, factor=0.5, patience=2\n",
    ")\n",
    "# scheduler = None\n",
    "\n",
    "loss_fn = nn.MSELoss(reduction='mean')\n",
    "\n",
    "model"
   ]
  },
  {
   "cell_type": "code",
   "execution_count": 35,
   "metadata": {},
   "outputs": [
    {
     "name": "stdout",
     "output_type": "stream",
     "text": [
      "Epoch 000\t Train Loss: 1.1001\t Val Loss: 1.1127 \t Avg Error: 5.8999\tLR: 0.0001\tTime: 2.5e+01\n",
      "Epoch 001\t Train Loss: 1.1772\t Val Loss: 1.0634 \t Avg Error: 5.7677\tLR: 0.0001\tTime: 1.3e+02\n",
      "Epoch 002\t Train Loss: 1.364\t Val Loss: 0.99577 \t Avg Error: 5.5813\tLR: 0.0001\tTime: 1.2e+02\n",
      "Epoch 003\t Train Loss: 1.0447\t Val Loss: 0.9459 \t Avg Error: 5.4397\tLR: 0.0001\tTime: 1.2e+02\n",
      "Epoch 004\t Train Loss: 0.92964\t Val Loss: 0.87231 \t Avg Error: 5.2238\tLR: 0.0001\tTime: 1.2e+02\n",
      "Epoch 005\t Train Loss: 0.91199\t Val Loss: 0.84072 \t Avg Error: 5.1284\tLR: 0.0001\tTime: 1.2e+02\n",
      "Epoch 006\t Train Loss: 0.89813\t Val Loss: 0.8275 \t Avg Error: 5.0879\tLR: 0.0001\tTime: 1.2e+02\n",
      "Epoch 007\t Train Loss: 0.88048\t Val Loss: 0.79606 \t Avg Error: 4.9903\tLR: 0.0001\tTime: 1.2e+02\n",
      "Epoch 008\t Train Loss: 0.85231\t Val Loss: 0.79993 \t Avg Error: 5.0024\tLR: 0.0001\tTime: 1.2e+02\n",
      "Epoch 009\t Train Loss: 0.83126\t Val Loss: 0.75339 \t Avg Error: 4.8547\tLR: 0.0001\tTime: 1.2e+02\n",
      "Epoch 010\t Train Loss: 0.82431\t Val Loss: 0.75661 \t Avg Error: 4.8651\tLR: 0.0001\tTime: 1.2e+02\n",
      "Epoch 011\t Train Loss: 0.80706\t Val Loss: 0.76718 \t Avg Error: 4.8989\tLR: 0.0001\tTime: 1.2e+02\n",
      "Epoch 012\t Train Loss: 0.78904\t Val Loss: 0.74715 \t Avg Error: 4.8346\tLR: 0.0001\tTime: 1.2e+02\n",
      "Epoch 013\t Train Loss: 0.77481\t Val Loss: 0.7934 \t Avg Error: 4.9819\tLR: 0.0001\tTime: 1.2e+02\n",
      "Epoch 014\t Train Loss: 0.72514\t Val Loss: 0.84087 \t Avg Error: 5.1288\tLR: 0.0001\tTime: 1.2e+02\n",
      "Epoch 015\t Train Loss: 0.72089\t Val Loss: 0.759 \t Avg Error: 4.8728\tLR: 0.0001\tTime: 1.2e+02\n",
      "Epoch 016\t Train Loss: 0.6\t Val Loss: 0.80446 \t Avg Error: 5.0165\tLR: 5e-05\tTime: 1.2e+02\n",
      "Epoch 017\t Train Loss: 0.52991\t Val Loss: 0.83332 \t Avg Error: 5.1057\tLR: 5e-05\tTime: 1.2e+02\n",
      "Epoch 018\t Train Loss: 0.51835\t Val Loss: 0.85188 \t Avg Error: 5.1623\tLR: 5e-05\tTime: 1.2e+02\n",
      "Epoch 019\t Train Loss: 0.47208\t Val Loss: 0.83765 \t Avg Error: 5.119\tLR: 2.5e-05\tTime: 1.2e+02\n",
      "Epoch 020\t Train Loss: 0.45391\t Val Loss: 0.86296 \t Avg Error: 5.1958\tLR: 2.5e-05\tTime: 1.2e+02\n"
     ]
    }
   ],
   "source": [
    "importlib.reload(utils.train)\n",
    "\n",
    "n_epochs = 20\n",
    "\n",
    "train_loss, val_loss = utils.train.train(\n",
    "    model,\n",
    "    optimizer,\n",
    "    scheduler,\n",
    "    loss_fn,\n",
    "    val_loader.dataset.ecostress_scale,\n",
    "    train_loader,\n",
    "    val_loader,\n",
    "    n_epochs=n_epochs,\n",
    "    loss_interval=1,\n",
    "    device=device,\n",
    ")"
   ]
  }
 ],
 "metadata": {
  "kernelspec": {
   "display_name": "cs101",
   "language": "python",
   "name": "cs101"
  },
  "language_info": {
   "codemirror_mode": {
    "name": "ipython",
    "version": 3
   },
   "file_extension": ".py",
   "mimetype": "text/x-python",
   "name": "python",
   "nbconvert_exporter": "python",
   "pygments_lexer": "ipython3",
   "version": "3.11.6"
  }
 },
 "nbformat": 4,
 "nbformat_minor": 2
}
