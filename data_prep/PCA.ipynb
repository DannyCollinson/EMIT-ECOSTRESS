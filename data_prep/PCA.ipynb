{
  "cells": [
    {
      "cell_type": "code",
      "execution_count": 1,
      "metadata": {
        "id": "Y0_OWF3pwhK6"
      },
      "outputs": [],
      "source": [
        "import os\n",
        "import pickle\n",
        "\n",
        "import numpy as np\n",
        "import matplotlib.pyplot as plt\n",
        "from sklearn.decomposition import PCA, KernelPCA"
      ]
    },
    {
      "cell_type": "code",
      "execution_count": 2,
      "metadata": {},
      "outputs": [],
      "source": [
        "project_path = 'C:\\\\Users\\\\danny\\\\Documents_Local\\\\Caltech_2023-2024\\\\CS101'\n",
        "\n",
        "def join_path(relative_path: str) -> str:\n",
        "    return os.path.join(project_path, relative_path)\n",
        "\n",
        "def pickle_load(relative_path: str):  # -> pickled_file_contents\n",
        "    return pickle.load(open(join_path(relative_path), 'rb'))\n",
        "\n",
        "def pickle_save(obj: object, relative_path: str) -> None:\n",
        "    pickle.dump(obj, open(join_path(relative_path), 'wb'))"
      ]
    },
    {
      "cell_type": "code",
      "execution_count": 3,
      "metadata": {},
      "outputs": [],
      "source": [
        "ref = []\n",
        "lens = []\n",
        "for split_num in range(20):\n",
        "    num = \"0\"*(2-len(str(split_num))) + str(split_num)\n",
        "    ref.append(pickle_load(f'Data\\\\Split_Data\\\\reflectance_{num}.pkl'))\n",
        "    lens.append(ref[-1].shape[0])\n",
        "ref = np.concatenate(ref, axis=0)\n",
        "centers = ref.mean(axis=0)\n",
        "pickle_save(centers, 'Data\\\\Split_Data\\\\PCA\\\\channel_centers.pkl')"
      ]
    },
    {
      "cell_type": "code",
      "execution_count": 4,
      "metadata": {
        "colab": {
          "base_uri": "https://localhost:8080/",
          "height": 74
        },
        "id": "gpnqQCqOwtNB",
        "outputId": "4f25fb8e-13eb-496e-9a93-9a112b720547"
      },
      "outputs": [],
      "source": [
        "pca = PCA(n_components=ref.shape[1], whiten=True)\n",
        "ref_pca = pca.fit_transform(ref)\n",
        "pickle_save(pca, 'Data\\\\Split_Data\\\\PCA\\\\pca_object.pkl')"
      ]
    },
    {
      "cell_type": "code",
      "execution_count": 39,
      "metadata": {},
      "outputs": [],
      "source": [
        "saved = 0\n",
        "path_template = 'Data\\\\Split_Data\\\\PCA\\\\reflectance_(**).pkl'\n",
        "for split_num, length in enumerate(lens):\n",
        "    pickle_save(\n",
        "        ref_pca[saved:saved + length, :8],\n",
        "        path_template.replace(\n",
        "            '(**)', \"0\"*(2-len(str(split_num))) + str(split_num)\n",
        "        )\n",
        "    )\n",
        "    saved += length"
      ]
    },
    {
      "cell_type": "markdown",
      "metadata": {},
      "source": [
        "# Kernel PCA"
      ]
    },
    {
      "cell_type": "code",
      "execution_count": 44,
      "metadata": {},
      "outputs": [],
      "source": [
        "kpca = KernelPCA(n_components=ref.shape[1], kernel='sigmoid')\n",
        "ref_kpca = pca.fit_transform(ref)\n",
        "pickle_save(kpca, 'Data\\\\Split_Data\\\\KPCA\\\\Sigmoid\\\\pca_object.pkl')\n",
        "\n",
        "saved = 0\n",
        "path_template = 'Data\\\\Split_Data\\\\KPCA\\\\Sigmoid\\\\reflectance_(**).pkl'\n",
        "for split_num, length in enumerate(lens):\n",
        "    pickle_save(\n",
        "        ref_pca[saved:saved + length, :8],\n",
        "        path_template.replace(\n",
        "            '(**)', \"0\"*(2-len(str(split_num))) + str(split_num)\n",
        "        )\n",
        "    )\n",
        "    saved += length"
      ]
    },
    {
      "cell_type": "code",
      "execution_count": null,
      "metadata": {},
      "outputs": [],
      "source": [
        "kpca = KernelPCA(n_components=ref.shape[1], kernel='cosine')\n",
        "ref_kpca = pca.fit_transform(ref)\n",
        "pickle_save(kpca, 'Data\\\\Split_Data\\\\KPCA\\\\Cosine\\\\pca_object.pkl')\n",
        "\n",
        "saved = 0\n",
        "path_template = 'Data\\\\Split_Data\\\\KPCA\\\\Cosine\\\\reflectance_(**).pkl'\n",
        "for split_num, length in enumerate(lens):\n",
        "    pickle_save(\n",
        "        ref_pca[saved:saved + length, :8],\n",
        "        path_template.replace(\n",
        "            '(**)', \"0\"*(2-len(str(split_num))) + str(split_num)\n",
        "        )\n",
        "    )\n",
        "    saved += length"
      ]
    },
    {
      "cell_type": "code",
      "execution_count": null,
      "metadata": {},
      "outputs": [],
      "source": [
        "kpca = KernelPCA(n_components=ref.shape[1], kernel='poly', degree=2)\n",
        "ref_kpca = pca.fit_transform(ref)\n",
        "pickle_save(kpca, 'Data\\\\Split_Data\\\\KPCA\\\\Poly2\\\\pca_object.pkl')\n",
        "\n",
        "saved = 0\n",
        "path_template = 'Data\\\\Split_Data\\\\KPCA\\\\Poly2\\\\reflectance_(**).pkl'\n",
        "for split_num, length in enumerate(lens):\n",
        "    pickle_save(\n",
        "        ref_pca[saved:saved + length, :8],\n",
        "        path_template.replace(\n",
        "            '(**)', \"0\"*(2-len(str(split_num))) + str(split_num)\n",
        "        )\n",
        "    )\n",
        "    saved += length"
      ]
    },
    {
      "cell_type": "code",
      "execution_count": null,
      "metadata": {},
      "outputs": [],
      "source": [
        "kpca = KernelPCA(n_components=ref.shape[1], kernel='poly', degree=3)\n",
        "ref_kpca = pca.fit_transform(ref)\n",
        "pickle_save(kpca, 'Data\\\\Split_Data\\\\KPCA\\\\Poly3\\\\pca_object.pkl')\n",
        "\n",
        "saved = 0\n",
        "path_template = 'Data\\\\Split_Data\\\\KPCA\\\\Poly3\\\\reflectance_(**).pkl'\n",
        "for split_num, length in enumerate(lens):\n",
        "    pickle_save(\n",
        "        ref_pca[saved:saved + length, :8],\n",
        "        path_template.replace(\n",
        "            '(**)', \"0\"*(2-len(str(split_num))) + str(split_num)\n",
        "        )\n",
        "    )\n",
        "    saved += length"
      ]
    },
    {
      "cell_type": "markdown",
      "metadata": {},
      "source": [
        "# Visualization"
      ]
    },
    {
      "cell_type": "code",
      "execution_count": 5,
      "metadata": {},
      "outputs": [
        {
          "data": {
            "text/plain": [
              "[<matplotlib.lines.Line2D at 0x1c2d3dbda50>]"
            ]
          },
          "execution_count": 5,
          "metadata": {},
          "output_type": "execute_result"
        },
        {
          "data": {
            "image/png": "[encoded data removed]",
            "text/plain": [
              "<Figure size 640x480 with 1 Axes>"
            ]
          },
          "metadata": {},
          "output_type": "display_data"
        }
      ],
      "source": [
        "plt.plot(\n",
        "    [i for i in range(1,len(pca.explained_variance_ratio_) + 1)][:12],\n",
        "    [sum(pca.explained_variance_ratio_[:i])\n",
        "    for i in range(1,len(pca.explained_variance_ratio_) + 1)\n",
        "    ][:12],\n",
        "    marker='.'\n",
        ")"
      ]
    },
    {
      "cell_type": "code",
      "execution_count": 38,
      "metadata": {
        "colab": {
          "base_uri": "https://localhost:8080/"
        },
        "id": "4SMEbnIYeCSV",
        "outputId": "ebb67676-4a2e-4b3b-ba49-ed4b770d88c4"
      },
      "outputs": [
        {
          "data": {
            "text/plain": [
              "[<matplotlib.lines.Line2D at 0x1c2ddb17990>]"
            ]
          },
          "execution_count": 38,
          "metadata": {},
          "output_type": "execute_result"
        },
        {
          "data": {
            "image/png": "[encoded data removed]",
            "text/plain": [
              "<Figure size 640x480 with 1 Axes>"
            ]
          },
          "metadata": {},
          "output_type": "display_data"
        }
      ],
      "source": [
        "plt.plot(np.arange(4,13),\n",
        "    (\n",
        "        np.array(\n",
        "            [\n",
        "                pca.explained_variance_ratio_[i]\n",
        "                for i in range(0,len(pca.explained_variance_ratio_))\n",
        "            ]\n",
        "        )[:-1]\n",
        "        - np.array(\n",
        "            [\n",
        "                pca.explained_variance_ratio_[i]\n",
        "                for i in range(1,len(pca.explained_variance_ratio_))\n",
        "            ]\n",
        "        )\n",
        "    )[3:12]\n",
        ")"
      ]
    },
    {
      "cell_type": "code",
      "execution_count": 32,
      "metadata": {},
      "outputs": [
        {
          "data": {
            "text/plain": [
              "[(1, 0.8415589069233856),\n",
              " (2, 0.949069925405491),\n",
              " (3, 0.9883269125369796),\n",
              " (4, 0.9931255393800081),\n",
              " (5, 0.9967073398556665),\n",
              " (6, 0.9978349130957934),\n",
              " (7, 0.9984940750581786),\n",
              " (8, 0.9989557747474501),\n",
              " (9, 0.9991466401973589),\n",
              " (10, 0.9993104964158555),\n",
              " (11, 0.999426661561697),\n",
              " (12, 0.9995149681988845),\n",
              " (13, 0.999584494887079),\n",
              " (14, 0.9996410302832327),\n",
              " (15, 0.9996913493277185),\n",
              " (16, 0.9997400106477188),\n",
              " (17, 0.9997777542661808),\n",
              " (18, 0.9998071001252947),\n",
              " (19, 0.9998290505214986),\n",
              " (20, 0.9998491377613535),\n",
              " (21, 0.999865220573535),\n",
              " (22, 0.9998779197022643),\n",
              " (23, 0.9998893126654694),\n",
              " (24, 0.9998985738627548),\n",
              " (25, 0.9999063079422523),\n",
              " (26, 0.9999134272647137),\n",
              " (27, 0.9999202116336937),\n",
              " (28, 0.9999253918321568),\n",
              " (29, 0.9999302785035239),\n",
              " (30, 0.9999346304132319),\n",
              " (31, 0.9999384384936331),\n",
              " (32, 0.9999418284496168),\n",
              " (33, 0.9999451970618646),\n",
              " (34, 0.9999479720732827),\n",
              " (35, 0.9999507308896155),\n",
              " (36, 0.9999533091479463),\n",
              " (37, 0.9999556497669446),\n",
              " (38, 0.9999578218626437),\n",
              " (39, 0.9999598312842801),\n",
              " (40, 0.9999616614985022),\n",
              " (41, 0.9999633311306372),\n",
              " (42, 0.9999649335239732),\n",
              " (43, 0.9999664256048337),\n",
              " (44, 0.9999678396220422),\n",
              " (45, 0.9999691231480606),\n",
              " (46, 0.9999703776101483),\n",
              " (47, 0.9999714940192229),\n",
              " (48, 0.9999725292958842),\n",
              " (49, 0.9999735147159262),\n",
              " (50, 0.9999744264847058),\n",
              " (51, 0.99997530062688),\n",
              " (52, 0.9999761350622824),\n",
              " (53, 0.9999769567552856),\n",
              " (54, 0.9999777139909085),\n",
              " (55, 0.999978414431336),\n",
              " (56, 0.9999790531967869),\n",
              " (57, 0.999979659729829),\n",
              " (58, 0.9999802495860786),\n",
              " (59, 0.9999808108318491),\n",
              " (60, 0.9999813568227804),\n",
              " (61, 0.999981870603474),\n",
              " (62, 0.9999823609761129),\n",
              " (63, 0.9999828174527792),\n",
              " (64, 0.9999832442887833),\n",
              " (65, 0.9999836505177861),\n",
              " (66, 0.9999840413057214),\n",
              " (67, 0.9999844142273381),\n",
              " (68, 0.999984782386493),\n",
              " (69, 0.9999851385380311),\n",
              " (70, 0.9999854722343582),\n",
              " (71, 0.9999858008595582),\n",
              " (72, 0.9999861239584409),\n",
              " (73, 0.9999864366228202),\n",
              " (74, 0.999986744625332),\n",
              " (75, 0.9999870358917549),\n",
              " (76, 0.9999873178736263),\n",
              " (77, 0.999987596063271),\n",
              " (78, 0.9999878714903975),\n",
              " (79, 0.9999881397111973),\n",
              " (80, 0.9999884031954875),\n",
              " (81, 0.9999886665050891),\n",
              " (82, 0.9999889155944192),\n",
              " (83, 0.999989161328008),\n",
              " (84, 0.9999894048958029),\n",
              " (85, 0.9999896436645701),\n",
              " (86, 0.9999898790844544),\n",
              " (87, 0.9999901107277374),\n",
              " (88, 0.999990335874828),\n",
              " (89, 0.9999905578728793),\n",
              " (90, 0.9999907780324053),\n",
              " (91, 0.9999909953490701),\n",
              " (92, 0.9999912080021452),\n",
              " (93, 0.9999914198095156),\n",
              " (94, 0.9999916278087176),\n",
              " (95, 0.9999918341444054),\n",
              " (96, 0.9999920377853923),\n",
              " (97, 0.9999922375350314),\n",
              " (98, 0.9999924344862222),\n",
              " (99, 0.9999926288830551),\n",
              " (100, 0.999992820239739),\n",
              " (101, 0.9999930056404825),\n",
              " (102, 0.99999318690852),\n",
              " (103, 0.9999933667792222),\n",
              " (104, 0.9999935411103426),\n",
              " (105, 0.9999937127305142),\n",
              " (106, 0.9999938793464939),\n",
              " (107, 0.9999940428571158),\n",
              " (108, 0.9999942030239126),\n",
              " (109, 0.9999943603777193),\n",
              " (110, 0.9999945135186017),\n",
              " (111, 0.9999946591409005),\n",
              " (112, 0.9999948026956996),\n",
              " (113, 0.9999949415758057),\n",
              " (114, 0.9999950762563451),\n",
              " (115, 0.9999952097735679),\n",
              " (116, 0.9999953418007682),\n",
              " (117, 0.9999954687412244),\n",
              " (118, 0.9999955892432872),\n",
              " (119, 0.9999957083700154),\n",
              " (120, 0.9999958255770325),\n",
              " (121, 0.9999959408608834),\n",
              " (122, 0.9999960548944412),\n",
              " (123, 0.9999961651241657),\n",
              " (124, 0.9999962734868542),\n",
              " (125, 0.9999963792964014),\n",
              " (126, 0.9999964845067527),\n",
              " (127, 0.9999965868390174),\n",
              " (128, 0.9999966889467637),\n",
              " (129, 0.9999967884646326),\n",
              " (130, 0.9999968871927801),\n",
              " (131, 0.9999969825813244),\n",
              " (132, 0.9999970773268402),\n",
              " (133, 0.9999971718578848),\n",
              " (134, 0.9999972652059789),\n",
              " (135, 0.9999973569533868),\n",
              " (136, 0.9999974476334765),\n",
              " (137, 0.9999975370780506),\n",
              " (138, 0.9999976254721653),\n",
              " (139, 0.9999977130725146),\n",
              " (140, 0.9999977989781674),\n",
              " (141, 0.9999978840389802),\n",
              " (142, 0.9999979672719408),\n",
              " (143, 0.9999980502679342),\n",
              " (144, 0.9999981322385968),\n",
              " (145, 0.9999982134433615),\n",
              " (146, 0.999998293286958),\n",
              " (147, 0.9999983668106454),\n",
              " (148, 0.9999984374682105),\n",
              " (149, 0.999998504876698),\n",
              " (150, 0.9999985709662461),\n",
              " (151, 0.999998635639606),\n",
              " (152, 0.999998698574933),\n",
              " (153, 0.9999987603685169),\n",
              " (154, 0.9999988215291795),\n",
              " (155, 0.9999988814619789),\n",
              " (156, 0.9999989403928475),\n",
              " (157, 0.9999989983216465),\n",
              " (158, 0.9999990553657336),\n",
              " (159, 0.9999991113061987),\n",
              " (160, 0.9999991664441157),\n",
              " (161, 0.9999992208322965),\n",
              " (162, 0.9999992748870612),\n",
              " (163, 0.9999993280819864),\n",
              " (164, 0.9999993810677194),\n",
              " (165, 0.9999994334292346),\n",
              " (166, 0.9999994856916348),\n",
              " (167, 0.9999995365431287),\n",
              " (168, 0.9999995850608618),\n",
              " (169, 0.9999996327235693),\n",
              " (170, 0.9999996767371563),\n",
              " (171, 0.9999997194407125),\n",
              " (172, 0.999999749853479),\n",
              " (173, 0.9999997757727286),\n",
              " (174, 0.9999997962343294),\n",
              " (175, 0.9999998144985653),\n",
              " (176, 0.9999998296903216),\n",
              " (177, 0.9999998433438431),\n",
              " (178, 0.999999853075552),\n",
              " (179, 0.9999998622975751),\n",
              " (180, 0.9999998703292934),\n",
              " (181, 0.9999998772372016),\n",
              " (182, 0.9999998835330006),\n",
              " (183, 0.9999998891109448),\n",
              " (184, 0.9999998943376333),\n",
              " (185, 0.9999998992476284),\n",
              " (186, 0.9999999039702626),\n",
              " (187, 0.9999999082949356),\n",
              " (188, 0.9999999119507583),\n",
              " (189, 0.999999915520483),\n",
              " (190, 0.9999999187377857),\n",
              " (191, 0.9999999218024025),\n",
              " (192, 0.999999924693584),\n",
              " (193, 0.999999927563998),\n",
              " (194, 0.9999999303048098),\n",
              " (195, 0.9999999329150621),\n",
              " (196, 0.9999999354753545),\n",
              " (197, 0.9999999380179461),\n",
              " (198, 0.9999999404560134),\n",
              " (199, 0.9999999428596329),\n",
              " (200, 0.9999999452194899),\n",
              " (201, 0.9999999475636725),\n",
              " (202, 0.9999999498005346),\n",
              " (203, 0.9999999520104522),\n",
              " (204, 0.9999999541650615),\n",
              " (205, 0.999999956291729),\n",
              " (206, 0.999999958326405),\n",
              " (207, 0.9999999602952517),\n",
              " (208, 0.9999999621267347),\n",
              " (209, 0.9999999639239365),\n",
              " (210, 0.9999999657136172),\n",
              " (211, 0.9999999674250766),\n",
              " (212, 0.9999999691264497),\n",
              " (213, 0.9999999707377207),\n",
              " (214, 0.9999999723238983),\n",
              " (215, 0.9999999738579393),\n",
              " (216, 0.999999975332525),\n",
              " (217, 0.9999999767407697),\n",
              " (218, 0.9999999781253509),\n",
              " (219, 0.9999999794516335),\n",
              " (220, 0.9999999807297557),\n",
              " (221, 0.9999999819989484),\n",
              " (222, 0.9999999832296887),\n",
              " (223, 0.9999999844333851),\n",
              " (224, 0.999999985624529),\n",
              " (225, 0.9999999867947861),\n",
              " (226, 0.9999999879404984),\n",
              " (227, 0.9999999890008912),\n",
              " (228, 0.9999999900297938),\n",
              " (229, 0.9999999910133276),\n",
              " (230, 0.9999999919605106),\n",
              " (231, 0.9999999928819325),\n",
              " (232, 0.9999999937914642),\n",
              " (233, 0.9999999946509744),\n",
              " (234, 0.9999999954924732),\n",
              " (235, 0.9999999963240551),\n",
              " (236, 0.9999999970827671),\n",
              " (237, 0.9999999978021087),\n",
              " (238, 0.999999998501514),\n",
              " (239, 0.9999999991630713),\n",
              " (240, 0.9999999997699398),\n",
              " (241, 0.9999999999785649),\n",
              " (242, 0.9999999999958099),\n",
              " (243, 0.9999999999982797),\n",
              " (244, 0.9999999999999994)]"
            ]
          },
          "execution_count": 32,
          "metadata": {},
          "output_type": "execute_result"
        }
      ],
      "source": [
        "[\n",
        "    (\n",
        "        i,\n",
        "        sum(pca.explained_variance_ratio_[:i])\n",
        "    )\n",
        "        for i in range(1,len(pca.explained_variance_ratio_) + 1)\n",
        "]"
      ]
    }
  ],
  "metadata": {
    "colab": {
      "authorship_tag": "ABX9TyN/5ifeZNaz1R8mv+pjM1et",
      "include_colab_link": true,
      "mount_file_id": "1oU1kvLQpRqjS5kbPHzQd4FrNqPGU9J-y",
      "provenance": []
    },
    "kernelspec": {
      "display_name": "cs101",
      "language": "python",
      "name": "cs101"
    },
    "language_info": {
      "codemirror_mode": {
        "name": "ipython",
        "version": 3
      },
      "file_extension": ".py",
      "mimetype": "text/x-python",
      "name": "python",
      "nbconvert_exporter": "python",
      "pygments_lexer": "ipython3",
      "version": "3.11.6"
    }
  },
  "nbformat": 4,
  "nbformat_minor": 0
}
