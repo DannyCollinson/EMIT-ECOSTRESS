{
  "nbformat": 4,
  "nbformat_minor": 0,
  "metadata": {
    "colab": {
      "provenance": [],
      "authorship_tag": "ABX9TyMdvQNoD4hPiQ6X9K9CO68H",
      "include_colab_link": true
    },
    "kernelspec": {
      "name": "python3",
      "display_name": "Python 3"
    },
    "language_info": {
      "name": "python"
    }
  },
  "cells": [
    {
      "cell_type": "markdown",
      "metadata": {
        "id": "view-in-github",
        "colab_type": "text"
      },
      "source": [
        "<a href=\"https://colab.research.google.com/github/DannyCollinson/EMIT-ECOSTRESS/blob/Data/PCA.ipynb\" target=\"_parent\"><img src=\"https://colab.research.google.com/assets/colab-badge.svg\" alt=\"Open In Colab\"/></a>"
      ]
    },
    {
      "cell_type": "code",
      "execution_count": null,
      "metadata": {
        "id": "Y0_OWF3pwhK6"
      },
      "outputs": [],
      "source": [
        "import pickle\n",
        "\n",
        "from sklearn.decomposition import PCA"
      ]
    },
    {
      "cell_type": "code",
      "source": [
        "emit_num = '002'\n",
        "ecostress_tag = 'SLT'\n",
        "pca_var = 0.9999\n",
        "whiten = False\n",
        "emit_path = f'/content/drive/Shareddrives/emit-ecostress/Data/02_Resampling_ECOSTRESS_EMIT_Matchup/emit_{emit_num}x{ecostress_tag}_clean.pkl'\n",
        "emit_out_path = f'/content/drive/Shareddrives/emit-ecostress/Data/02_Resampling_ECOSTRESS_EMIT_Matchup/emit_{emit_num}x{ecostress_tag}_pca{str(pca_var)}.pkl'\n",
        "if whiten:\n",
        "    emit_out_path = f'/content/drive/Shareddrives/emit-ecostress/Data/02_Resampling_ECOSTRESS_EMIT_Matchup/emit_{emit_num}x{ecostress_tag}_pca{str(pca_var)}white.pkl'"
      ],
      "metadata": {
        "id": "5dgAYbfRxrQB"
      },
      "execution_count": null,
      "outputs": []
    },
    {
      "cell_type": "code",
      "source": [
        "emit = pickle.load(open(emit_path, 'rb'))"
      ],
      "metadata": {
        "id": "PISGkxXpyt4l"
      },
      "execution_count": null,
      "outputs": []
    },
    {
      "cell_type": "code",
      "source": [
        "pca = PCA(n_components=pca_var, whiten=whiten)\n",
        "pca_spectra = pca.fit_transform(\n",
        "    emit.reshape(\n",
        "        emit.shape[0] * emit.shape[1],\n",
        "        emit.shape[2],\n",
        "    )\n",
        ")"
      ],
      "metadata": {
        "id": "gpnqQCqOwtNB"
      },
      "execution_count": null,
      "outputs": []
    },
    {
      "cell_type": "code",
      "source": [
        "pickle.dump(pca_spectra, open(emit_out_path, 'wb'))"
      ],
      "metadata": {
        "id": "buCoUqz-zQIc"
      },
      "execution_count": null,
      "outputs": []
    }
  ]
}