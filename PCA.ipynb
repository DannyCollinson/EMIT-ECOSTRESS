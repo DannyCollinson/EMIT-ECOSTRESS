{
  "nbformat": 4,
  "nbformat_minor": 0,
  "metadata": {
    "colab": {
      "provenance": [],
      "mount_file_id": "1oU1kvLQpRqjS5kbPHzQd4FrNqPGU9J-y",
      "authorship_tag": "ABX9TyN/5ifeZNaz1R8mv+pjM1et",
      "include_colab_link": true
    },
    "kernelspec": {
      "name": "python3",
      "display_name": "Python 3"
    },
    "language_info": {
      "name": "python"
    }
  },
  "cells": [
    {
      "cell_type": "markdown",
      "metadata": {
        "id": "view-in-github",
        "colab_type": "text"
      },
      "source": [
        "<a href=\"https://colab.research.google.com/github/DannyCollinson/EMIT-ECOSTRESS/blob/Data/PCA.ipynb\" target=\"_parent\"><img src=\"https://colab.research.google.com/assets/colab-badge.svg\" alt=\"Open In Colab\"/></a>"
      ]
    },
    {
      "cell_type": "code",
      "execution_count": null,
      "metadata": {
        "id": "Y0_OWF3pwhK6"
      },
      "outputs": [],
      "source": [
        "import pickle\n",
        "\n",
        "from sklearn.decomposition import PCA"
      ]
    },
    {
      "cell_type": "code",
      "source": [
        "whiten = True\n",
        "emit_path = '/content/drive/Shareddrives/emit-ecostress/Data/Train_Val_Test/emit_(__).pkl'\n",
        "emit_out_path = '/content/drive/Shareddrives/emit-ecostress/Data/Train_Val_Test/emit_(__)_pca.pkl'\n",
        "if whiten:\n",
        "    emit_out_path = '/content/drive/Shareddrives/emit-ecostress/Data/Train_Val_Test/emit_(__)_pca_white.pkl'"
      ],
      "metadata": {
        "id": "5dgAYbfRxrQB"
      },
      "execution_count": null,
      "outputs": []
    },
    {
      "cell_type": "code",
      "source": [
        "emit_train = pickle.load(open(emit_path.replace('(__)', 'train'), 'rb'))"
      ],
      "metadata": {
        "id": "PISGkxXpyt4l"
      },
      "execution_count": null,
      "outputs": []
    },
    {
      "cell_type": "code",
      "source": [
        "pca = PCA(n_components=emit_train.shape[1], whiten=whiten)\n",
        "pca.fit(emit_train)"
      ],
      "metadata": {
        "colab": {
          "base_uri": "https://localhost:8080/",
          "height": 74
        },
        "id": "gpnqQCqOwtNB",
        "outputId": "4f25fb8e-13eb-496e-9a93-9a112b720547"
      },
      "execution_count": null,
      "outputs": [
        {
          "output_type": "execute_result",
          "data": {
            "text/plain": [
              "PCA(n_components=244, whiten=True)"
            ],
            "text/html": [
              "<style>#sk-container-id-1 {color: black;background-color: white;}#sk-container-id-1 pre{padding: 0;}#sk-container-id-1 div.sk-toggleable {background-color: white;}#sk-container-id-1 label.sk-toggleable__label {cursor: pointer;display: block;width: 100%;margin-bottom: 0;padding: 0.3em;box-sizing: border-box;text-align: center;}#sk-container-id-1 label.sk-toggleable__label-arrow:before {content: \"▸\";float: left;margin-right: 0.25em;color: #696969;}#sk-container-id-1 label.sk-toggleable__label-arrow:hover:before {color: black;}#sk-container-id-1 div.sk-estimator:hover label.sk-toggleable__label-arrow:before {color: black;}#sk-container-id-1 div.sk-toggleable__content {max-height: 0;max-width: 0;overflow: hidden;text-align: left;background-color: #f0f8ff;}#sk-container-id-1 div.sk-toggleable__content pre {margin: 0.2em;color: black;border-radius: 0.25em;background-color: #f0f8ff;}#sk-container-id-1 input.sk-toggleable__control:checked~div.sk-toggleable__content {max-height: 200px;max-width: 100%;overflow: auto;}#sk-container-id-1 input.sk-toggleable__control:checked~label.sk-toggleable__label-arrow:before {content: \"▾\";}#sk-container-id-1 div.sk-estimator input.sk-toggleable__control:checked~label.sk-toggleable__label {background-color: #d4ebff;}#sk-container-id-1 div.sk-label input.sk-toggleable__control:checked~label.sk-toggleable__label {background-color: #d4ebff;}#sk-container-id-1 input.sk-hidden--visually {border: 0;clip: rect(1px 1px 1px 1px);clip: rect(1px, 1px, 1px, 1px);height: 1px;margin: -1px;overflow: hidden;padding: 0;position: absolute;width: 1px;}#sk-container-id-1 div.sk-estimator {font-family: monospace;background-color: #f0f8ff;border: 1px dotted black;border-radius: 0.25em;box-sizing: border-box;margin-bottom: 0.5em;}#sk-container-id-1 div.sk-estimator:hover {background-color: #d4ebff;}#sk-container-id-1 div.sk-parallel-item::after {content: \"\";width: 100%;border-bottom: 1px solid gray;flex-grow: 1;}#sk-container-id-1 div.sk-label:hover label.sk-toggleable__label {background-color: #d4ebff;}#sk-container-id-1 div.sk-serial::before {content: \"\";position: absolute;border-left: 1px solid gray;box-sizing: border-box;top: 0;bottom: 0;left: 50%;z-index: 0;}#sk-container-id-1 div.sk-serial {display: flex;flex-direction: column;align-items: center;background-color: white;padding-right: 0.2em;padding-left: 0.2em;position: relative;}#sk-container-id-1 div.sk-item {position: relative;z-index: 1;}#sk-container-id-1 div.sk-parallel {display: flex;align-items: stretch;justify-content: center;background-color: white;position: relative;}#sk-container-id-1 div.sk-item::before, #sk-container-id-1 div.sk-parallel-item::before {content: \"\";position: absolute;border-left: 1px solid gray;box-sizing: border-box;top: 0;bottom: 0;left: 50%;z-index: -1;}#sk-container-id-1 div.sk-parallel-item {display: flex;flex-direction: column;z-index: 1;position: relative;background-color: white;}#sk-container-id-1 div.sk-parallel-item:first-child::after {align-self: flex-end;width: 50%;}#sk-container-id-1 div.sk-parallel-item:last-child::after {align-self: flex-start;width: 50%;}#sk-container-id-1 div.sk-parallel-item:only-child::after {width: 0;}#sk-container-id-1 div.sk-dashed-wrapped {border: 1px dashed gray;margin: 0 0.4em 0.5em 0.4em;box-sizing: border-box;padding-bottom: 0.4em;background-color: white;}#sk-container-id-1 div.sk-label label {font-family: monospace;font-weight: bold;display: inline-block;line-height: 1.2em;}#sk-container-id-1 div.sk-label-container {text-align: center;}#sk-container-id-1 div.sk-container {/* jupyter's `normalize.less` sets `[hidden] { display: none; }` but bootstrap.min.css set `[hidden] { display: none !important; }` so we also need the `!important` here to be able to override the default hidden behavior on the sphinx rendered scikit-learn.org. See: https://github.com/scikit-learn/scikit-learn/issues/21755 */display: inline-block !important;position: relative;}#sk-container-id-1 div.sk-text-repr-fallback {display: none;}</style><div id=\"sk-container-id-1\" class=\"sk-top-container\"><div class=\"sk-text-repr-fallback\"><pre>PCA(n_components=244, whiten=True)</pre><b>In a Jupyter environment, please rerun this cell to show the HTML representation or trust the notebook. <br />On GitHub, the HTML representation is unable to render, please try loading this page with nbviewer.org.</b></div><div class=\"sk-container\" hidden><div class=\"sk-item\"><div class=\"sk-estimator sk-toggleable\"><input class=\"sk-toggleable__control sk-hidden--visually\" id=\"sk-estimator-id-1\" type=\"checkbox\" checked><label for=\"sk-estimator-id-1\" class=\"sk-toggleable__label sk-toggleable__label-arrow\">PCA</label><div class=\"sk-toggleable__content\"><pre>PCA(n_components=244, whiten=True)</pre></div></div></div></div></div>"
            ]
          },
          "metadata": {},
          "execution_count": 4
        }
      ]
    },
    {
      "cell_type": "code",
      "source": [
        "pca_path = '/content/drive/Shareddrives/emit-ecostress/Data/Train_Val_Test/pca_object.pkl'\n",
        "if whiten:\n",
        "    pca_path = '/content/drive/Shareddrives/emit-ecostress/Data/Train_Val_Test/pca_white_object.pkl'\n",
        "pickle.dump(pca, open(pca_path, 'wb'))"
      ],
      "metadata": {
        "id": "nFidwxmQdo2F"
      },
      "execution_count": null,
      "outputs": []
    },
    {
      "cell_type": "code",
      "source": [
        "emit_train_pca = pca.transform(emit_train)"
      ],
      "metadata": {
        "id": "nlLs55shbWjF"
      },
      "execution_count": null,
      "outputs": []
    },
    {
      "cell_type": "code",
      "source": [
        "pickle.dump(emit_train_pca, open(emit_out_path.replace('(__)', 'train'), 'wb'))"
      ],
      "metadata": {
        "id": "nEXdbbMldX8k"
      },
      "execution_count": null,
      "outputs": []
    },
    {
      "cell_type": "code",
      "source": [
        "emit_val = pickle.load(open(emit_path.replace('(__)', 'val'), 'rb'))\n",
        "emit_test = pickle.load(open(emit_path.replace('(__)', 'test'), 'rb'))"
      ],
      "metadata": {
        "id": "pVfWuN8GcyVB"
      },
      "execution_count": null,
      "outputs": []
    },
    {
      "cell_type": "code",
      "source": [
        "emit_val_pca = pca.transform(emit_val)\n",
        "emit_test_pca = pca.transform(emit_test)"
      ],
      "metadata": {
        "id": "3hoDq5s3dLox"
      },
      "execution_count": null,
      "outputs": []
    },
    {
      "cell_type": "code",
      "source": [
        "pickle.dump(emit_val_pca, open(emit_out_path.replace('(__)', 'val'), 'wb'))\n",
        "pickle.dump(emit_test_pca, open(emit_out_path.replace('(__)', 'test'), 'wb'))"
      ],
      "metadata": {
        "id": "buCoUqz-zQIc"
      },
      "execution_count": null,
      "outputs": []
    },
    {
      "cell_type": "code",
      "source": [
        "[\n",
        "    (i, sum(pca.explained_variance_ratio_[:i]))\n",
        "    for i in range(1,len(pca.explained_variance_ratio_) + 1)\n",
        "]"
      ],
      "metadata": {
        "colab": {
          "base_uri": "https://localhost:8080/"
        },
        "id": "4SMEbnIYeCSV",
        "outputId": "ebb67676-4a2e-4b3b-ba49-ed4b770d88c4"
      },
      "execution_count": null,
      "outputs": [
        {
          "output_type": "execute_result",
          "data": {
            "text/plain": [
              "[(1, 0.9040316816927962),\n",
              " (2, 0.9730730905573661),\n",
              " (3, 0.9919475327215898),\n",
              " (4, 0.9949094820821385),\n",
              " (5, 0.9969534339661534),\n",
              " (6, 0.9982330880394776),\n",
              " (7, 0.9987936971892922),\n",
              " (8, 0.9992299741249238),\n",
              " (9, 0.999404567849357),\n",
              " (10, 0.9995031840468723),\n",
              " (11, 0.9995852973256787),\n",
              " (12, 0.9996556878795326),\n",
              " (13, 0.9997159989446257),\n",
              " (14, 0.9997632016524541),\n",
              " (15, 0.9997952508668555),\n",
              " (16, 0.9998229154780843),\n",
              " (17, 0.9998479015912985),\n",
              " (18, 0.9998644369517194),\n",
              " (19, 0.9998801086939378),\n",
              " (20, 0.9998931883687631),\n",
              " (21, 0.9999041977061526),\n",
              " (22, 0.9999127482610422),\n",
              " (23, 0.9999198868566201),\n",
              " (24, 0.9999265008601634),\n",
              " (25, 0.9999321755902952),\n",
              " (26, 0.9999370155684559),\n",
              " (27, 0.9999412393115823),\n",
              " (28, 0.9999450445508808),\n",
              " (29, 0.9999484132544791),\n",
              " (30, 0.9999517475892697),\n",
              " (31, 0.9999545543339181),\n",
              " (32, 0.9999569785282992),\n",
              " (33, 0.9999592513129605),\n",
              " (34, 0.9999613237505527),\n",
              " (35, 0.9999633145968766),\n",
              " (36, 0.9999652592427807),\n",
              " (37, 0.9999669759401637),\n",
              " (38, 0.9999685086437365),\n",
              " (39, 0.9999698569068664),\n",
              " (40, 0.9999711800455044),\n",
              " (41, 0.9999724884499465),\n",
              " (42, 0.9999736257203525),\n",
              " (43, 0.9999747121711282),\n",
              " (44, 0.999975723930394),\n",
              " (45, 0.9999766739764218),\n",
              " (46, 0.9999775282545581),\n",
              " (47, 0.9999783550185285),\n",
              " (48, 0.9999791282202711),\n",
              " (49, 0.999979833071329),\n",
              " (50, 0.9999805107196547),\n",
              " (51, 0.9999811621361265),\n",
              " (52, 0.9999817844965292),\n",
              " (53, 0.9999823504286594),\n",
              " (54, 0.9999828932300105),\n",
              " (55, 0.999983398466787),\n",
              " (56, 0.9999838836472579),\n",
              " (57, 0.9999843275079624),\n",
              " (58, 0.9999847580975144),\n",
              " (59, 0.9999851741554421),\n",
              " (60, 0.9999855724409372),\n",
              " (61, 0.9999859601673836),\n",
              " (62, 0.9999863256053431),\n",
              " (63, 0.999986659068968),\n",
              " (64, 0.9999869819012591),\n",
              " (65, 0.9999872966746438),\n",
              " (66, 0.9999875998147939),\n",
              " (67, 0.999987884448288),\n",
              " (68, 0.9999881662185902),\n",
              " (69, 0.9999884248089914),\n",
              " (70, 0.9999886808298939),\n",
              " (71, 0.9999889301659279),\n",
              " (72, 0.9999891754758623),\n",
              " (73, 0.9999894114134988),\n",
              " (74, 0.9999896346617957),\n",
              " (75, 0.9999898535120066),\n",
              " (76, 0.9999900664702547),\n",
              " (77, 0.9999902771565891),\n",
              " (78, 0.9999904855048651),\n",
              " (79, 0.9999906913285324),\n",
              " (80, 0.9999908909861923),\n",
              " (81, 0.9999910806796148),\n",
              " (82, 0.9999912650521561),\n",
              " (83, 0.9999914480040121),\n",
              " (84, 0.9999916291931045),\n",
              " (85, 0.9999918065969653),\n",
              " (86, 0.9999919825130326),\n",
              " (87, 0.9999921569125133),\n",
              " (88, 0.999992325271947),\n",
              " (89, 0.9999924924972282),\n",
              " (90, 0.9999926573365571),\n",
              " (91, 0.9999928198417574),\n",
              " (92, 0.9999929806651321),\n",
              " (93, 0.9999931375797049),\n",
              " (94, 0.999993293747802),\n",
              " (95, 0.9999934471382362),\n",
              " (96, 0.9999935998790975),\n",
              " (97, 0.9999937509094158),\n",
              " (98, 0.9999939000939257),\n",
              " (99, 0.9999940460100625),\n",
              " (100, 0.9999941905750501),\n",
              " (101, 0.9999943325873066),\n",
              " (102, 0.9999944731348664),\n",
              " (103, 0.9999946124208682),\n",
              " (104, 0.9999947477952812),\n",
              " (105, 0.9999948808815986),\n",
              " (106, 0.9999950116028217),\n",
              " (107, 0.9999951393472581),\n",
              " (108, 0.9999952650854462),\n",
              " (109, 0.9999953890929323),\n",
              " (110, 0.999995511300152),\n",
              " (111, 0.9999956317225976),\n",
              " (112, 0.99999575020408),\n",
              " (113, 0.9999958619038575),\n",
              " (114, 0.9999959664631124),\n",
              " (115, 0.9999960702120613),\n",
              " (116, 0.9999961721681404),\n",
              " (117, 0.9999962733497444),\n",
              " (118, 0.999996372949354),\n",
              " (119, 0.9999964700768397),\n",
              " (120, 0.9999965669385658),\n",
              " (121, 0.9999966591790218),\n",
              " (122, 0.9999967494094697),\n",
              " (123, 0.9999968364202886),\n",
              " (124, 0.9999969206668115),\n",
              " (125, 0.9999970036019362),\n",
              " (126, 0.9999970861548347),\n",
              " (127, 0.9999971666321095),\n",
              " (128, 0.9999972464717706),\n",
              " (129, 0.9999973238615073),\n",
              " (130, 0.9999973999003688),\n",
              " (131, 0.999997475130979),\n",
              " (132, 0.9999975484334166),\n",
              " (133, 0.9999976211009611),\n",
              " (134, 0.9999976934371066),\n",
              " (135, 0.999997764763813),\n",
              " (136, 0.9999978348403536),\n",
              " (137, 0.999997904273183),\n",
              " (138, 0.9999979732265953),\n",
              " (139, 0.999998040994584),\n",
              " (140, 0.9999981080443139),\n",
              " (141, 0.9999981738318622),\n",
              " (142, 0.9999982388443873),\n",
              " (143, 0.9999983034593781),\n",
              " (144, 0.9999983669876618),\n",
              " (145, 0.9999984296192932),\n",
              " (146, 0.9999984918865146),\n",
              " (147, 0.999998553576618),\n",
              " (148, 0.9999986140604399),\n",
              " (149, 0.9999986729542),\n",
              " (150, 0.9999987314469163),\n",
              " (151, 0.9999987876347742),\n",
              " (152, 0.9999988420603739),\n",
              " (153, 0.9999988958631769),\n",
              " (154, 0.9999989490798735),\n",
              " (155, 0.999999001284689),\n",
              " (156, 0.9999990523519937),\n",
              " (157, 0.9999991031298893),\n",
              " (158, 0.9999991534313293),\n",
              " (159, 0.9999992025762757),\n",
              " (160, 0.9999992505081438),\n",
              " (161, 0.9999992979619787),\n",
              " (162, 0.9999993449233887),\n",
              " (163, 0.9999993913587771),\n",
              " (164, 0.9999994372709213),\n",
              " (165, 0.9999994825599854),\n",
              " (166, 0.9999995268725598),\n",
              " (167, 0.9999995700674045),\n",
              " (168, 0.9999996115298326),\n",
              " (169, 0.9999996496227835),\n",
              " (170, 0.9999996865126977),\n",
              " (171, 0.9999997214236238),\n",
              " (172, 0.9999997455183285),\n",
              " (173, 0.9999997683688094),\n",
              " (174, 0.9999997875332062),\n",
              " (175, 0.9999998048151527),\n",
              " (176, 0.9999998185820341),\n",
              " (177, 0.9999998307016702),\n",
              " (178, 0.9999998402937296),\n",
              " (179, 0.9999998496447674),\n",
              " (180, 0.9999998571137494),\n",
              " (181, 0.9999998642506185),\n",
              " (182, 0.9999998708220055),\n",
              " (183, 0.9999998773542323),\n",
              " (184, 0.9999998830411698),\n",
              " (185, 0.9999998883343515),\n",
              " (186, 0.9999998931368553),\n",
              " (187, 0.9999998976320423),\n",
              " (188, 0.9999999015890789),\n",
              " (189, 0.9999999051935665),\n",
              " (190, 0.99999990864948),\n",
              " (191, 0.9999999119925639),\n",
              " (192, 0.999999915076715),\n",
              " (193, 0.9999999180685075),\n",
              " (194, 0.9999999209952131),\n",
              " (195, 0.9999999238389109),\n",
              " (196, 0.9999999266531018),\n",
              " (197, 0.9999999294249347),\n",
              " (198, 0.99999993213998),\n",
              " (199, 0.9999999347974367),\n",
              " (200, 0.999999937419844),\n",
              " (201, 0.999999939984835),\n",
              " (202, 0.9999999424395949),\n",
              " (203, 0.9999999448804989),\n",
              " (204, 0.9999999472303209),\n",
              " (205, 0.9999999495695276),\n",
              " (206, 0.9999999518532524),\n",
              " (207, 0.9999999540080903),\n",
              " (208, 0.9999999560808202),\n",
              " (209, 0.9999999581421825),\n",
              " (210, 0.9999999601133513),\n",
              " (211, 0.9999999620758233),\n",
              " (212, 0.9999999640245671),\n",
              " (213, 0.9999999659436494),\n",
              " (214, 0.9999999677722489),\n",
              " (215, 0.9999999695593862),\n",
              " (216, 0.9999999713030935),\n",
              " (217, 0.9999999729904901),\n",
              " (218, 0.9999999745450998),\n",
              " (219, 0.9999999760415319),\n",
              " (220, 0.999999977526437),\n",
              " (221, 0.9999999790040683),\n",
              " (222, 0.9999999803903218),\n",
              " (223, 0.9999999817625937),\n",
              " (224, 0.9999999831093203),\n",
              " (225, 0.9999999844303774),\n",
              " (226, 0.9999999857314629),\n",
              " (227, 0.9999999869913345),\n",
              " (228, 0.9999999882029081),\n",
              " (229, 0.9999999893911159),\n",
              " (230, 0.99999999055117),\n",
              " (231, 0.9999999916527424),\n",
              " (232, 0.9999999927064526),\n",
              " (233, 0.9999999937321861),\n",
              " (234, 0.9999999947105203),\n",
              " (235, 0.9999999956386806),\n",
              " (236, 0.9999999965153291),\n",
              " (237, 0.9999999973862663),\n",
              " (238, 0.9999999982119177),\n",
              " (239, 0.9999999990353624),\n",
              " (240, 0.9999999997265042),\n",
              " (241, 0.9999999999691409),\n",
              " (242, 0.9999999999902728),\n",
              " (243, 0.9999999999979702),\n",
              " (244, 1.0000000000000002)]"
            ]
          },
          "metadata": {},
          "execution_count": 11
        }
      ]
    },
    {
      "cell_type": "code",
      "source": [
        "for n_components in [1, 3, 8, 21, 76, 100]:\n",
        "    pickle.dump(emit_train_pca[:, :n_components], open(emit_out_path.replace('(__)', 'train').replace('pca', 'pca' + str(n_components)), 'wb'))\n",
        "    pickle.dump(emit_val_pca[:, :n_components], open(emit_out_path.replace('(__)', 'val').replace('pca', 'pca' + str(n_components)), 'wb'))\n",
        "    pickle.dump(emit_test_pca[:, :n_components], open(emit_out_path.replace('(__)', 'test').replace('pca', 'pca' + str(n_components)), 'wb'))"
      ],
      "metadata": {
        "id": "fEi1gvMmeRL_"
      },
      "execution_count": null,
      "outputs": []
    },
    {
      "cell_type": "code",
      "source": [],
      "metadata": {
        "id": "ntI7KOvQ6-UC"
      },
      "execution_count": null,
      "outputs": []
    }
  ]
}